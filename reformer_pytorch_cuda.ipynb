{
  "nbformat": 4,
  "nbformat_minor": 0,
  "metadata": {
    "colab": {
      "name": "reformer_pytorch_cuda.ipynb",
      "provenance": [],
      "collapsed_sections": [],
      "authorship_tag": "ABX9TyPDUu9Q9kx3N1+mr3NgJBXO",
      "include_colab_link": true
    },
    "kernelspec": {
      "name": "python3",
      "display_name": "Python 3"
    },
    "accelerator": "GPU"
  },
  "cells": [
    {
      "cell_type": "markdown",
      "metadata": {
        "id": "view-in-github",
        "colab_type": "text"
      },
      "source": [
        "<a href=\"https://colab.research.google.com/github/xSakix/AI_colab_notebooks/blob/master/reformer_pytorch_cuda.ipynb\" target=\"_parent\"><img src=\"https://colab.research.google.com/assets/colab-badge.svg\" alt=\"Open In Colab\"/></a>"
      ]
    },
    {
      "cell_type": "code",
      "metadata": {
        "id": "n6yaVql88P9Z",
        "colab_type": "code",
        "outputId": "f4dc9ae6-5f3e-4fed-fadd-3f893dacc328",
        "colab": {
          "base_uri": "https://localhost:8080/",
          "height": 459
        }
      },
      "source": [
        "!pip install torch\n",
        "!pip install reformer_pytorch\n",
        "!pip install transformers"
      ],
      "execution_count": 1,
      "outputs": [
        {
          "output_type": "stream",
          "text": [
            "Requirement already satisfied: torch in /usr/local/lib/python3.6/dist-packages (1.4.0)\n",
            "Requirement already satisfied: reformer_pytorch in /usr/local/lib/python3.6/dist-packages (0.11.8)\n",
            "Requirement already satisfied: torch in /usr/local/lib/python3.6/dist-packages (from reformer_pytorch) (1.4.0)\n",
            "Requirement already satisfied: revtorch>=0.2.4 in /usr/local/lib/python3.6/dist-packages (from reformer_pytorch) (0.2.4)\n",
            "Requirement already satisfied: transformers in /usr/local/lib/python3.6/dist-packages (2.4.1)\n",
            "Requirement already satisfied: tokenizers==0.0.11 in /usr/local/lib/python3.6/dist-packages (from transformers) (0.0.11)\n",
            "Requirement already satisfied: filelock in /usr/local/lib/python3.6/dist-packages (from transformers) (3.0.12)\n",
            "Requirement already satisfied: boto3 in /usr/local/lib/python3.6/dist-packages (from transformers) (1.11.10)\n",
            "Requirement already satisfied: numpy in /usr/local/lib/python3.6/dist-packages (from transformers) (1.17.5)\n",
            "Requirement already satisfied: regex!=2019.12.17 in /usr/local/lib/python3.6/dist-packages (from transformers) (2019.12.20)\n",
            "Requirement already satisfied: sentencepiece in /usr/local/lib/python3.6/dist-packages (from transformers) (0.1.85)\n",
            "Requirement already satisfied: tqdm>=4.27 in /usr/local/lib/python3.6/dist-packages (from transformers) (4.28.1)\n",
            "Requirement already satisfied: sacremoses in /usr/local/lib/python3.6/dist-packages (from transformers) (0.0.38)\n",
            "Requirement already satisfied: requests in /usr/local/lib/python3.6/dist-packages (from transformers) (2.21.0)\n",
            "Requirement already satisfied: jmespath<1.0.0,>=0.7.1 in /usr/local/lib/python3.6/dist-packages (from boto3->transformers) (0.9.4)\n",
            "Requirement already satisfied: s3transfer<0.4.0,>=0.3.0 in /usr/local/lib/python3.6/dist-packages (from boto3->transformers) (0.3.2)\n",
            "Requirement already satisfied: botocore<1.15.0,>=1.14.10 in /usr/local/lib/python3.6/dist-packages (from boto3->transformers) (1.14.10)\n",
            "Requirement already satisfied: six in /usr/local/lib/python3.6/dist-packages (from sacremoses->transformers) (1.12.0)\n",
            "Requirement already satisfied: click in /usr/local/lib/python3.6/dist-packages (from sacremoses->transformers) (7.0)\n",
            "Requirement already satisfied: joblib in /usr/local/lib/python3.6/dist-packages (from sacremoses->transformers) (0.14.1)\n",
            "Requirement already satisfied: chardet<3.1.0,>=3.0.2 in /usr/local/lib/python3.6/dist-packages (from requests->transformers) (3.0.4)\n",
            "Requirement already satisfied: certifi>=2017.4.17 in /usr/local/lib/python3.6/dist-packages (from requests->transformers) (2019.11.28)\n",
            "Requirement already satisfied: urllib3<1.25,>=1.21.1 in /usr/local/lib/python3.6/dist-packages (from requests->transformers) (1.24.3)\n",
            "Requirement already satisfied: idna<2.9,>=2.5 in /usr/local/lib/python3.6/dist-packages (from requests->transformers) (2.8)\n",
            "Requirement already satisfied: docutils<0.16,>=0.10 in /usr/local/lib/python3.6/dist-packages (from botocore<1.15.0,>=1.14.10->boto3->transformers) (0.15.2)\n",
            "Requirement already satisfied: python-dateutil<3.0.0,>=2.1 in /usr/local/lib/python3.6/dist-packages (from botocore<1.15.0,>=1.14.10->boto3->transformers) (2.6.1)\n"
          ],
          "name": "stdout"
        }
      ]
    },
    {
      "cell_type": "code",
      "metadata": {
        "id": "gnBQKcY2fPC0",
        "colab_type": "code",
        "outputId": "73142c20-6dfe-48b8-dd63-12c4d9106c0d",
        "colab": {
          "base_uri": "https://localhost:8080/",
          "height": 306
        }
      },
      "source": [
        "gpu_info = !nvidia-smi\n",
        "gpu_info = '\\n'.join(gpu_info)\n",
        "if gpu_info.find('failed') >= 0:\n",
        "  print('Select the Runtime → \"Change runtime type\" menu to enable a GPU accelerator, ')\n",
        "  print('and then re-execute this cell.')\n",
        "else:\n",
        "  print(gpu_info)"
      ],
      "execution_count": 2,
      "outputs": [
        {
          "output_type": "stream",
          "text": [
            "Mon Feb 10 07:59:08 2020       \n",
            "+-----------------------------------------------------------------------------+\n",
            "| NVIDIA-SMI 440.48.02    Driver Version: 418.67       CUDA Version: 10.1     |\n",
            "|-------------------------------+----------------------+----------------------+\n",
            "| GPU  Name        Persistence-M| Bus-Id        Disp.A | Volatile Uncorr. ECC |\n",
            "| Fan  Temp  Perf  Pwr:Usage/Cap|         Memory-Usage | GPU-Util  Compute M. |\n",
            "|===============================+======================+======================|\n",
            "|   0  Tesla P100-PCIE...  Off  | 00000000:00:04.0 Off |                    0 |\n",
            "| N/A   46C    P0    29W / 250W |      0MiB / 16280MiB |      0%      Default |\n",
            "+-------------------------------+----------------------+----------------------+\n",
            "                                                                               \n",
            "+-----------------------------------------------------------------------------+\n",
            "| Processes:                                                       GPU Memory |\n",
            "|  GPU       PID   Type   Process name                             Usage      |\n",
            "|=============================================================================|\n",
            "|  No running processes found                                                 |\n",
            "+-----------------------------------------------------------------------------+\n"
          ],
          "name": "stdout"
        }
      ]
    },
    {
      "cell_type": "code",
      "metadata": {
        "id": "knw2fpJ6Y93b",
        "colab_type": "code",
        "outputId": "a4db7139-507c-48b7-fbe9-61a6808fd3cc",
        "colab": {
          "base_uri": "https://localhost:8080/",
          "height": 34
        }
      },
      "source": [
        "from google.colab import drive\n",
        "drive.mount('/content/drive')"
      ],
      "execution_count": 3,
      "outputs": [
        {
          "output_type": "stream",
          "text": [
            "Drive already mounted at /content/drive; to attempt to forcibly remount, call drive.mount(\"/content/drive\", force_remount=True).\n"
          ],
          "name": "stdout"
        }
      ]
    },
    {
      "cell_type": "code",
      "metadata": {
        "id": "2UJJlb0WBqJw",
        "colab_type": "code",
        "outputId": "ec5a9927-5466-4d38-9434-b23a8a215f7e",
        "colab": {
          "base_uri": "https://localhost:8080/",
          "height": 51
        }
      },
      "source": [
        "# load model file and epoch\n",
        "import os\n",
        "import re\n",
        "files = [f for f in os.listdir('/content/drive/My Drive/model_saves') if f.startswith('epoch')]\n",
        "last_model_file = None\n",
        "epochs_run = 0\n",
        "if len(files) > 0:\n",
        "  files.sort(reverse=True)\n",
        "  last_model_file = os.path.join('/content/drive/My Drive/model_saves',files[0])\n",
        "  print(last_model_file)\n",
        "  epochs = re.findall(r'\\d+',files[0])\n",
        "  epochs_run = 0\n",
        "  if len(epochs) == 1:\n",
        "    epochs_run = int(epochs[0])\n",
        "  print('number of epochs run:',epochs_run)\n"
      ],
      "execution_count": 4,
      "outputs": [
        {
          "output_type": "stream",
          "text": [
            "/content/drive/My Drive/model_saves/epoch-7100.pt\n",
            "number of epochs run: 7100\n"
          ],
          "name": "stdout"
        }
      ]
    },
    {
      "cell_type": "code",
      "metadata": {
        "id": "4azFtyT98aRo",
        "colab_type": "code",
        "outputId": "63476b47-4aae-4a73-8811-cdb5b912c9a6",
        "colab": {
          "base_uri": "https://localhost:8080/",
          "height": 1000
        }
      },
      "source": [
        "from reformer_pytorch import ReformerLM\n",
        "\n",
        "import random\n",
        "import tqdm\n",
        "import gzip\n",
        "import numpy as np\n",
        "import torch\n",
        "import torch.optim as optim\n",
        "from torch.nn import functional as F\n",
        "from torch.utils.data import DataLoader, Dataset\n",
        "from sklearn.model_selection import train_test_split\n",
        "import os\n",
        "from transformers import BertTokenizer, AdamW, get_linear_schedule_with_warmup\n",
        "\n",
        "# constants\n",
        "\n",
        "NUM_BATCHES = int(1e5)\n",
        "BATCH_SIZE = 8\n",
        "GRADIENT_ACCUMULATE_EVERY = 4\n",
        "LEARNING_RATE = 3e-4\n",
        "VALIDATE_EVERY  = 100\n",
        "GENERATE_EVERY  = 500\n",
        "GENERATE_LENGTH = 512\n",
        "SEQ_LEN = 4096\n",
        "\n",
        "# helpers\n",
        "\n",
        "def cycle(loader):\n",
        "    while True:\n",
        "        for data in loader:\n",
        "            yield data\n",
        "\n",
        "def get_top_p(logits, top_p=0.9):\n",
        "    sorted_logits, sorted_indices = torch.sort(logits, descending=True)\n",
        "    cumulative_probs = torch.cumsum(F.softmax(sorted_logits, dim=-1), dim=-1)\n",
        "\n",
        "    sorted_indices_to_remove = cumulative_probs > top_p\n",
        "    sorted_indices_to_remove[..., 1:] = sorted_indices_to_remove[..., :-1].clone()\n",
        "    sorted_indices_to_remove[..., 0] = 0\n",
        "\n",
        "    indices_to_remove = sorted_indices[sorted_indices_to_remove]\n",
        "    logits[indices_to_remove] = float('-inf')\n",
        "    return logits\n",
        "\n",
        "def sample_next_token(logits, top_p=0.9, temperature = 1.0):\n",
        "    logits = logits[0, -1, :] / temperature\n",
        "    filtered_logits = get_top_p(logits, top_p=top_p)\n",
        "\n",
        "    probs = F.softmax(filtered_logits, dim=-1)\n",
        "    return torch.multinomial(probs, 1)\n",
        "\n",
        "def decode_token(token):\n",
        "    return str(chr(token))\n",
        "\n",
        "def decode_tokens(tokens):\n",
        "    return ''.join(list(map(decode_token, tokens)))\n",
        "\n",
        "# instantiate model\n",
        "\n",
        "model = ReformerLM(\n",
        "    dim = 512,\n",
        "    depth = 6,\n",
        "    max_seq_len = SEQ_LEN,\n",
        "    num_tokens = 256,\n",
        "    heads = 8,\n",
        "    bucket_size = 64,\n",
        "    n_hashes = 8,\n",
        "    ff_chunks = 10,\n",
        "    lsh_dropout = 0.1,\n",
        "    weight_tie = True,\n",
        "    causal = True,\n",
        "    use_full_attn = False # set this to true for comparison with full attention\n",
        ")\n",
        "\n",
        "# model = ReformerLM(\n",
        "#     dim = 512,\n",
        "#     depth = 6,\n",
        "#     max_seq_len = SEQ_LEN,\n",
        "#     num_tokens = 256,\n",
        "#     heads = 8,\n",
        "#     bucket_size = 64,\n",
        "#     n_hashes = 4,\n",
        "#     ff_chunks = 10,\n",
        "#     lsh_dropout = 0.1,\n",
        "#     weight_tie = True,\n",
        "#     causal = True,\n",
        "#     use_full_attn = False # set this to true for comparison with full attention\n",
        "# )\n",
        "\n",
        "if last_model_file is not None:\n",
        "  model.load_state_dict(torch.load(last_model_file ))\n",
        "\n",
        "model.cuda()\n",
        "\n",
        "\n",
        "# prepare enwik8 data\n",
        "\n",
        "with gzip.open('/content/drive/My Drive/model_data/merged.gz') as file:\n",
        "    X = np.array([int(c) for c in file.read()])\n",
        "    si = int(len(X)-len(X)*0.2)\n",
        "    trX, vaX = np.split(X, [si])\n",
        "    data_train, data_val = torch.from_numpy(trX), torch.from_numpy(vaX)\n",
        "\n",
        "class TextSamplerDataset(Dataset):\n",
        "    def __init__(self, data, seq_len):\n",
        "        super().__init__()\n",
        "        self.data = data\n",
        "        self.seq_len = seq_len\n",
        "\n",
        "    def __getitem__(self, index):\n",
        "        rand_start = torch.randint(0, self.data.size(0) - self.seq_len - 1, (1,))\n",
        "        full_seq = self.data[rand_start: rand_start + self.seq_len + 1].long()\n",
        "        return full_seq[0:-1].cuda(), full_seq[1:].cuda()\n",
        "\n",
        "    def __len__(self):\n",
        "        return self.data.size(0) // self.seq_len\n",
        "\n",
        "train_dataset = TextSamplerDataset(data_train, SEQ_LEN)\n",
        "val_dataset   = TextSamplerDataset(data_val, SEQ_LEN)\n",
        "train_loader  = cycle(DataLoader(train_dataset, batch_size = BATCH_SIZE))\n",
        "val_loader    = cycle(DataLoader(val_dataset, batch_size = BATCH_SIZE))\n",
        "\n",
        "print(len(train_dataset))\n",
        "print(len(val_dataset))\n",
        "\n",
        "# optimizer\n",
        "# optimizer.load_state_dict(torch.load('optimizer.pt'))\n",
        "# scheduler.load_state_dict(torch.load('scheduler.pt'))\n",
        "\n",
        "optim = torch.optim.AdamW(model.parameters(), lr=LEARNING_RATE,amsgrad=True)\n",
        "\n",
        "if os.path.exists('/content/drive/My Drive/model_saves/optim.pt'):\n",
        "  optim.load_state_dict(torch.load('/content/drive/My Drive/model_saves/optim.pt'))\n",
        "\n",
        "#scheduler\n",
        "\n",
        "# scheduler = torch.optim.lr_scheduler.StepLR(optim, step_size=VALIDATE_EVERY, gamma=0.1)\n",
        "\n",
        "scheduler = get_linear_schedule_with_warmup(\n",
        "            optim,\n",
        "            num_warmup_steps=0,\n",
        "            num_training_steps=len(train_dataset) // GRADIENT_ACCUMULATE_EVERY * NUM_BATCHES\n",
        "        )\n",
        "\n",
        "if os.path.exists('/content/drive/My Drive/model_saves/scheduler.pt'):\n",
        "  scheduler.load_state_dict(torch.load('/content/drive/My Drive/model_saves/scheduler.pt'))\n",
        "\n",
        "# training\n",
        "\n",
        "def get_batch_loss(model, data):\n",
        "    x, y = data\n",
        "    pred = model(x)\n",
        "    return F.cross_entropy(pred.transpose(1, 2), y, reduction='mean')\n",
        "\n",
        "for i in tqdm.tqdm(range(epochs_run, NUM_BATCHES), mininterval=10., desc='training'):\n",
        "    model.train()\n",
        "\n",
        "    for __ in range(GRADIENT_ACCUMULATE_EVERY):\n",
        "        loss = get_batch_loss(model, next(train_loader))\n",
        "        loss.backward()\n",
        "\n",
        "    print(f'training loss: {loss.item()}')\n",
        "    torch.nn.utils.clip_grad_norm_(model.parameters(), 0.5)\n",
        "    optim.step()\n",
        "    optim.zero_grad()\n",
        "    scheduler.step()\n",
        "\n",
        "    if i % VALIDATE_EVERY == 0:\n",
        "        torch.save(model.state_dict(), os.path.join('/content/drive/My Drive/model_saves', 'epoch-{}.pt'.format(i)))\n",
        "        torch.save(optim.state_dict(),'/content/drive/My Drive/model_saves/optim.pt')\n",
        "        torch.save(scheduler.state_dict(),'/content/drive/My Drive/model_saves/scheduler.pt')\n",
        "        model.eval()\n",
        "        with torch.no_grad():\n",
        "            loss = get_batch_loss(model, next(val_loader))\n",
        "            print(f'validation loss: {loss.item()}')\n",
        "\n",
        "    if i % GENERATE_EVERY == 0:\n",
        "        model.eval()\n",
        "        with torch.no_grad():\n",
        "            inp, _ = random.choice(val_dataset)\n",
        "            output_str = ''\n",
        "            prime = decode_tokens(inp)\n",
        "\n",
        "            # print(f'%s \\n\\n %s', (prime, '*' * 100))\n",
        "            print(prime)\n",
        "            print('*'*100)\n",
        "\n",
        "            for _ in tqdm.tqdm(range(GENERATE_LENGTH), desc='generating'):\n",
        "                logits = model(inp[None, :])\n",
        "                next_token = sample_next_token(logits)\n",
        "                output_str += decode_token(next_token)\n",
        "                inp = torch.cat((inp[1:], next_token), dim=0)\n",
        "\n",
        "            print(output_str)"
      ],
      "execution_count": 0,
      "outputs": [
        {
          "output_type": "display_data",
          "data": {
            "text/html": [
              "<p style=\"color: red;\">\n",
              "The default version of TensorFlow in Colab will soon switch to TensorFlow 2.x.<br>\n",
              "We recommend you <a href=\"https://www.tensorflow.org/guide/migrate\" target=\"_blank\">upgrade</a> now \n",
              "or ensure your notebook will continue to use TensorFlow 1.x via the <code>%tensorflow_version 1.x</code> magic:\n",
              "<a href=\"https://colab.research.google.com/notebooks/tensorflow_version.ipynb\" target=\"_blank\">more info</a>.</p>\n"
            ],
            "text/plain": [
              "<IPython.core.display.HTML object>"
            ]
          },
          "metadata": {
            "tags": []
          }
        },
        {
          "output_type": "stream",
          "text": [
            "\rtraining:   0%|          | 0/92900 [00:00<?, ?it/s]"
          ],
          "name": "stderr"
        },
        {
          "output_type": "stream",
          "text": [
            "28049\n",
            "7012\n",
            "training loss: 1.8468937873840332\n"
          ],
          "name": "stdout"
        },
        {
          "output_type": "stream",
          "text": [
            "\rtraining:   0%|          | 1/92900 [00:17<438:42:28, 17.00s/it]"
          ],
          "name": "stderr"
        },
        {
          "output_type": "stream",
          "text": [
            "validation loss: 1.802687644958496\n"
          ],
          "name": "stdout"
        },
        {
          "output_type": "stream",
          "text": [
            "\rtraining:   0%|          | 2/92900 [00:32<428:04:23, 16.59s/it]"
          ],
          "name": "stderr"
        },
        {
          "output_type": "stream",
          "text": [
            "training loss: 1.8055025339126587\n"
          ],
          "name": "stdout"
        },
        {
          "output_type": "stream",
          "text": [
            "\rtraining:   0%|          | 3/92900 [00:48<420:33:07, 16.30s/it]"
          ],
          "name": "stderr"
        },
        {
          "output_type": "stream",
          "text": [
            "training loss: 1.751235842704773\n"
          ],
          "name": "stdout"
        },
        {
          "output_type": "stream",
          "text": [
            "\rtraining:   0%|          | 4/92900 [01:03<415:20:21, 16.10s/it]"
          ],
          "name": "stderr"
        },
        {
          "output_type": "stream",
          "text": [
            "training loss: 1.8553156852722168\n"
          ],
          "name": "stdout"
        },
        {
          "output_type": "stream",
          "text": [
            "\rtraining:   0%|          | 5/92900 [01:19<411:42:28, 15.96s/it]"
          ],
          "name": "stderr"
        },
        {
          "output_type": "stream",
          "text": [
            "training loss: 1.7726306915283203\n"
          ],
          "name": "stdout"
        },
        {
          "output_type": "stream",
          "text": [
            "\rtraining:   0%|          | 6/92900 [01:35<409:07:03, 15.85s/it]"
          ],
          "name": "stderr"
        },
        {
          "output_type": "stream",
          "text": [
            "training loss: 1.767756700515747\n"
          ],
          "name": "stdout"
        },
        {
          "output_type": "stream",
          "text": [
            "\rtraining:   0%|          | 7/92900 [01:50<407:14:53, 15.78s/it]"
          ],
          "name": "stderr"
        },
        {
          "output_type": "stream",
          "text": [
            "training loss: 1.8002458810806274\n"
          ],
          "name": "stdout"
        },
        {
          "output_type": "stream",
          "text": [
            "\rtraining:   0%|          | 8/92900 [02:06<405:59:29, 15.73s/it]"
          ],
          "name": "stderr"
        },
        {
          "output_type": "stream",
          "text": [
            "training loss: 1.7710837125778198\n"
          ],
          "name": "stdout"
        },
        {
          "output_type": "stream",
          "text": [
            "\rtraining:   0%|          | 9/92900 [02:21<405:13:42, 15.70s/it]"
          ],
          "name": "stderr"
        },
        {
          "output_type": "stream",
          "text": [
            "training loss: 1.7752034664154053\n"
          ],
          "name": "stdout"
        },
        {
          "output_type": "stream",
          "text": [
            "\rtraining:   0%|          | 10/92900 [02:37<404:32:04, 15.68s/it]"
          ],
          "name": "stderr"
        },
        {
          "output_type": "stream",
          "text": [
            "training loss: 1.7413361072540283\n"
          ],
          "name": "stdout"
        },
        {
          "output_type": "stream",
          "text": [
            "\rtraining:   0%|          | 11/92900 [02:53<404:00:29, 15.66s/it]"
          ],
          "name": "stderr"
        },
        {
          "output_type": "stream",
          "text": [
            "training loss: 1.6739823818206787\n"
          ],
          "name": "stdout"
        },
        {
          "output_type": "stream",
          "text": [
            "\rtraining:   0%|          | 12/92900 [03:08<403:51:20, 15.65s/it]"
          ],
          "name": "stderr"
        },
        {
          "output_type": "stream",
          "text": [
            "training loss: 1.8496626615524292\n"
          ],
          "name": "stdout"
        },
        {
          "output_type": "stream",
          "text": [
            "\rtraining:   0%|          | 13/92900 [03:24<403:42:50, 15.65s/it]"
          ],
          "name": "stderr"
        },
        {
          "output_type": "stream",
          "text": [
            "training loss: 1.764183759689331\n"
          ],
          "name": "stdout"
        },
        {
          "output_type": "stream",
          "text": [
            "\rtraining:   0%|          | 14/92900 [03:40<403:31:55, 15.64s/it]"
          ],
          "name": "stderr"
        },
        {
          "output_type": "stream",
          "text": [
            "training loss: 1.793987512588501\n"
          ],
          "name": "stdout"
        },
        {
          "output_type": "stream",
          "text": [
            "\rtraining:   0%|          | 15/92900 [03:55<403:19:22, 15.63s/it]"
          ],
          "name": "stderr"
        },
        {
          "output_type": "stream",
          "text": [
            "training loss: 1.7386090755462646\n"
          ],
          "name": "stdout"
        },
        {
          "output_type": "stream",
          "text": [
            "\rtraining:   0%|          | 16/92900 [04:11<403:14:03, 15.63s/it]"
          ],
          "name": "stderr"
        },
        {
          "output_type": "stream",
          "text": [
            "training loss: 1.8399078845977783\n"
          ],
          "name": "stdout"
        },
        {
          "output_type": "stream",
          "text": [
            "\rtraining:   0%|          | 17/92900 [04:26<403:11:30, 15.63s/it]"
          ],
          "name": "stderr"
        },
        {
          "output_type": "stream",
          "text": [
            "training loss: 1.7124240398406982\n"
          ],
          "name": "stdout"
        },
        {
          "output_type": "stream",
          "text": [
            "\rtraining:   0%|          | 18/92900 [04:42<403:08:24, 15.63s/it]"
          ],
          "name": "stderr"
        },
        {
          "output_type": "stream",
          "text": [
            "training loss: 1.7235465049743652\n"
          ],
          "name": "stdout"
        },
        {
          "output_type": "stream",
          "text": [
            "\rtraining:   0%|          | 19/92900 [04:58<403:01:28, 15.62s/it]"
          ],
          "name": "stderr"
        },
        {
          "output_type": "stream",
          "text": [
            "training loss: 1.7142373323440552\n"
          ],
          "name": "stdout"
        },
        {
          "output_type": "stream",
          "text": [
            "\rtraining:   0%|          | 20/92900 [05:13<403:00:31, 15.62s/it]"
          ],
          "name": "stderr"
        },
        {
          "output_type": "stream",
          "text": [
            "training loss: 1.5543521642684937\n"
          ],
          "name": "stdout"
        },
        {
          "output_type": "stream",
          "text": [
            "\rtraining:   0%|          | 21/92900 [05:29<402:58:23, 15.62s/it]"
          ],
          "name": "stderr"
        },
        {
          "output_type": "stream",
          "text": [
            "training loss: 1.6148852109909058\n"
          ],
          "name": "stdout"
        },
        {
          "output_type": "stream",
          "text": [
            "\rtraining:   0%|          | 22/92900 [05:45<402:59:39, 15.62s/it]"
          ],
          "name": "stderr"
        },
        {
          "output_type": "stream",
          "text": [
            "training loss: 1.7928129434585571\n"
          ],
          "name": "stdout"
        },
        {
          "output_type": "stream",
          "text": [
            "\rtraining:   0%|          | 23/92900 [06:00<403:03:08, 15.62s/it]"
          ],
          "name": "stderr"
        },
        {
          "output_type": "stream",
          "text": [
            "training loss: 1.7569942474365234\n"
          ],
          "name": "stdout"
        },
        {
          "output_type": "stream",
          "text": [
            "\rtraining:   0%|          | 24/92900 [06:16<403:04:06, 15.62s/it]"
          ],
          "name": "stderr"
        },
        {
          "output_type": "stream",
          "text": [
            "training loss: 1.7622822523117065\n"
          ],
          "name": "stdout"
        },
        {
          "output_type": "stream",
          "text": [
            "\rtraining:   0%|          | 25/92900 [06:31<403:02:00, 15.62s/it]"
          ],
          "name": "stderr"
        },
        {
          "output_type": "stream",
          "text": [
            "training loss: 1.7789883613586426\n"
          ],
          "name": "stdout"
        },
        {
          "output_type": "stream",
          "text": [
            "\rtraining:   0%|          | 26/92900 [06:47<402:59:48, 15.62s/it]"
          ],
          "name": "stderr"
        },
        {
          "output_type": "stream",
          "text": [
            "training loss: 1.8065305948257446\n"
          ],
          "name": "stdout"
        },
        {
          "output_type": "stream",
          "text": [
            "\rtraining:   0%|          | 27/92900 [07:03<402:57:29, 15.62s/it]"
          ],
          "name": "stderr"
        },
        {
          "output_type": "stream",
          "text": [
            "training loss: 1.690037488937378\n"
          ],
          "name": "stdout"
        },
        {
          "output_type": "stream",
          "text": [
            "\rtraining:   0%|          | 28/92900 [07:18<403:02:07, 15.62s/it]"
          ],
          "name": "stderr"
        },
        {
          "output_type": "stream",
          "text": [
            "training loss: 1.6770029067993164\n"
          ],
          "name": "stdout"
        },
        {
          "output_type": "stream",
          "text": [
            "\rtraining:   0%|          | 29/92900 [07:34<402:59:28, 15.62s/it]"
          ],
          "name": "stderr"
        },
        {
          "output_type": "stream",
          "text": [
            "training loss: 1.754726767539978\n"
          ],
          "name": "stdout"
        },
        {
          "output_type": "stream",
          "text": [
            "\rtraining:   0%|          | 30/92900 [07:50<403:02:28, 15.62s/it]"
          ],
          "name": "stderr"
        },
        {
          "output_type": "stream",
          "text": [
            "training loss: 1.7605323791503906\n"
          ],
          "name": "stdout"
        },
        {
          "output_type": "stream",
          "text": [
            "\rtraining:   0%|          | 31/92900 [08:05<403:02:27, 15.62s/it]"
          ],
          "name": "stderr"
        },
        {
          "output_type": "stream",
          "text": [
            "training loss: 1.7741674184799194\n"
          ],
          "name": "stdout"
        },
        {
          "output_type": "stream",
          "text": [
            "\rtraining:   0%|          | 32/92900 [08:21<403:05:17, 15.63s/it]"
          ],
          "name": "stderr"
        },
        {
          "output_type": "stream",
          "text": [
            "training loss: 1.7115556001663208\n"
          ],
          "name": "stdout"
        },
        {
          "output_type": "stream",
          "text": [
            "\rtraining:   0%|          | 33/92900 [08:36<403:06:05, 15.63s/it]"
          ],
          "name": "stderr"
        },
        {
          "output_type": "stream",
          "text": [
            "training loss: 1.7798689603805542\n"
          ],
          "name": "stdout"
        },
        {
          "output_type": "stream",
          "text": [
            "\rtraining:   0%|          | 34/92900 [08:52<402:57:47, 15.62s/it]"
          ],
          "name": "stderr"
        },
        {
          "output_type": "stream",
          "text": [
            "training loss: 1.613707184791565\n"
          ],
          "name": "stdout"
        },
        {
          "output_type": "stream",
          "text": [
            "\rtraining:   0%|          | 35/92900 [09:08<403:02:16, 15.62s/it]"
          ],
          "name": "stderr"
        },
        {
          "output_type": "stream",
          "text": [
            "training loss: 1.8114155530929565\n"
          ],
          "name": "stdout"
        },
        {
          "output_type": "stream",
          "text": [
            "\rtraining:   0%|          | 36/92900 [09:23<402:58:55, 15.62s/it]"
          ],
          "name": "stderr"
        },
        {
          "output_type": "stream",
          "text": [
            "training loss: 1.7391893863677979\n"
          ],
          "name": "stdout"
        },
        {
          "output_type": "stream",
          "text": [
            "\rtraining:   0%|          | 37/92900 [09:39<402:58:28, 15.62s/it]"
          ],
          "name": "stderr"
        },
        {
          "output_type": "stream",
          "text": [
            "training loss: 1.7710647583007812\n"
          ],
          "name": "stdout"
        },
        {
          "output_type": "stream",
          "text": [
            "\rtraining:   0%|          | 38/92900 [09:55<402:52:48, 15.62s/it]"
          ],
          "name": "stderr"
        },
        {
          "output_type": "stream",
          "text": [
            "training loss: 1.718461275100708\n"
          ],
          "name": "stdout"
        },
        {
          "output_type": "stream",
          "text": [
            "\rtraining:   0%|          | 39/92900 [10:10<402:49:59, 15.62s/it]"
          ],
          "name": "stderr"
        },
        {
          "output_type": "stream",
          "text": [
            "training loss: 1.7486028671264648\n"
          ],
          "name": "stdout"
        },
        {
          "output_type": "stream",
          "text": [
            "\rtraining:   0%|          | 40/92900 [10:26<402:50:30, 15.62s/it]"
          ],
          "name": "stderr"
        },
        {
          "output_type": "stream",
          "text": [
            "training loss: 1.7596808671951294\n"
          ],
          "name": "stdout"
        },
        {
          "output_type": "stream",
          "text": [
            "\rtraining:   0%|          | 41/92900 [10:41<402:52:56, 15.62s/it]"
          ],
          "name": "stderr"
        },
        {
          "output_type": "stream",
          "text": [
            "training loss: 1.719893217086792\n"
          ],
          "name": "stdout"
        },
        {
          "output_type": "stream",
          "text": [
            "\rtraining:   0%|          | 42/92900 [10:57<402:55:48, 15.62s/it]"
          ],
          "name": "stderr"
        },
        {
          "output_type": "stream",
          "text": [
            "training loss: 1.7617465257644653\n"
          ],
          "name": "stdout"
        },
        {
          "output_type": "stream",
          "text": [
            "\rtraining:   0%|          | 43/92900 [11:13<402:52:43, 15.62s/it]"
          ],
          "name": "stderr"
        },
        {
          "output_type": "stream",
          "text": [
            "training loss: 1.71931791305542\n"
          ],
          "name": "stdout"
        },
        {
          "output_type": "stream",
          "text": [
            "\rtraining:   0%|          | 44/92900 [11:28<402:52:41, 15.62s/it]"
          ],
          "name": "stderr"
        },
        {
          "output_type": "stream",
          "text": [
            "training loss: 1.7546000480651855\n"
          ],
          "name": "stdout"
        },
        {
          "output_type": "stream",
          "text": [
            "\rtraining:   0%|          | 45/92900 [11:44<402:50:51, 15.62s/it]"
          ],
          "name": "stderr"
        },
        {
          "output_type": "stream",
          "text": [
            "training loss: 1.6816877126693726\n"
          ],
          "name": "stdout"
        },
        {
          "output_type": "stream",
          "text": [
            "\rtraining:   0%|          | 46/92900 [11:59<402:45:33, 15.62s/it]"
          ],
          "name": "stderr"
        },
        {
          "output_type": "stream",
          "text": [
            "training loss: 1.657331943511963\n"
          ],
          "name": "stdout"
        },
        {
          "output_type": "stream",
          "text": [
            "\rtraining:   0%|          | 47/92900 [12:15<402:51:59, 15.62s/it]"
          ],
          "name": "stderr"
        },
        {
          "output_type": "stream",
          "text": [
            "training loss: 1.7543748617172241\n"
          ],
          "name": "stdout"
        },
        {
          "output_type": "stream",
          "text": [
            "\rtraining:   0%|          | 48/92900 [12:31<402:55:16, 15.62s/it]"
          ],
          "name": "stderr"
        },
        {
          "output_type": "stream",
          "text": [
            "training loss: 1.7666118144989014\n"
          ],
          "name": "stdout"
        },
        {
          "output_type": "stream",
          "text": [
            "\rtraining:   0%|          | 49/92900 [12:46<402:55:23, 15.62s/it]"
          ],
          "name": "stderr"
        },
        {
          "output_type": "stream",
          "text": [
            "training loss: 1.700875997543335\n"
          ],
          "name": "stdout"
        },
        {
          "output_type": "stream",
          "text": [
            "\rtraining:   0%|          | 50/92900 [13:02<402:49:30, 15.62s/it]"
          ],
          "name": "stderr"
        },
        {
          "output_type": "stream",
          "text": [
            "training loss: 1.692675232887268\n"
          ],
          "name": "stdout"
        },
        {
          "output_type": "stream",
          "text": [
            "\rtraining:   0%|          | 51/92900 [13:18<402:52:57, 15.62s/it]"
          ],
          "name": "stderr"
        },
        {
          "output_type": "stream",
          "text": [
            "training loss: 1.7107725143432617\n"
          ],
          "name": "stdout"
        },
        {
          "output_type": "stream",
          "text": [
            "\rtraining:   0%|          | 52/92900 [13:33<402:52:18, 15.62s/it]"
          ],
          "name": "stderr"
        },
        {
          "output_type": "stream",
          "text": [
            "training loss: 1.639580488204956\n"
          ],
          "name": "stdout"
        },
        {
          "output_type": "stream",
          "text": [
            "\rtraining:   0%|          | 53/92900 [13:49<403:04:09, 15.63s/it]"
          ],
          "name": "stderr"
        },
        {
          "output_type": "stream",
          "text": [
            "training loss: 1.6286187171936035\n"
          ],
          "name": "stdout"
        },
        {
          "output_type": "stream",
          "text": [
            "\rtraining:   0%|          | 54/92900 [14:04<403:02:20, 15.63s/it]"
          ],
          "name": "stderr"
        },
        {
          "output_type": "stream",
          "text": [
            "training loss: 1.6578125953674316\n"
          ],
          "name": "stdout"
        },
        {
          "output_type": "stream",
          "text": [
            "\rtraining:   0%|          | 55/92900 [14:20<402:58:44, 15.63s/it]"
          ],
          "name": "stderr"
        },
        {
          "output_type": "stream",
          "text": [
            "training loss: 1.6152397394180298\n"
          ],
          "name": "stdout"
        },
        {
          "output_type": "stream",
          "text": [
            "\rtraining:   0%|          | 56/92900 [14:36<402:53:09, 15.62s/it]"
          ],
          "name": "stderr"
        },
        {
          "output_type": "stream",
          "text": [
            "training loss: 1.7309880256652832\n"
          ],
          "name": "stdout"
        },
        {
          "output_type": "stream",
          "text": [
            "\rtraining:   0%|          | 57/92900 [14:51<402:53:43, 15.62s/it]"
          ],
          "name": "stderr"
        },
        {
          "output_type": "stream",
          "text": [
            "training loss: 1.7769978046417236\n"
          ],
          "name": "stdout"
        },
        {
          "output_type": "stream",
          "text": [
            "\rtraining:   0%|          | 58/92900 [15:07<402:58:43, 15.63s/it]"
          ],
          "name": "stderr"
        },
        {
          "output_type": "stream",
          "text": [
            "training loss: 1.7191896438598633\n"
          ],
          "name": "stdout"
        },
        {
          "output_type": "stream",
          "text": [
            "\rtraining:   0%|          | 59/92900 [15:23<402:59:07, 15.63s/it]"
          ],
          "name": "stderr"
        },
        {
          "output_type": "stream",
          "text": [
            "training loss: 1.6719005107879639\n"
          ],
          "name": "stdout"
        },
        {
          "output_type": "stream",
          "text": [
            "\rtraining:   0%|          | 60/92900 [15:38<402:59:03, 15.63s/it]"
          ],
          "name": "stderr"
        },
        {
          "output_type": "stream",
          "text": [
            "training loss: 1.697094440460205\n"
          ],
          "name": "stdout"
        },
        {
          "output_type": "stream",
          "text": [
            "\rtraining:   0%|          | 61/92900 [15:54<402:54:45, 15.62s/it]"
          ],
          "name": "stderr"
        },
        {
          "output_type": "stream",
          "text": [
            "training loss: 1.7261371612548828\n"
          ],
          "name": "stdout"
        },
        {
          "output_type": "stream",
          "text": [
            "\rtraining:   0%|          | 62/92900 [16:09<402:56:44, 15.63s/it]"
          ],
          "name": "stderr"
        },
        {
          "output_type": "stream",
          "text": [
            "training loss: 1.6404268741607666\n"
          ],
          "name": "stdout"
        },
        {
          "output_type": "stream",
          "text": [
            "\rtraining:   0%|          | 63/92900 [16:25<402:59:37, 15.63s/it]"
          ],
          "name": "stderr"
        },
        {
          "output_type": "stream",
          "text": [
            "training loss: 1.7327909469604492\n"
          ],
          "name": "stdout"
        },
        {
          "output_type": "stream",
          "text": [
            "\rtraining:   0%|          | 64/92900 [16:41<402:57:52, 15.63s/it]"
          ],
          "name": "stderr"
        },
        {
          "output_type": "stream",
          "text": [
            "training loss: 1.7482047080993652\n"
          ],
          "name": "stdout"
        },
        {
          "output_type": "stream",
          "text": [
            "\rtraining:   0%|          | 65/92900 [16:56<402:56:55, 15.63s/it]"
          ],
          "name": "stderr"
        },
        {
          "output_type": "stream",
          "text": [
            "training loss: 1.6502010822296143\n"
          ],
          "name": "stdout"
        },
        {
          "output_type": "stream",
          "text": [
            "\rtraining:   0%|          | 66/92900 [17:12<402:57:07, 15.63s/it]"
          ],
          "name": "stderr"
        },
        {
          "output_type": "stream",
          "text": [
            "training loss: 1.784961223602295\n"
          ],
          "name": "stdout"
        },
        {
          "output_type": "stream",
          "text": [
            "\rtraining:   0%|          | 67/92900 [17:28<402:56:19, 15.63s/it]"
          ],
          "name": "stderr"
        },
        {
          "output_type": "stream",
          "text": [
            "training loss: 1.6974607706069946\n"
          ],
          "name": "stdout"
        },
        {
          "output_type": "stream",
          "text": [
            "\rtraining:   0%|          | 68/92900 [17:43<402:58:30, 15.63s/it]"
          ],
          "name": "stderr"
        },
        {
          "output_type": "stream",
          "text": [
            "training loss: 1.8200716972351074\n"
          ],
          "name": "stdout"
        },
        {
          "output_type": "stream",
          "text": [
            "\rtraining:   0%|          | 69/92900 [17:59<402:57:25, 15.63s/it]"
          ],
          "name": "stderr"
        },
        {
          "output_type": "stream",
          "text": [
            "training loss: 1.7958632707595825\n"
          ],
          "name": "stdout"
        },
        {
          "output_type": "stream",
          "text": [
            "\rtraining:   0%|          | 70/92900 [18:14<402:51:36, 15.62s/it]"
          ],
          "name": "stderr"
        },
        {
          "output_type": "stream",
          "text": [
            "training loss: 1.6213876008987427\n"
          ],
          "name": "stdout"
        },
        {
          "output_type": "stream",
          "text": [
            "\rtraining:   0%|          | 71/92900 [18:30<402:45:50, 15.62s/it]"
          ],
          "name": "stderr"
        },
        {
          "output_type": "stream",
          "text": [
            "training loss: 1.7427558898925781\n"
          ],
          "name": "stdout"
        },
        {
          "output_type": "stream",
          "text": [
            "\rtraining:   0%|          | 72/92900 [18:46<402:47:14, 15.62s/it]"
          ],
          "name": "stderr"
        },
        {
          "output_type": "stream",
          "text": [
            "training loss: 1.8052289485931396\n"
          ],
          "name": "stdout"
        },
        {
          "output_type": "stream",
          "text": [
            "\rtraining:   0%|          | 73/92900 [19:01<402:47:30, 15.62s/it]"
          ],
          "name": "stderr"
        },
        {
          "output_type": "stream",
          "text": [
            "training loss: 1.7234703302383423\n"
          ],
          "name": "stdout"
        },
        {
          "output_type": "stream",
          "text": [
            "\rtraining:   0%|          | 74/92900 [19:17<402:50:10, 15.62s/it]"
          ],
          "name": "stderr"
        },
        {
          "output_type": "stream",
          "text": [
            "training loss: 1.6924800872802734\n"
          ],
          "name": "stdout"
        },
        {
          "output_type": "stream",
          "text": [
            "\rtraining:   0%|          | 75/92900 [19:33<402:50:38, 15.62s/it]"
          ],
          "name": "stderr"
        },
        {
          "output_type": "stream",
          "text": [
            "training loss: 1.7312639951705933\n"
          ],
          "name": "stdout"
        },
        {
          "output_type": "stream",
          "text": [
            "\rtraining:   0%|          | 76/92900 [19:48<402:46:25, 15.62s/it]"
          ],
          "name": "stderr"
        },
        {
          "output_type": "stream",
          "text": [
            "training loss: 1.6867307424545288\n"
          ],
          "name": "stdout"
        },
        {
          "output_type": "stream",
          "text": [
            "\rtraining:   0%|          | 77/92900 [20:04<402:44:23, 15.62s/it]"
          ],
          "name": "stderr"
        },
        {
          "output_type": "stream",
          "text": [
            "training loss: 1.7971712350845337\n"
          ],
          "name": "stdout"
        },
        {
          "output_type": "stream",
          "text": [
            "\rtraining:   0%|          | 78/92900 [20:19<402:51:34, 15.62s/it]"
          ],
          "name": "stderr"
        },
        {
          "output_type": "stream",
          "text": [
            "training loss: 1.769513726234436\n"
          ],
          "name": "stdout"
        },
        {
          "output_type": "stream",
          "text": [
            "\rtraining:   0%|          | 79/92900 [20:35<402:46:39, 15.62s/it]"
          ],
          "name": "stderr"
        },
        {
          "output_type": "stream",
          "text": [
            "training loss: 1.7346553802490234\n"
          ],
          "name": "stdout"
        },
        {
          "output_type": "stream",
          "text": [
            "\rtraining:   0%|          | 80/92900 [20:51<402:49:56, 15.62s/it]"
          ],
          "name": "stderr"
        },
        {
          "output_type": "stream",
          "text": [
            "training loss: 1.6858298778533936\n"
          ],
          "name": "stdout"
        },
        {
          "output_type": "stream",
          "text": [
            "\rtraining:   0%|          | 81/92900 [21:06<402:55:29, 15.63s/it]"
          ],
          "name": "stderr"
        },
        {
          "output_type": "stream",
          "text": [
            "training loss: 1.742235779762268\n"
          ],
          "name": "stdout"
        },
        {
          "output_type": "stream",
          "text": [
            "\rtraining:   0%|          | 82/92900 [21:22<402:51:07, 15.62s/it]"
          ],
          "name": "stderr"
        },
        {
          "output_type": "stream",
          "text": [
            "training loss: 1.7203102111816406\n"
          ],
          "name": "stdout"
        },
        {
          "output_type": "stream",
          "text": [
            "\rtraining:   0%|          | 83/92900 [21:38<402:49:00, 15.62s/it]"
          ],
          "name": "stderr"
        },
        {
          "output_type": "stream",
          "text": [
            "training loss: 1.7702040672302246\n"
          ],
          "name": "stdout"
        },
        {
          "output_type": "stream",
          "text": [
            "\rtraining:   0%|          | 84/92900 [21:53<402:53:06, 15.63s/it]"
          ],
          "name": "stderr"
        },
        {
          "output_type": "stream",
          "text": [
            "training loss: 1.5810576677322388\n"
          ],
          "name": "stdout"
        },
        {
          "output_type": "stream",
          "text": [
            "\rtraining:   0%|          | 85/92900 [22:09<402:55:59, 15.63s/it]"
          ],
          "name": "stderr"
        },
        {
          "output_type": "stream",
          "text": [
            "training loss: 1.722733736038208\n"
          ],
          "name": "stdout"
        },
        {
          "output_type": "stream",
          "text": [
            "\rtraining:   0%|          | 86/92900 [22:24<402:51:44, 15.63s/it]"
          ],
          "name": "stderr"
        },
        {
          "output_type": "stream",
          "text": [
            "training loss: 1.7070415019989014\n"
          ],
          "name": "stdout"
        },
        {
          "output_type": "stream",
          "text": [
            "\rtraining:   0%|          | 87/92900 [22:40<402:42:38, 15.62s/it]"
          ],
          "name": "stderr"
        },
        {
          "output_type": "stream",
          "text": [
            "training loss: 1.723016381263733\n"
          ],
          "name": "stdout"
        },
        {
          "output_type": "stream",
          "text": [
            "\rtraining:   0%|          | 88/92900 [22:56<402:41:29, 15.62s/it]"
          ],
          "name": "stderr"
        },
        {
          "output_type": "stream",
          "text": [
            "training loss: 1.7787882089614868\n"
          ],
          "name": "stdout"
        },
        {
          "output_type": "stream",
          "text": [
            "\rtraining:   0%|          | 89/92900 [23:11<402:41:18, 15.62s/it]"
          ],
          "name": "stderr"
        },
        {
          "output_type": "stream",
          "text": [
            "training loss: 1.7308590412139893\n"
          ],
          "name": "stdout"
        },
        {
          "output_type": "stream",
          "text": [
            "\rtraining:   0%|          | 90/92900 [23:27<402:40:18, 15.62s/it]"
          ],
          "name": "stderr"
        },
        {
          "output_type": "stream",
          "text": [
            "training loss: 1.739487648010254\n"
          ],
          "name": "stdout"
        },
        {
          "output_type": "stream",
          "text": [
            "\rtraining:   0%|          | 91/92900 [23:43<402:49:02, 15.63s/it]"
          ],
          "name": "stderr"
        },
        {
          "output_type": "stream",
          "text": [
            "training loss: 1.7335829734802246\n"
          ],
          "name": "stdout"
        },
        {
          "output_type": "stream",
          "text": [
            "\rtraining:   0%|          | 92/92900 [23:58<402:49:28, 15.63s/it]"
          ],
          "name": "stderr"
        },
        {
          "output_type": "stream",
          "text": [
            "training loss: 1.7032020092010498\n"
          ],
          "name": "stdout"
        },
        {
          "output_type": "stream",
          "text": [
            "\rtraining:   0%|          | 93/92900 [24:14<402:51:28, 15.63s/it]"
          ],
          "name": "stderr"
        },
        {
          "output_type": "stream",
          "text": [
            "training loss: 1.7292089462280273\n"
          ],
          "name": "stdout"
        },
        {
          "output_type": "stream",
          "text": [
            "\rtraining:   0%|          | 94/92900 [24:29<402:45:15, 15.62s/it]"
          ],
          "name": "stderr"
        },
        {
          "output_type": "stream",
          "text": [
            "training loss: 1.6555389165878296\n"
          ],
          "name": "stdout"
        },
        {
          "output_type": "stream",
          "text": [
            "\rtraining:   0%|          | 95/92900 [24:45<402:49:26, 15.63s/it]"
          ],
          "name": "stderr"
        },
        {
          "output_type": "stream",
          "text": [
            "training loss: 1.777425765991211\n"
          ],
          "name": "stdout"
        },
        {
          "output_type": "stream",
          "text": [
            "\rtraining:   0%|          | 96/92900 [25:01<402:47:44, 15.63s/it]"
          ],
          "name": "stderr"
        },
        {
          "output_type": "stream",
          "text": [
            "training loss: 1.7631758451461792\n"
          ],
          "name": "stdout"
        },
        {
          "output_type": "stream",
          "text": [
            "\rtraining:   0%|          | 97/92900 [25:16<402:53:35, 15.63s/it]"
          ],
          "name": "stderr"
        },
        {
          "output_type": "stream",
          "text": [
            "training loss: 1.7266767024993896\n"
          ],
          "name": "stdout"
        },
        {
          "output_type": "stream",
          "text": [
            "\rtraining:   0%|          | 98/92900 [25:32<402:54:31, 15.63s/it]"
          ],
          "name": "stderr"
        },
        {
          "output_type": "stream",
          "text": [
            "training loss: 1.7664827108383179\n"
          ],
          "name": "stdout"
        },
        {
          "output_type": "stream",
          "text": [
            "\rtraining:   0%|          | 99/92900 [25:48<402:49:01, 15.63s/it]"
          ],
          "name": "stderr"
        },
        {
          "output_type": "stream",
          "text": [
            "training loss: 1.6743112802505493\n"
          ],
          "name": "stdout"
        },
        {
          "output_type": "stream",
          "text": [
            "\rtraining:   0%|          | 100/92900 [26:03<402:47:23, 15.63s/it]"
          ],
          "name": "stderr"
        },
        {
          "output_type": "stream",
          "text": [
            "training loss: 1.7487273216247559\n",
            "training loss: 1.603800892829895\n"
          ],
          "name": "stdout"
        },
        {
          "output_type": "stream",
          "text": [
            "\rtraining:   0%|          | 101/92900 [26:20<413:16:44, 16.03s/it]"
          ],
          "name": "stderr"
        },
        {
          "output_type": "stream",
          "text": [
            "validation loss: 1.7840944528579712\n"
          ],
          "name": "stdout"
        },
        {
          "output_type": "stream",
          "text": [
            "\rtraining:   0%|          | 102/92900 [26:36<410:14:24, 15.91s/it]"
          ],
          "name": "stderr"
        },
        {
          "output_type": "stream",
          "text": [
            "training loss: 1.6680952310562134\n"
          ],
          "name": "stdout"
        },
        {
          "output_type": "stream",
          "text": [
            "\rtraining:   0%|          | 103/92900 [26:51<407:57:20, 15.83s/it]"
          ],
          "name": "stderr"
        },
        {
          "output_type": "stream",
          "text": [
            "training loss: 1.6256617307662964\n"
          ],
          "name": "stdout"
        },
        {
          "output_type": "stream",
          "text": [
            "\rtraining:   0%|          | 104/92900 [27:07<406:24:21, 15.77s/it]"
          ],
          "name": "stderr"
        },
        {
          "output_type": "stream",
          "text": [
            "training loss: 1.64841890335083\n"
          ],
          "name": "stdout"
        },
        {
          "output_type": "stream",
          "text": [
            "\rtraining:   0%|          | 105/92900 [27:23<405:18:35, 15.72s/it]"
          ],
          "name": "stderr"
        },
        {
          "output_type": "stream",
          "text": [
            "training loss: 1.7301509380340576\n"
          ],
          "name": "stdout"
        },
        {
          "output_type": "stream",
          "text": [
            "\rtraining:   0%|          | 106/92900 [27:38<404:29:40, 15.69s/it]"
          ],
          "name": "stderr"
        },
        {
          "output_type": "stream",
          "text": [
            "training loss: 1.7108664512634277\n"
          ],
          "name": "stdout"
        },
        {
          "output_type": "stream",
          "text": [
            "\rtraining:   0%|          | 107/92900 [27:54<403:52:22, 15.67s/it]"
          ],
          "name": "stderr"
        },
        {
          "output_type": "stream",
          "text": [
            "training loss: 1.7543845176696777\n"
          ],
          "name": "stdout"
        },
        {
          "output_type": "stream",
          "text": [
            "\rtraining:   0%|          | 108/92900 [28:10<403:35:24, 15.66s/it]"
          ],
          "name": "stderr"
        },
        {
          "output_type": "stream",
          "text": [
            "training loss: 1.6428864002227783\n"
          ],
          "name": "stdout"
        },
        {
          "output_type": "stream",
          "text": [
            "\rtraining:   0%|          | 109/92900 [28:25<403:12:43, 15.64s/it]"
          ],
          "name": "stderr"
        },
        {
          "output_type": "stream",
          "text": [
            "training loss: 1.7053438425064087\n"
          ],
          "name": "stdout"
        },
        {
          "output_type": "stream",
          "text": [
            "\rtraining:   0%|          | 110/92900 [28:41<402:55:45, 15.63s/it]"
          ],
          "name": "stderr"
        },
        {
          "output_type": "stream",
          "text": [
            "training loss: 1.7233476638793945\n"
          ],
          "name": "stdout"
        },
        {
          "output_type": "stream",
          "text": [
            "\rtraining:   0%|          | 111/92900 [28:56<402:46:25, 15.63s/it]"
          ],
          "name": "stderr"
        },
        {
          "output_type": "stream",
          "text": [
            "training loss: 1.6014286279678345\n"
          ],
          "name": "stdout"
        },
        {
          "output_type": "stream",
          "text": [
            "\rtraining:   0%|          | 112/92900 [29:12<402:41:22, 15.62s/it]"
          ],
          "name": "stderr"
        },
        {
          "output_type": "stream",
          "text": [
            "training loss: 1.5885158777236938\n"
          ],
          "name": "stdout"
        },
        {
          "output_type": "stream",
          "text": [
            "\rtraining:   0%|          | 113/92900 [29:28<402:40:39, 15.62s/it]"
          ],
          "name": "stderr"
        },
        {
          "output_type": "stream",
          "text": [
            "training loss: 1.6926604509353638\n"
          ],
          "name": "stdout"
        },
        {
          "output_type": "stream",
          "text": [
            "\rtraining:   0%|          | 114/92900 [29:43<402:31:41, 15.62s/it]"
          ],
          "name": "stderr"
        },
        {
          "output_type": "stream",
          "text": [
            "training loss: 1.7179429531097412\n"
          ],
          "name": "stdout"
        },
        {
          "output_type": "stream",
          "text": [
            "\rtraining:   0%|          | 115/92900 [29:59<402:23:16, 15.61s/it]"
          ],
          "name": "stderr"
        },
        {
          "output_type": "stream",
          "text": [
            "training loss: 1.625577688217163\n"
          ],
          "name": "stdout"
        },
        {
          "output_type": "stream",
          "text": [
            "\rtraining:   0%|          | 116/92900 [30:14<402:19:08, 15.61s/it]"
          ],
          "name": "stderr"
        },
        {
          "output_type": "stream",
          "text": [
            "training loss: 1.7150001525878906\n"
          ],
          "name": "stdout"
        },
        {
          "output_type": "stream",
          "text": [
            "\rtraining:   0%|          | 117/92900 [30:30<402:11:59, 15.61s/it]"
          ],
          "name": "stderr"
        },
        {
          "output_type": "stream",
          "text": [
            "training loss: 1.8238451480865479\n"
          ],
          "name": "stdout"
        },
        {
          "output_type": "stream",
          "text": [
            "\rtraining:   0%|          | 118/92900 [30:46<402:07:33, 15.60s/it]"
          ],
          "name": "stderr"
        },
        {
          "output_type": "stream",
          "text": [
            "training loss: 1.718449592590332\n"
          ],
          "name": "stdout"
        },
        {
          "output_type": "stream",
          "text": [
            "\rtraining:   0%|          | 119/92900 [31:01<402:07:05, 15.60s/it]"
          ],
          "name": "stderr"
        },
        {
          "output_type": "stream",
          "text": [
            "training loss: 1.7226197719573975\n"
          ],
          "name": "stdout"
        },
        {
          "output_type": "stream",
          "text": [
            "\rtraining:   0%|          | 120/92900 [31:17<402:12:22, 15.61s/it]"
          ],
          "name": "stderr"
        },
        {
          "output_type": "stream",
          "text": [
            "training loss: 1.7083890438079834\n"
          ],
          "name": "stdout"
        },
        {
          "output_type": "stream",
          "text": [
            "\rtraining:   0%|          | 121/92900 [31:32<402:16:31, 15.61s/it]"
          ],
          "name": "stderr"
        },
        {
          "output_type": "stream",
          "text": [
            "training loss: 1.7878295183181763\n"
          ],
          "name": "stdout"
        },
        {
          "output_type": "stream",
          "text": [
            "\rtraining:   0%|          | 122/92900 [31:48<402:08:55, 15.60s/it]"
          ],
          "name": "stderr"
        },
        {
          "output_type": "stream",
          "text": [
            "training loss: 1.6498057842254639\n"
          ],
          "name": "stdout"
        },
        {
          "output_type": "stream",
          "text": [
            "\rtraining:   0%|          | 123/92900 [32:04<402:03:14, 15.60s/it]"
          ],
          "name": "stderr"
        },
        {
          "output_type": "stream",
          "text": [
            "training loss: 1.6031759977340698\n"
          ],
          "name": "stdout"
        },
        {
          "output_type": "stream",
          "text": [
            "\rtraining:   0%|          | 124/92900 [32:19<402:04:00, 15.60s/it]"
          ],
          "name": "stderr"
        },
        {
          "output_type": "stream",
          "text": [
            "training loss: 1.6466944217681885\n"
          ],
          "name": "stdout"
        },
        {
          "output_type": "stream",
          "text": [
            "\rtraining:   0%|          | 125/92900 [32:35<401:55:35, 15.60s/it]"
          ],
          "name": "stderr"
        },
        {
          "output_type": "stream",
          "text": [
            "training loss: 1.7788684368133545\n"
          ],
          "name": "stdout"
        },
        {
          "output_type": "stream",
          "text": [
            "\rtraining:   0%|          | 126/92900 [32:50<401:50:01, 15.59s/it]"
          ],
          "name": "stderr"
        },
        {
          "output_type": "stream",
          "text": [
            "training loss: 1.737708568572998\n"
          ],
          "name": "stdout"
        },
        {
          "output_type": "stream",
          "text": [
            "\rtraining:   0%|          | 127/92900 [33:06<401:54:13, 15.60s/it]"
          ],
          "name": "stderr"
        },
        {
          "output_type": "stream",
          "text": [
            "training loss: 1.6259958744049072\n"
          ],
          "name": "stdout"
        },
        {
          "output_type": "stream",
          "text": [
            "\rtraining:   0%|          | 128/92900 [33:22<401:52:52, 15.59s/it]"
          ],
          "name": "stderr"
        },
        {
          "output_type": "stream",
          "text": [
            "training loss: 1.779010534286499\n"
          ],
          "name": "stdout"
        },
        {
          "output_type": "stream",
          "text": [
            "\rtraining:   0%|          | 129/92900 [33:37<401:54:45, 15.60s/it]"
          ],
          "name": "stderr"
        },
        {
          "output_type": "stream",
          "text": [
            "training loss: 1.7187690734863281\n"
          ],
          "name": "stdout"
        },
        {
          "output_type": "stream",
          "text": [
            "\rtraining:   0%|          | 130/92900 [33:53<401:49:19, 15.59s/it]"
          ],
          "name": "stderr"
        },
        {
          "output_type": "stream",
          "text": [
            "training loss: 1.7775607109069824\n"
          ],
          "name": "stdout"
        },
        {
          "output_type": "stream",
          "text": [
            "\rtraining:   0%|          | 131/92900 [34:08<401:53:17, 15.60s/it]"
          ],
          "name": "stderr"
        },
        {
          "output_type": "stream",
          "text": [
            "training loss: 1.7743432521820068\n"
          ],
          "name": "stdout"
        },
        {
          "output_type": "stream",
          "text": [
            "\rtraining:   0%|          | 132/92900 [34:24<401:55:21, 15.60s/it]"
          ],
          "name": "stderr"
        },
        {
          "output_type": "stream",
          "text": [
            "training loss: 1.6935049295425415\n"
          ],
          "name": "stdout"
        },
        {
          "output_type": "stream",
          "text": [
            "\rtraining:   0%|          | 133/92900 [34:40<401:53:49, 15.60s/it]"
          ],
          "name": "stderr"
        },
        {
          "output_type": "stream",
          "text": [
            "training loss: 1.7014796733856201\n"
          ],
          "name": "stdout"
        },
        {
          "output_type": "stream",
          "text": [
            "\rtraining:   0%|          | 134/92900 [34:55<401:48:40, 15.59s/it]"
          ],
          "name": "stderr"
        },
        {
          "output_type": "stream",
          "text": [
            "training loss: 1.7377511262893677\n"
          ],
          "name": "stdout"
        },
        {
          "output_type": "stream",
          "text": [
            "\rtraining:   0%|          | 135/92900 [35:11<401:49:19, 15.59s/it]"
          ],
          "name": "stderr"
        },
        {
          "output_type": "stream",
          "text": [
            "training loss: 1.7246487140655518\n"
          ],
          "name": "stdout"
        },
        {
          "output_type": "stream",
          "text": [
            "\rtraining:   0%|          | 136/92900 [35:26<401:47:42, 15.59s/it]"
          ],
          "name": "stderr"
        },
        {
          "output_type": "stream",
          "text": [
            "training loss: 1.6342600584030151\n"
          ],
          "name": "stdout"
        },
        {
          "output_type": "stream",
          "text": [
            "\rtraining:   0%|          | 137/92900 [35:42<401:47:51, 15.59s/it]"
          ],
          "name": "stderr"
        },
        {
          "output_type": "stream",
          "text": [
            "training loss: 1.7888445854187012\n"
          ],
          "name": "stdout"
        },
        {
          "output_type": "stream",
          "text": [
            "\rtraining:   0%|          | 138/92900 [35:58<401:46:09, 15.59s/it]"
          ],
          "name": "stderr"
        },
        {
          "output_type": "stream",
          "text": [
            "training loss: 1.660156011581421\n"
          ],
          "name": "stdout"
        },
        {
          "output_type": "stream",
          "text": [
            "\rtraining:   0%|          | 139/92900 [36:13<401:47:34, 15.59s/it]"
          ],
          "name": "stderr"
        },
        {
          "output_type": "stream",
          "text": [
            "training loss: 1.7133816480636597\n"
          ],
          "name": "stdout"
        },
        {
          "output_type": "stream",
          "text": [
            "\rtraining:   0%|          | 140/92900 [36:29<401:48:21, 15.59s/it]"
          ],
          "name": "stderr"
        },
        {
          "output_type": "stream",
          "text": [
            "training loss: 1.5979547500610352\n"
          ],
          "name": "stdout"
        },
        {
          "output_type": "stream",
          "text": [
            "\rtraining:   0%|          | 141/92900 [36:44<401:44:27, 15.59s/it]"
          ],
          "name": "stderr"
        },
        {
          "output_type": "stream",
          "text": [
            "training loss: 1.7767125368118286\n"
          ],
          "name": "stdout"
        },
        {
          "output_type": "stream",
          "text": [
            "\rtraining:   0%|          | 142/92900 [37:00<401:41:26, 15.59s/it]"
          ],
          "name": "stderr"
        },
        {
          "output_type": "stream",
          "text": [
            "training loss: 1.7991399765014648\n"
          ],
          "name": "stdout"
        },
        {
          "output_type": "stream",
          "text": [
            "\rtraining:   0%|          | 143/92900 [37:15<401:40:35, 15.59s/it]"
          ],
          "name": "stderr"
        },
        {
          "output_type": "stream",
          "text": [
            "training loss: 1.6792482137680054\n"
          ],
          "name": "stdout"
        },
        {
          "output_type": "stream",
          "text": [
            "\rtraining:   0%|          | 144/92900 [37:31<401:39:10, 15.59s/it]"
          ],
          "name": "stderr"
        },
        {
          "output_type": "stream",
          "text": [
            "training loss: 1.48764967918396\n"
          ],
          "name": "stdout"
        },
        {
          "output_type": "stream",
          "text": [
            "\rtraining:   0%|          | 145/92900 [37:47<401:43:34, 15.59s/it]"
          ],
          "name": "stderr"
        },
        {
          "output_type": "stream",
          "text": [
            "training loss: 1.5739883184432983\n"
          ],
          "name": "stdout"
        },
        {
          "output_type": "stream",
          "text": [
            "\rtraining:   0%|          | 146/92900 [38:02<401:38:22, 15.59s/it]"
          ],
          "name": "stderr"
        },
        {
          "output_type": "stream",
          "text": [
            "training loss: 1.7233340740203857\n"
          ],
          "name": "stdout"
        },
        {
          "output_type": "stream",
          "text": [
            "\rtraining:   0%|          | 147/92900 [38:18<401:39:40, 15.59s/it]"
          ],
          "name": "stderr"
        },
        {
          "output_type": "stream",
          "text": [
            "training loss: 1.6680983304977417\n"
          ],
          "name": "stdout"
        },
        {
          "output_type": "stream",
          "text": [
            "\rtraining:   0%|          | 148/92900 [38:33<401:34:37, 15.59s/it]"
          ],
          "name": "stderr"
        },
        {
          "output_type": "stream",
          "text": [
            "training loss: 1.820534586906433\n"
          ],
          "name": "stdout"
        },
        {
          "output_type": "stream",
          "text": [
            "\rtraining:   0%|          | 149/92900 [38:49<401:35:49, 15.59s/it]"
          ],
          "name": "stderr"
        },
        {
          "output_type": "stream",
          "text": [
            "training loss: 1.7470431327819824\n"
          ],
          "name": "stdout"
        },
        {
          "output_type": "stream",
          "text": [
            "\rtraining:   0%|          | 150/92900 [39:05<401:40:55, 15.59s/it]"
          ],
          "name": "stderr"
        },
        {
          "output_type": "stream",
          "text": [
            "training loss: 1.8211586475372314\n"
          ],
          "name": "stdout"
        },
        {
          "output_type": "stream",
          "text": [
            "\rtraining:   0%|          | 151/92900 [39:20<401:46:58, 15.59s/it]"
          ],
          "name": "stderr"
        },
        {
          "output_type": "stream",
          "text": [
            "training loss: 1.6244843006134033\n"
          ],
          "name": "stdout"
        },
        {
          "output_type": "stream",
          "text": [
            "\rtraining:   0%|          | 152/92900 [39:36<401:46:56, 15.60s/it]"
          ],
          "name": "stderr"
        },
        {
          "output_type": "stream",
          "text": [
            "training loss: 1.6524004936218262\n"
          ],
          "name": "stdout"
        },
        {
          "output_type": "stream",
          "text": [
            "\rtraining:   0%|          | 153/92900 [39:51<401:43:01, 15.59s/it]"
          ],
          "name": "stderr"
        },
        {
          "output_type": "stream",
          "text": [
            "training loss: 1.6245273351669312\n"
          ],
          "name": "stdout"
        },
        {
          "output_type": "stream",
          "text": [
            "\rtraining:   0%|          | 154/92900 [40:07<401:42:03, 15.59s/it]"
          ],
          "name": "stderr"
        },
        {
          "output_type": "stream",
          "text": [
            "training loss: 1.7440545558929443\n"
          ],
          "name": "stdout"
        },
        {
          "output_type": "stream",
          "text": [
            "\rtraining:   0%|          | 155/92900 [40:23<401:40:31, 15.59s/it]"
          ],
          "name": "stderr"
        },
        {
          "output_type": "stream",
          "text": [
            "training loss: 1.720760464668274\n"
          ],
          "name": "stdout"
        },
        {
          "output_type": "stream",
          "text": [
            "\rtraining:   0%|          | 156/92900 [40:38<401:39:33, 15.59s/it]"
          ],
          "name": "stderr"
        },
        {
          "output_type": "stream",
          "text": [
            "training loss: 1.7257108688354492\n"
          ],
          "name": "stdout"
        },
        {
          "output_type": "stream",
          "text": [
            "\rtraining:   0%|          | 157/92900 [40:54<401:38:35, 15.59s/it]"
          ],
          "name": "stderr"
        },
        {
          "output_type": "stream",
          "text": [
            "training loss: 1.6958708763122559\n"
          ],
          "name": "stdout"
        },
        {
          "output_type": "stream",
          "text": [
            "\rtraining:   0%|          | 158/92900 [41:09<401:41:07, 15.59s/it]"
          ],
          "name": "stderr"
        },
        {
          "output_type": "stream",
          "text": [
            "training loss: 1.7109802961349487\n"
          ],
          "name": "stdout"
        },
        {
          "output_type": "stream",
          "text": [
            "\rtraining:   0%|          | 159/92900 [41:25<401:47:06, 15.60s/it]"
          ],
          "name": "stderr"
        },
        {
          "output_type": "stream",
          "text": [
            "training loss: 1.743286371231079\n"
          ],
          "name": "stdout"
        },
        {
          "output_type": "stream",
          "text": [
            "\rtraining:   0%|          | 160/92900 [41:41<402:29:44, 15.62s/it]"
          ],
          "name": "stderr"
        },
        {
          "output_type": "stream",
          "text": [
            "training loss: 1.7588274478912354\n"
          ],
          "name": "stdout"
        },
        {
          "output_type": "stream",
          "text": [
            "\rtraining:   0%|          | 161/92900 [41:56<402:15:16, 15.61s/it]"
          ],
          "name": "stderr"
        },
        {
          "output_type": "stream",
          "text": [
            "training loss: 1.7568809986114502\n"
          ],
          "name": "stdout"
        },
        {
          "output_type": "stream",
          "text": [
            "\rtraining:   0%|          | 162/92900 [42:12<402:04:05, 15.61s/it]"
          ],
          "name": "stderr"
        },
        {
          "output_type": "stream",
          "text": [
            "training loss: 1.611032485961914\n"
          ],
          "name": "stdout"
        },
        {
          "output_type": "stream",
          "text": [
            "\rtraining:   0%|          | 163/92900 [42:27<401:59:53, 15.61s/it]"
          ],
          "name": "stderr"
        },
        {
          "output_type": "stream",
          "text": [
            "training loss: 1.6568667888641357\n"
          ],
          "name": "stdout"
        },
        {
          "output_type": "stream",
          "text": [
            "\rtraining:   0%|          | 164/92900 [42:43<401:55:40, 15.60s/it]"
          ],
          "name": "stderr"
        },
        {
          "output_type": "stream",
          "text": [
            "training loss: 1.74855375289917\n"
          ],
          "name": "stdout"
        },
        {
          "output_type": "stream",
          "text": [
            "\rtraining:   0%|          | 165/92900 [42:59<401:51:54, 15.60s/it]"
          ],
          "name": "stderr"
        },
        {
          "output_type": "stream",
          "text": [
            "training loss: 1.8400070667266846\n"
          ],
          "name": "stdout"
        },
        {
          "output_type": "stream",
          "text": [
            "\rtraining:   0%|          | 166/92900 [43:14<401:48:07, 15.60s/it]"
          ],
          "name": "stderr"
        },
        {
          "output_type": "stream",
          "text": [
            "training loss: 1.6072875261306763\n"
          ],
          "name": "stdout"
        },
        {
          "output_type": "stream",
          "text": [
            "\rtraining:   0%|          | 167/92900 [43:30<401:47:48, 15.60s/it]"
          ],
          "name": "stderr"
        },
        {
          "output_type": "stream",
          "text": [
            "training loss: 1.7504973411560059\n"
          ],
          "name": "stdout"
        },
        {
          "output_type": "stream",
          "text": [
            "\rtraining:   0%|          | 168/92900 [43:45<401:49:58, 15.60s/it]"
          ],
          "name": "stderr"
        },
        {
          "output_type": "stream",
          "text": [
            "training loss: 1.7256799936294556\n"
          ],
          "name": "stdout"
        },
        {
          "output_type": "stream",
          "text": [
            "\rtraining:   0%|          | 169/92900 [44:01<401:49:18, 15.60s/it]"
          ],
          "name": "stderr"
        },
        {
          "output_type": "stream",
          "text": [
            "training loss: 1.716851830482483\n"
          ],
          "name": "stdout"
        },
        {
          "output_type": "stream",
          "text": [
            "\rtraining:   0%|          | 170/92900 [44:17<401:47:19, 15.60s/it]"
          ],
          "name": "stderr"
        },
        {
          "output_type": "stream",
          "text": [
            "training loss: 1.4596641063690186\n"
          ],
          "name": "stdout"
        },
        {
          "output_type": "stream",
          "text": [
            "\rtraining:   0%|          | 171/92900 [44:32<401:43:54, 15.60s/it]"
          ],
          "name": "stderr"
        },
        {
          "output_type": "stream",
          "text": [
            "training loss: 1.6674644947052002\n"
          ],
          "name": "stdout"
        },
        {
          "output_type": "stream",
          "text": [
            "\rtraining:   0%|          | 172/92900 [44:48<401:43:20, 15.60s/it]"
          ],
          "name": "stderr"
        },
        {
          "output_type": "stream",
          "text": [
            "training loss: 1.672451376914978\n"
          ],
          "name": "stdout"
        },
        {
          "output_type": "stream",
          "text": [
            "\rtraining:   0%|          | 173/92900 [45:03<401:37:15, 15.59s/it]"
          ],
          "name": "stderr"
        },
        {
          "output_type": "stream",
          "text": [
            "training loss: 1.6848829984664917\n"
          ],
          "name": "stdout"
        },
        {
          "output_type": "stream",
          "text": [
            "\rtraining:   0%|          | 174/92900 [45:19<401:42:35, 15.60s/it]"
          ],
          "name": "stderr"
        },
        {
          "output_type": "stream",
          "text": [
            "training loss: 1.7314732074737549\n"
          ],
          "name": "stdout"
        },
        {
          "output_type": "stream",
          "text": [
            "\rtraining:   0%|          | 175/92900 [45:35<401:38:19, 15.59s/it]"
          ],
          "name": "stderr"
        },
        {
          "output_type": "stream",
          "text": [
            "training loss: 1.7266919612884521\n"
          ],
          "name": "stdout"
        },
        {
          "output_type": "stream",
          "text": [
            "\rtraining:   0%|          | 176/92900 [45:50<401:36:43, 15.59s/it]"
          ],
          "name": "stderr"
        },
        {
          "output_type": "stream",
          "text": [
            "training loss: 1.7785851955413818\n"
          ],
          "name": "stdout"
        },
        {
          "output_type": "stream",
          "text": [
            "\rtraining:   0%|          | 177/92900 [46:06<401:37:07, 15.59s/it]"
          ],
          "name": "stderr"
        },
        {
          "output_type": "stream",
          "text": [
            "training loss: 1.7150641679763794\n"
          ],
          "name": "stdout"
        },
        {
          "output_type": "stream",
          "text": [
            "\rtraining:   0%|          | 178/92900 [46:21<401:41:40, 15.60s/it]"
          ],
          "name": "stderr"
        },
        {
          "output_type": "stream",
          "text": [
            "training loss: 1.6598446369171143\n"
          ],
          "name": "stdout"
        },
        {
          "output_type": "stream",
          "text": [
            "\rtraining:   0%|          | 179/92900 [46:37<401:41:21, 15.60s/it]"
          ],
          "name": "stderr"
        },
        {
          "output_type": "stream",
          "text": [
            "training loss: 1.731834053993225\n"
          ],
          "name": "stdout"
        },
        {
          "output_type": "stream",
          "text": [
            "\rtraining:   0%|          | 180/92900 [46:53<401:33:40, 15.59s/it]"
          ],
          "name": "stderr"
        },
        {
          "output_type": "stream",
          "text": [
            "training loss: 1.667119026184082\n"
          ],
          "name": "stdout"
        },
        {
          "output_type": "stream",
          "text": [
            "\rtraining:   0%|          | 181/92900 [47:08<401:36:33, 15.59s/it]"
          ],
          "name": "stderr"
        },
        {
          "output_type": "stream",
          "text": [
            "training loss: 1.7477694749832153\n"
          ],
          "name": "stdout"
        },
        {
          "output_type": "stream",
          "text": [
            "\rtraining:   0%|          | 182/92900 [47:24<401:34:52, 15.59s/it]"
          ],
          "name": "stderr"
        },
        {
          "output_type": "stream",
          "text": [
            "training loss: 1.7212984561920166\n"
          ],
          "name": "stdout"
        },
        {
          "output_type": "stream",
          "text": [
            "\rtraining:   0%|          | 183/92900 [47:39<401:34:51, 15.59s/it]"
          ],
          "name": "stderr"
        },
        {
          "output_type": "stream",
          "text": [
            "training loss: 1.5898939371109009\n"
          ],
          "name": "stdout"
        },
        {
          "output_type": "stream",
          "text": [
            "\rtraining:   0%|          | 184/92900 [47:55<401:35:42, 15.59s/it]"
          ],
          "name": "stderr"
        },
        {
          "output_type": "stream",
          "text": [
            "training loss: 1.6695704460144043\n"
          ],
          "name": "stdout"
        },
        {
          "output_type": "stream",
          "text": [
            "\rtraining:   0%|          | 185/92900 [48:11<401:31:46, 15.59s/it]"
          ],
          "name": "stderr"
        },
        {
          "output_type": "stream",
          "text": [
            "training loss: 1.7677688598632812\n"
          ],
          "name": "stdout"
        },
        {
          "output_type": "stream",
          "text": [
            "\rtraining:   0%|          | 186/92900 [48:26<401:31:49, 15.59s/it]"
          ],
          "name": "stderr"
        },
        {
          "output_type": "stream",
          "text": [
            "training loss: 1.6809993982315063\n"
          ],
          "name": "stdout"
        },
        {
          "output_type": "stream",
          "text": [
            "\rtraining:   0%|          | 187/92900 [48:42<401:32:02, 15.59s/it]"
          ],
          "name": "stderr"
        },
        {
          "output_type": "stream",
          "text": [
            "training loss: 1.647216796875\n"
          ],
          "name": "stdout"
        },
        {
          "output_type": "stream",
          "text": [
            "\rtraining:   0%|          | 188/92900 [48:57<401:35:10, 15.59s/it]"
          ],
          "name": "stderr"
        },
        {
          "output_type": "stream",
          "text": [
            "training loss: 1.7933801412582397\n"
          ],
          "name": "stdout"
        },
        {
          "output_type": "stream",
          "text": [
            "\rtraining:   0%|          | 189/92900 [49:13<401:34:26, 15.59s/it]"
          ],
          "name": "stderr"
        },
        {
          "output_type": "stream",
          "text": [
            "training loss: 1.7750508785247803\n"
          ],
          "name": "stdout"
        },
        {
          "output_type": "stream",
          "text": [
            "\rtraining:   0%|          | 190/92900 [49:28<401:34:45, 15.59s/it]"
          ],
          "name": "stderr"
        },
        {
          "output_type": "stream",
          "text": [
            "training loss: 1.6292122602462769\n"
          ],
          "name": "stdout"
        },
        {
          "output_type": "stream",
          "text": [
            "\rtraining:   0%|          | 191/92900 [49:44<401:31:13, 15.59s/it]"
          ],
          "name": "stderr"
        },
        {
          "output_type": "stream",
          "text": [
            "training loss: 1.7137798070907593\n"
          ],
          "name": "stdout"
        },
        {
          "output_type": "stream",
          "text": [
            "\rtraining:   0%|          | 192/92900 [50:00<401:35:03, 15.59s/it]"
          ],
          "name": "stderr"
        },
        {
          "output_type": "stream",
          "text": [
            "training loss: 1.7480533123016357\n"
          ],
          "name": "stdout"
        },
        {
          "output_type": "stream",
          "text": [
            "\rtraining:   0%|          | 193/92900 [50:15<401:35:02, 15.59s/it]"
          ],
          "name": "stderr"
        },
        {
          "output_type": "stream",
          "text": [
            "training loss: 1.7925947904586792\n"
          ],
          "name": "stdout"
        },
        {
          "output_type": "stream",
          "text": [
            "\rtraining:   0%|          | 194/92900 [50:31<401:29:42, 15.59s/it]"
          ],
          "name": "stderr"
        },
        {
          "output_type": "stream",
          "text": [
            "training loss: 1.7410308122634888\n"
          ],
          "name": "stdout"
        },
        {
          "output_type": "stream",
          "text": [
            "\rtraining:   0%|          | 195/92900 [50:46<401:33:26, 15.59s/it]"
          ],
          "name": "stderr"
        },
        {
          "output_type": "stream",
          "text": [
            "training loss: 1.6605701446533203\n"
          ],
          "name": "stdout"
        },
        {
          "output_type": "stream",
          "text": [
            "\rtraining:   0%|          | 196/92900 [51:02<401:31:30, 15.59s/it]"
          ],
          "name": "stderr"
        },
        {
          "output_type": "stream",
          "text": [
            "training loss: 1.790672779083252\n"
          ],
          "name": "stdout"
        },
        {
          "output_type": "stream",
          "text": [
            "\rtraining:   0%|          | 197/92900 [51:18<401:37:48, 15.60s/it]"
          ],
          "name": "stderr"
        },
        {
          "output_type": "stream",
          "text": [
            "training loss: 1.6313841342926025\n"
          ],
          "name": "stdout"
        },
        {
          "output_type": "stream",
          "text": [
            "\rtraining:   0%|          | 198/92900 [51:33<401:34:24, 15.59s/it]"
          ],
          "name": "stderr"
        },
        {
          "output_type": "stream",
          "text": [
            "training loss: 1.7809441089630127\n"
          ],
          "name": "stdout"
        },
        {
          "output_type": "stream",
          "text": [
            "\rtraining:   0%|          | 199/92900 [51:49<401:34:28, 15.59s/it]"
          ],
          "name": "stderr"
        },
        {
          "output_type": "stream",
          "text": [
            "training loss: 1.7501516342163086\n"
          ],
          "name": "stdout"
        },
        {
          "output_type": "stream",
          "text": [
            "\rtraining:   0%|          | 200/92900 [52:04<401:34:37, 15.60s/it]"
          ],
          "name": "stderr"
        },
        {
          "output_type": "stream",
          "text": [
            "training loss: 1.7198959589004517\n",
            "training loss: 1.7533049583435059\n"
          ],
          "name": "stdout"
        },
        {
          "output_type": "stream",
          "text": [
            "\rtraining:   0%|          | 201/92900 [52:21<412:04:18, 16.00s/it]"
          ],
          "name": "stderr"
        },
        {
          "output_type": "stream",
          "text": [
            "validation loss: 1.6933138370513916\n"
          ],
          "name": "stdout"
        },
        {
          "output_type": "stream",
          "text": [
            "\rtraining:   0%|          | 202/92900 [52:37<408:58:29, 15.88s/it]"
          ],
          "name": "stderr"
        },
        {
          "output_type": "stream",
          "text": [
            "training loss: 1.6541767120361328\n"
          ],
          "name": "stdout"
        },
        {
          "output_type": "stream",
          "text": [
            "\rtraining:   0%|          | 203/92900 [52:53<406:38:14, 15.79s/it]"
          ],
          "name": "stderr"
        },
        {
          "output_type": "stream",
          "text": [
            "training loss: 1.5437932014465332\n"
          ],
          "name": "stdout"
        },
        {
          "output_type": "stream",
          "text": [
            "\rtraining:   0%|          | 204/92900 [53:08<405:09:26, 15.73s/it]"
          ],
          "name": "stderr"
        },
        {
          "output_type": "stream",
          "text": [
            "training loss: 1.741005778312683\n"
          ],
          "name": "stdout"
        },
        {
          "output_type": "stream",
          "text": [
            "\rtraining:   0%|          | 205/92900 [53:24<404:02:45, 15.69s/it]"
          ],
          "name": "stderr"
        },
        {
          "output_type": "stream",
          "text": [
            "training loss: 1.6471315622329712\n"
          ],
          "name": "stdout"
        },
        {
          "output_type": "stream",
          "text": [
            "\rtraining:   0%|          | 206/92900 [53:39<403:17:46, 15.66s/it]"
          ],
          "name": "stderr"
        },
        {
          "output_type": "stream",
          "text": [
            "training loss: 1.6805921792984009\n"
          ],
          "name": "stdout"
        },
        {
          "output_type": "stream",
          "text": [
            "\rtraining:   0%|          | 207/92900 [53:55<402:45:18, 15.64s/it]"
          ],
          "name": "stderr"
        },
        {
          "output_type": "stream",
          "text": [
            "training loss: 1.534804105758667\n"
          ],
          "name": "stdout"
        },
        {
          "output_type": "stream",
          "text": [
            "\rtraining:   0%|          | 208/92900 [54:11<402:18:21, 15.62s/it]"
          ],
          "name": "stderr"
        },
        {
          "output_type": "stream",
          "text": [
            "training loss: 1.6482746601104736\n"
          ],
          "name": "stdout"
        },
        {
          "output_type": "stream",
          "text": [
            "\rtraining:   0%|          | 209/92900 [54:26<402:00:03, 15.61s/it]"
          ],
          "name": "stderr"
        },
        {
          "output_type": "stream",
          "text": [
            "training loss: 1.7396061420440674\n"
          ],
          "name": "stdout"
        },
        {
          "output_type": "stream",
          "text": [
            "\rtraining:   0%|          | 210/92900 [54:42<401:46:10, 15.60s/it]"
          ],
          "name": "stderr"
        },
        {
          "output_type": "stream",
          "text": [
            "training loss: 1.6748270988464355\n"
          ],
          "name": "stdout"
        },
        {
          "output_type": "stream",
          "text": [
            "\rtraining:   0%|          | 211/92900 [54:57<401:38:20, 15.60s/it]"
          ],
          "name": "stderr"
        },
        {
          "output_type": "stream",
          "text": [
            "training loss: 1.5131464004516602\n"
          ],
          "name": "stdout"
        },
        {
          "output_type": "stream",
          "text": [
            "\rtraining:   0%|          | 212/92900 [55:13<401:42:42, 15.60s/it]"
          ],
          "name": "stderr"
        },
        {
          "output_type": "stream",
          "text": [
            "training loss: 1.675018072128296\n"
          ],
          "name": "stdout"
        },
        {
          "output_type": "stream",
          "text": [
            "\rtraining:   0%|          | 213/92900 [55:28<401:38:00, 15.60s/it]"
          ],
          "name": "stderr"
        },
        {
          "output_type": "stream",
          "text": [
            "training loss: 1.7303202152252197\n"
          ],
          "name": "stdout"
        },
        {
          "output_type": "stream",
          "text": [
            "\rtraining:   0%|          | 214/92900 [55:44<401:34:59, 15.60s/it]"
          ],
          "name": "stderr"
        },
        {
          "output_type": "stream",
          "text": [
            "training loss: 1.774868369102478\n"
          ],
          "name": "stdout"
        },
        {
          "output_type": "stream",
          "text": [
            "\rtraining:   0%|          | 215/92900 [56:00<401:28:01, 15.59s/it]"
          ],
          "name": "stderr"
        },
        {
          "output_type": "stream",
          "text": [
            "training loss: 1.6259546279907227\n"
          ],
          "name": "stdout"
        },
        {
          "output_type": "stream",
          "text": [
            "\rtraining:   0%|          | 216/92900 [56:15<401:23:38, 15.59s/it]"
          ],
          "name": "stderr"
        },
        {
          "output_type": "stream",
          "text": [
            "training loss: 1.6259218454360962\n"
          ],
          "name": "stdout"
        },
        {
          "output_type": "stream",
          "text": [
            "\rtraining:   0%|          | 217/92900 [56:31<401:21:59, 15.59s/it]"
          ],
          "name": "stderr"
        },
        {
          "output_type": "stream",
          "text": [
            "training loss: 1.6416271924972534\n"
          ],
          "name": "stdout"
        },
        {
          "output_type": "stream",
          "text": [
            "\rtraining:   0%|          | 218/92900 [56:46<401:20:59, 15.59s/it]"
          ],
          "name": "stderr"
        },
        {
          "output_type": "stream",
          "text": [
            "training loss: 1.7815343141555786\n"
          ],
          "name": "stdout"
        },
        {
          "output_type": "stream",
          "text": [
            "\rtraining:   0%|          | 219/92900 [57:02<401:19:28, 15.59s/it]"
          ],
          "name": "stderr"
        },
        {
          "output_type": "stream",
          "text": [
            "training loss: 1.6041487455368042\n"
          ],
          "name": "stdout"
        },
        {
          "output_type": "stream",
          "text": [
            "\rtraining:   0%|          | 220/92900 [57:18<401:24:36, 15.59s/it]"
          ],
          "name": "stderr"
        },
        {
          "output_type": "stream",
          "text": [
            "training loss: 1.7253810167312622\n"
          ],
          "name": "stdout"
        },
        {
          "output_type": "stream",
          "text": [
            "\rtraining:   0%|          | 221/92900 [57:33<401:20:07, 15.59s/it]"
          ],
          "name": "stderr"
        },
        {
          "output_type": "stream",
          "text": [
            "training loss: 1.7610682249069214\n"
          ],
          "name": "stdout"
        },
        {
          "output_type": "stream",
          "text": [
            "\rtraining:   0%|          | 222/92900 [57:49<401:21:31, 15.59s/it]"
          ],
          "name": "stderr"
        },
        {
          "output_type": "stream",
          "text": [
            "training loss: 1.703945517539978\n"
          ],
          "name": "stdout"
        },
        {
          "output_type": "stream",
          "text": [
            "\rtraining:   0%|          | 223/92900 [58:04<401:22:20, 15.59s/it]"
          ],
          "name": "stderr"
        },
        {
          "output_type": "stream",
          "text": [
            "training loss: 1.6681855916976929\n"
          ],
          "name": "stdout"
        },
        {
          "output_type": "stream",
          "text": [
            "\rtraining:   0%|          | 224/92900 [58:20<401:26:09, 15.59s/it]"
          ],
          "name": "stderr"
        },
        {
          "output_type": "stream",
          "text": [
            "training loss: 1.719533085823059\n"
          ],
          "name": "stdout"
        },
        {
          "output_type": "stream",
          "text": [
            "\rtraining:   0%|          | 225/92900 [58:36<401:22:39, 15.59s/it]"
          ],
          "name": "stderr"
        },
        {
          "output_type": "stream",
          "text": [
            "training loss: 1.7741096019744873\n"
          ],
          "name": "stdout"
        },
        {
          "output_type": "stream",
          "text": [
            "\rtraining:   0%|          | 226/92900 [58:51<401:19:33, 15.59s/it]"
          ],
          "name": "stderr"
        },
        {
          "output_type": "stream",
          "text": [
            "training loss: 1.602205753326416\n"
          ],
          "name": "stdout"
        },
        {
          "output_type": "stream",
          "text": [
            "\rtraining:   0%|          | 227/92900 [59:07<401:19:37, 15.59s/it]"
          ],
          "name": "stderr"
        },
        {
          "output_type": "stream",
          "text": [
            "training loss: 1.7035202980041504\n"
          ],
          "name": "stdout"
        },
        {
          "output_type": "stream",
          "text": [
            "\rtraining:   0%|          | 228/92900 [59:22<401:21:25, 15.59s/it]"
          ],
          "name": "stderr"
        },
        {
          "output_type": "stream",
          "text": [
            "training loss: 1.573218822479248\n"
          ],
          "name": "stdout"
        },
        {
          "output_type": "stream",
          "text": [
            "\rtraining:   0%|          | 229/92900 [59:38<401:22:52, 15.59s/it]"
          ],
          "name": "stderr"
        },
        {
          "output_type": "stream",
          "text": [
            "training loss: 1.6491031646728516\n"
          ],
          "name": "stdout"
        },
        {
          "output_type": "stream",
          "text": [
            "\rtraining:   0%|          | 230/92900 [59:54<401:19:18, 15.59s/it]"
          ],
          "name": "stderr"
        },
        {
          "output_type": "stream",
          "text": [
            "training loss: 1.5924370288848877\n"
          ],
          "name": "stdout"
        },
        {
          "output_type": "stream",
          "text": [
            "\rtraining:   0%|          | 231/92900 [1:00:09<401:20:31, 15.59s/it]"
          ],
          "name": "stderr"
        },
        {
          "output_type": "stream",
          "text": [
            "training loss: 1.6871922016143799\n"
          ],
          "name": "stdout"
        },
        {
          "output_type": "stream",
          "text": [
            "\rtraining:   0%|          | 232/92900 [1:00:25<401:26:44, 15.60s/it]"
          ],
          "name": "stderr"
        },
        {
          "output_type": "stream",
          "text": [
            "training loss: 1.6999517679214478\n"
          ],
          "name": "stdout"
        },
        {
          "output_type": "stream",
          "text": [
            "\rtraining:   0%|          | 233/92900 [1:00:40<401:24:57, 15.59s/it]"
          ],
          "name": "stderr"
        },
        {
          "output_type": "stream",
          "text": [
            "training loss: 1.7076560258865356\n"
          ],
          "name": "stdout"
        },
        {
          "output_type": "stream",
          "text": [
            "\rtraining:   0%|          | 234/92900 [1:00:56<401:25:26, 15.60s/it]"
          ],
          "name": "stderr"
        },
        {
          "output_type": "stream",
          "text": [
            "training loss: 1.6739609241485596\n"
          ],
          "name": "stdout"
        },
        {
          "output_type": "stream",
          "text": [
            "\rtraining:   0%|          | 235/92900 [1:01:11<401:23:40, 15.59s/it]"
          ],
          "name": "stderr"
        },
        {
          "output_type": "stream",
          "text": [
            "training loss: 1.7154220342636108\n"
          ],
          "name": "stdout"
        },
        {
          "output_type": "stream",
          "text": [
            "\rtraining:   0%|          | 236/92900 [1:01:27<401:25:29, 15.60s/it]"
          ],
          "name": "stderr"
        },
        {
          "output_type": "stream",
          "text": [
            "training loss: 1.5496656894683838\n"
          ],
          "name": "stdout"
        },
        {
          "output_type": "stream",
          "text": [
            "\rtraining:   0%|          | 237/92900 [1:01:43<401:30:09, 15.60s/it]"
          ],
          "name": "stderr"
        },
        {
          "output_type": "stream",
          "text": [
            "training loss: 1.6374419927597046\n"
          ],
          "name": "stdout"
        },
        {
          "output_type": "stream",
          "text": [
            "\rtraining:   0%|          | 238/92900 [1:01:58<401:24:52, 15.60s/it]"
          ],
          "name": "stderr"
        },
        {
          "output_type": "stream",
          "text": [
            "training loss: 1.6667143106460571\n"
          ],
          "name": "stdout"
        },
        {
          "output_type": "stream",
          "text": [
            "\rtraining:   0%|          | 239/92900 [1:02:14<401:23:51, 15.59s/it]"
          ],
          "name": "stderr"
        },
        {
          "output_type": "stream",
          "text": [
            "training loss: 1.508140206336975\n"
          ],
          "name": "stdout"
        },
        {
          "output_type": "stream",
          "text": [
            "\rtraining:   0%|          | 240/92900 [1:02:29<401:20:13, 15.59s/it]"
          ],
          "name": "stderr"
        },
        {
          "output_type": "stream",
          "text": [
            "training loss: 1.511535406112671\n"
          ],
          "name": "stdout"
        },
        {
          "output_type": "stream",
          "text": [
            "\rtraining:   0%|          | 241/92900 [1:02:45<401:24:32, 15.60s/it]"
          ],
          "name": "stderr"
        },
        {
          "output_type": "stream",
          "text": [
            "training loss: 1.6308245658874512\n"
          ],
          "name": "stdout"
        },
        {
          "output_type": "stream",
          "text": [
            "\rtraining:   0%|          | 242/92900 [1:03:01<401:22:35, 15.59s/it]"
          ],
          "name": "stderr"
        },
        {
          "output_type": "stream",
          "text": [
            "training loss: 1.76625394821167\n"
          ],
          "name": "stdout"
        },
        {
          "output_type": "stream",
          "text": [
            "\rtraining:   0%|          | 243/92900 [1:03:16<401:17:45, 15.59s/it]"
          ],
          "name": "stderr"
        },
        {
          "output_type": "stream",
          "text": [
            "training loss: 1.6288505792617798\n"
          ],
          "name": "stdout"
        },
        {
          "output_type": "stream",
          "text": [
            "\rtraining:   0%|          | 244/92900 [1:03:32<401:17:45, 15.59s/it]"
          ],
          "name": "stderr"
        },
        {
          "output_type": "stream",
          "text": [
            "training loss: 1.6797093152999878\n"
          ],
          "name": "stdout"
        },
        {
          "output_type": "stream",
          "text": [
            "\rtraining:   0%|          | 245/92900 [1:03:47<401:17:57, 15.59s/it]"
          ],
          "name": "stderr"
        },
        {
          "output_type": "stream",
          "text": [
            "training loss: 1.6402732133865356\n"
          ],
          "name": "stdout"
        },
        {
          "output_type": "stream",
          "text": [
            "\rtraining:   0%|          | 246/92900 [1:04:03<401:16:30, 15.59s/it]"
          ],
          "name": "stderr"
        },
        {
          "output_type": "stream",
          "text": [
            "training loss: 1.659310221672058\n"
          ],
          "name": "stdout"
        },
        {
          "output_type": "stream",
          "text": [
            "\rtraining:   0%|          | 247/92900 [1:04:19<401:16:03, 15.59s/it]"
          ],
          "name": "stderr"
        },
        {
          "output_type": "stream",
          "text": [
            "training loss: 1.6771941184997559\n"
          ],
          "name": "stdout"
        },
        {
          "output_type": "stream",
          "text": [
            "\rtraining:   0%|          | 248/92900 [1:04:34<401:12:41, 15.59s/it]"
          ],
          "name": "stderr"
        },
        {
          "output_type": "stream",
          "text": [
            "training loss: 1.692868947982788\n"
          ],
          "name": "stdout"
        },
        {
          "output_type": "stream",
          "text": [
            "\rtraining:   0%|          | 249/92900 [1:04:50<401:11:15, 15.59s/it]"
          ],
          "name": "stderr"
        },
        {
          "output_type": "stream",
          "text": [
            "training loss: 1.6335233449935913\n"
          ],
          "name": "stdout"
        },
        {
          "output_type": "stream",
          "text": [
            "\rtraining:   0%|          | 250/92900 [1:05:05<401:14:36, 15.59s/it]"
          ],
          "name": "stderr"
        },
        {
          "output_type": "stream",
          "text": [
            "training loss: 1.6485496759414673\n"
          ],
          "name": "stdout"
        },
        {
          "output_type": "stream",
          "text": [
            "\rtraining:   0%|          | 251/92900 [1:05:21<401:21:10, 15.60s/it]"
          ],
          "name": "stderr"
        },
        {
          "output_type": "stream",
          "text": [
            "training loss: 1.765161156654358\n"
          ],
          "name": "stdout"
        },
        {
          "output_type": "stream",
          "text": [
            "\rtraining:   0%|          | 252/92900 [1:05:37<401:21:26, 15.60s/it]"
          ],
          "name": "stderr"
        },
        {
          "output_type": "stream",
          "text": [
            "training loss: 1.668360710144043\n"
          ],
          "name": "stdout"
        },
        {
          "output_type": "stream",
          "text": [
            "\rtraining:   0%|          | 253/92900 [1:05:52<401:19:56, 15.59s/it]"
          ],
          "name": "stderr"
        },
        {
          "output_type": "stream",
          "text": [
            "training loss: 1.6879668235778809\n"
          ],
          "name": "stdout"
        },
        {
          "output_type": "stream",
          "text": [
            "\rtraining:   0%|          | 254/92900 [1:06:08<401:20:44, 15.60s/it]"
          ],
          "name": "stderr"
        },
        {
          "output_type": "stream",
          "text": [
            "training loss: 1.7082421779632568\n"
          ],
          "name": "stdout"
        },
        {
          "output_type": "stream",
          "text": [
            "\rtraining:   0%|          | 255/92900 [1:06:23<401:22:17, 15.60s/it]"
          ],
          "name": "stderr"
        },
        {
          "output_type": "stream",
          "text": [
            "training loss: 1.6063826084136963\n"
          ],
          "name": "stdout"
        },
        {
          "output_type": "stream",
          "text": [
            "\rtraining:   0%|          | 256/92900 [1:06:39<401:22:34, 15.60s/it]"
          ],
          "name": "stderr"
        },
        {
          "output_type": "stream",
          "text": [
            "training loss: 1.635172724723816\n"
          ],
          "name": "stdout"
        },
        {
          "output_type": "stream",
          "text": [
            "\rtraining:   0%|          | 257/92900 [1:06:55<401:19:16, 15.59s/it]"
          ],
          "name": "stderr"
        },
        {
          "output_type": "stream",
          "text": [
            "training loss: 1.7064404487609863\n"
          ],
          "name": "stdout"
        },
        {
          "output_type": "stream",
          "text": [
            "\rtraining:   0%|          | 258/92900 [1:07:10<401:18:39, 15.59s/it]"
          ],
          "name": "stderr"
        },
        {
          "output_type": "stream",
          "text": [
            "training loss: 1.6652125120162964\n"
          ],
          "name": "stdout"
        },
        {
          "output_type": "stream",
          "text": [
            "\rtraining:   0%|          | 259/92900 [1:07:26<401:18:33, 15.59s/it]"
          ],
          "name": "stderr"
        },
        {
          "output_type": "stream",
          "text": [
            "training loss: 1.6359450817108154\n"
          ],
          "name": "stdout"
        },
        {
          "output_type": "stream",
          "text": [
            "\rtraining:   0%|          | 260/92900 [1:07:41<401:15:09, 15.59s/it]"
          ],
          "name": "stderr"
        },
        {
          "output_type": "stream",
          "text": [
            "training loss: 1.5636518001556396\n"
          ],
          "name": "stdout"
        },
        {
          "output_type": "stream",
          "text": [
            "\rtraining:   0%|          | 261/92900 [1:07:57<401:16:14, 15.59s/it]"
          ],
          "name": "stderr"
        },
        {
          "output_type": "stream",
          "text": [
            "training loss: 1.6890202760696411\n"
          ],
          "name": "stdout"
        },
        {
          "output_type": "stream",
          "text": [
            "\rtraining:   0%|          | 262/92900 [1:08:13<401:15:28, 15.59s/it]"
          ],
          "name": "stderr"
        },
        {
          "output_type": "stream",
          "text": [
            "training loss: 1.6867055892944336\n"
          ],
          "name": "stdout"
        },
        {
          "output_type": "stream",
          "text": [
            "\rtraining:   0%|          | 263/92900 [1:08:28<401:16:58, 15.59s/it]"
          ],
          "name": "stderr"
        },
        {
          "output_type": "stream",
          "text": [
            "training loss: 1.6521514654159546\n"
          ],
          "name": "stdout"
        },
        {
          "output_type": "stream",
          "text": [
            "\rtraining:   0%|          | 264/92900 [1:08:44<401:17:15, 15.59s/it]"
          ],
          "name": "stderr"
        },
        {
          "output_type": "stream",
          "text": [
            "training loss: 1.6691261529922485\n"
          ],
          "name": "stdout"
        },
        {
          "output_type": "stream",
          "text": [
            "\rtraining:   0%|          | 265/92900 [1:08:59<401:15:24, 15.59s/it]"
          ],
          "name": "stderr"
        },
        {
          "output_type": "stream",
          "text": [
            "training loss: 1.792036771774292\n"
          ],
          "name": "stdout"
        },
        {
          "output_type": "stream",
          "text": [
            "\rtraining:   0%|          | 266/92900 [1:09:15<401:11:35, 15.59s/it]"
          ],
          "name": "stderr"
        },
        {
          "output_type": "stream",
          "text": [
            "training loss: 1.6942468881607056\n"
          ],
          "name": "stdout"
        },
        {
          "output_type": "stream",
          "text": [
            "\rtraining:   0%|          | 267/92900 [1:09:30<401:10:25, 15.59s/it]"
          ],
          "name": "stderr"
        },
        {
          "output_type": "stream",
          "text": [
            "training loss: 1.6462756395339966\n"
          ],
          "name": "stdout"
        },
        {
          "output_type": "stream",
          "text": [
            "\rtraining:   0%|          | 268/92900 [1:09:46<401:08:42, 15.59s/it]"
          ],
          "name": "stderr"
        },
        {
          "output_type": "stream",
          "text": [
            "training loss: 1.6666115522384644\n"
          ],
          "name": "stdout"
        },
        {
          "output_type": "stream",
          "text": [
            "\rtraining:   0%|          | 269/92900 [1:10:02<401:04:42, 15.59s/it]"
          ],
          "name": "stderr"
        },
        {
          "output_type": "stream",
          "text": [
            "training loss: 1.64992094039917\n"
          ],
          "name": "stdout"
        },
        {
          "output_type": "stream",
          "text": [
            "\rtraining:   0%|          | 270/92900 [1:10:17<401:13:23, 15.59s/it]"
          ],
          "name": "stderr"
        },
        {
          "output_type": "stream",
          "text": [
            "training loss: 1.6359235048294067\n"
          ],
          "name": "stdout"
        },
        {
          "output_type": "stream",
          "text": [
            "\rtraining:   0%|          | 271/92900 [1:10:33<401:10:42, 15.59s/it]"
          ],
          "name": "stderr"
        },
        {
          "output_type": "stream",
          "text": [
            "training loss: 1.6953319311141968\n"
          ],
          "name": "stdout"
        },
        {
          "output_type": "stream",
          "text": [
            "\rtraining:   0%|          | 272/92900 [1:10:48<401:10:05, 15.59s/it]"
          ],
          "name": "stderr"
        },
        {
          "output_type": "stream",
          "text": [
            "training loss: 1.731873869895935\n"
          ],
          "name": "stdout"
        },
        {
          "output_type": "stream",
          "text": [
            "\rtraining:   0%|          | 273/92900 [1:11:04<401:06:23, 15.59s/it]"
          ],
          "name": "stderr"
        },
        {
          "output_type": "stream",
          "text": [
            "training loss: 1.6718895435333252\n"
          ],
          "name": "stdout"
        },
        {
          "output_type": "stream",
          "text": [
            "\rtraining:   0%|          | 274/92900 [1:11:20<401:08:30, 15.59s/it]"
          ],
          "name": "stderr"
        },
        {
          "output_type": "stream",
          "text": [
            "training loss: 1.6249055862426758\n"
          ],
          "name": "stdout"
        },
        {
          "output_type": "stream",
          "text": [
            "\rtraining:   0%|          | 275/92900 [1:11:35<401:04:24, 15.59s/it]"
          ],
          "name": "stderr"
        },
        {
          "output_type": "stream",
          "text": [
            "training loss: 1.6284517049789429\n"
          ],
          "name": "stdout"
        },
        {
          "output_type": "stream",
          "text": [
            "\rtraining:   0%|          | 276/92900 [1:11:51<401:06:54, 15.59s/it]"
          ],
          "name": "stderr"
        },
        {
          "output_type": "stream",
          "text": [
            "training loss: 1.737566351890564\n"
          ],
          "name": "stdout"
        },
        {
          "output_type": "stream",
          "text": [
            "\rtraining:   0%|          | 277/92900 [1:12:06<401:07:49, 15.59s/it]"
          ],
          "name": "stderr"
        },
        {
          "output_type": "stream",
          "text": [
            "training loss: 1.756954312324524\n"
          ],
          "name": "stdout"
        },
        {
          "output_type": "stream",
          "text": [
            "\rtraining:   0%|          | 278/92900 [1:12:22<401:08:00, 15.59s/it]"
          ],
          "name": "stderr"
        },
        {
          "output_type": "stream",
          "text": [
            "training loss: 1.6764779090881348\n"
          ],
          "name": "stdout"
        },
        {
          "output_type": "stream",
          "text": [
            "\rtraining:   0%|          | 279/92900 [1:12:38<401:07:31, 15.59s/it]"
          ],
          "name": "stderr"
        },
        {
          "output_type": "stream",
          "text": [
            "training loss: 1.6590970754623413\n"
          ],
          "name": "stdout"
        },
        {
          "output_type": "stream",
          "text": [
            "\rtraining:   0%|          | 280/92900 [1:12:53<401:04:25, 15.59s/it]"
          ],
          "name": "stderr"
        },
        {
          "output_type": "stream",
          "text": [
            "training loss: 1.7022552490234375\n"
          ],
          "name": "stdout"
        },
        {
          "output_type": "stream",
          "text": [
            "\rtraining:   0%|          | 281/92900 [1:13:09<401:08:44, 15.59s/it]"
          ],
          "name": "stderr"
        },
        {
          "output_type": "stream",
          "text": [
            "training loss: 1.7489755153656006\n"
          ],
          "name": "stdout"
        },
        {
          "output_type": "stream",
          "text": [
            "\rtraining:   0%|          | 282/92900 [1:13:24<401:08:00, 15.59s/it]"
          ],
          "name": "stderr"
        },
        {
          "output_type": "stream",
          "text": [
            "training loss: 1.6963313817977905\n"
          ],
          "name": "stdout"
        },
        {
          "output_type": "stream",
          "text": [
            "\rtraining:   0%|          | 283/92900 [1:13:40<401:10:42, 15.59s/it]"
          ],
          "name": "stderr"
        },
        {
          "output_type": "stream",
          "text": [
            "training loss: 1.696363925933838\n"
          ],
          "name": "stdout"
        },
        {
          "output_type": "stream",
          "text": [
            "\rtraining:   0%|          | 284/92900 [1:13:56<401:09:58, 15.59s/it]"
          ],
          "name": "stderr"
        },
        {
          "output_type": "stream",
          "text": [
            "training loss: 1.6714119911193848\n"
          ],
          "name": "stdout"
        },
        {
          "output_type": "stream",
          "text": [
            "\rtraining:   0%|          | 285/92900 [1:14:11<401:08:07, 15.59s/it]"
          ],
          "name": "stderr"
        },
        {
          "output_type": "stream",
          "text": [
            "training loss: 1.571071982383728\n"
          ],
          "name": "stdout"
        },
        {
          "output_type": "stream",
          "text": [
            "\rtraining:   0%|          | 286/92900 [1:14:27<401:13:00, 15.60s/it]"
          ],
          "name": "stderr"
        },
        {
          "output_type": "stream",
          "text": [
            "training loss: 1.703980565071106\n"
          ],
          "name": "stdout"
        },
        {
          "output_type": "stream",
          "text": [
            "\rtraining:   0%|          | 287/92900 [1:14:42<401:09:20, 15.59s/it]"
          ],
          "name": "stderr"
        },
        {
          "output_type": "stream",
          "text": [
            "training loss: 1.6582703590393066\n"
          ],
          "name": "stdout"
        },
        {
          "output_type": "stream",
          "text": [
            "\rtraining:   0%|          | 288/92900 [1:14:58<401:05:19, 15.59s/it]"
          ],
          "name": "stderr"
        },
        {
          "output_type": "stream",
          "text": [
            "training loss: 1.713454008102417\n"
          ],
          "name": "stdout"
        },
        {
          "output_type": "stream",
          "text": [
            "\rtraining:   0%|          | 289/92900 [1:15:13<401:03:23, 15.59s/it]"
          ],
          "name": "stderr"
        },
        {
          "output_type": "stream",
          "text": [
            "training loss: 1.67417573928833\n"
          ],
          "name": "stdout"
        },
        {
          "output_type": "stream",
          "text": [
            "\rtraining:   0%|          | 290/92900 [1:15:29<401:04:11, 15.59s/it]"
          ],
          "name": "stderr"
        },
        {
          "output_type": "stream",
          "text": [
            "training loss: 1.6904464960098267\n"
          ],
          "name": "stdout"
        },
        {
          "output_type": "stream",
          "text": [
            "\rtraining:   0%|          | 291/92900 [1:15:45<401:08:49, 15.59s/it]"
          ],
          "name": "stderr"
        },
        {
          "output_type": "stream",
          "text": [
            "training loss: 1.572678804397583\n"
          ],
          "name": "stdout"
        },
        {
          "output_type": "stream",
          "text": [
            "\rtraining:   0%|          | 292/92900 [1:16:00<401:07:40, 15.59s/it]"
          ],
          "name": "stderr"
        },
        {
          "output_type": "stream",
          "text": [
            "training loss: 1.7026222944259644\n"
          ],
          "name": "stdout"
        },
        {
          "output_type": "stream",
          "text": [
            "\rtraining:   0%|          | 293/92900 [1:16:16<401:13:04, 15.60s/it]"
          ],
          "name": "stderr"
        },
        {
          "output_type": "stream",
          "text": [
            "training loss: 1.5065083503723145\n"
          ],
          "name": "stdout"
        },
        {
          "output_type": "stream",
          "text": [
            "\rtraining:   0%|          | 294/92900 [1:16:31<401:12:48, 15.60s/it]"
          ],
          "name": "stderr"
        },
        {
          "output_type": "stream",
          "text": [
            "training loss: 1.6704518795013428\n"
          ],
          "name": "stdout"
        },
        {
          "output_type": "stream",
          "text": [
            "\rtraining:   0%|          | 295/92900 [1:16:47<401:15:16, 15.60s/it]"
          ],
          "name": "stderr"
        },
        {
          "output_type": "stream",
          "text": [
            "training loss: 1.6733977794647217\n"
          ],
          "name": "stdout"
        },
        {
          "output_type": "stream",
          "text": [
            "\rtraining:   0%|          | 296/92900 [1:17:03<401:12:07, 15.60s/it]"
          ],
          "name": "stderr"
        },
        {
          "output_type": "stream",
          "text": [
            "training loss: 1.704585313796997\n"
          ],
          "name": "stdout"
        },
        {
          "output_type": "stream",
          "text": [
            "\rtraining:   0%|          | 297/92900 [1:17:18<401:12:35, 15.60s/it]"
          ],
          "name": "stderr"
        },
        {
          "output_type": "stream",
          "text": [
            "training loss: 1.6662354469299316\n"
          ],
          "name": "stdout"
        },
        {
          "output_type": "stream",
          "text": [
            "\rtraining:   0%|          | 298/92900 [1:17:34<401:05:34, 15.59s/it]"
          ],
          "name": "stderr"
        },
        {
          "output_type": "stream",
          "text": [
            "training loss: 1.7248988151550293\n"
          ],
          "name": "stdout"
        },
        {
          "output_type": "stream",
          "text": [
            "\rtraining:   0%|          | 299/92900 [1:17:49<401:01:03, 15.59s/it]"
          ],
          "name": "stderr"
        },
        {
          "output_type": "stream",
          "text": [
            "training loss: 1.8071397542953491\n"
          ],
          "name": "stdout"
        },
        {
          "output_type": "stream",
          "text": [
            "\rtraining:   0%|          | 300/92900 [1:18:05<401:07:46, 15.59s/it]"
          ],
          "name": "stderr"
        },
        {
          "output_type": "stream",
          "text": [
            "training loss: 1.6579527854919434\n",
            "training loss: 1.7294652462005615\n"
          ],
          "name": "stdout"
        },
        {
          "output_type": "stream",
          "text": [
            "\rtraining:   0%|          | 301/92900 [1:18:22<411:47:47, 16.01s/it]"
          ],
          "name": "stderr"
        },
        {
          "output_type": "stream",
          "text": [
            "validation loss: 1.6623690128326416\n"
          ],
          "name": "stdout"
        },
        {
          "output_type": "stream",
          "text": [
            "\rtraining:   0%|          | 302/92900 [1:18:38<408:37:51, 15.89s/it]"
          ],
          "name": "stderr"
        },
        {
          "output_type": "stream",
          "text": [
            "training loss: 1.6471573114395142\n"
          ],
          "name": "stdout"
        },
        {
          "output_type": "stream",
          "text": [
            "\rtraining:   0%|          | 303/92900 [1:18:53<406:20:12, 15.80s/it]"
          ],
          "name": "stderr"
        },
        {
          "output_type": "stream",
          "text": [
            "training loss: 1.745339035987854\n"
          ],
          "name": "stdout"
        },
        {
          "output_type": "stream",
          "text": [
            "\rtraining:   0%|          | 304/92900 [1:19:09<404:55:21, 15.74s/it]"
          ],
          "name": "stderr"
        },
        {
          "output_type": "stream",
          "text": [
            "training loss: 1.6981161832809448\n"
          ],
          "name": "stdout"
        },
        {
          "output_type": "stream",
          "text": [
            "\rtraining:   0%|          | 305/92900 [1:19:24<403:48:19, 15.70s/it]"
          ],
          "name": "stderr"
        },
        {
          "output_type": "stream",
          "text": [
            "training loss: 1.7021894454956055\n"
          ],
          "name": "stdout"
        },
        {
          "output_type": "stream",
          "text": [
            "\rtraining:   0%|          | 306/92900 [1:19:40<402:54:20, 15.66s/it]"
          ],
          "name": "stderr"
        },
        {
          "output_type": "stream",
          "text": [
            "training loss: 1.540069341659546\n"
          ],
          "name": "stdout"
        },
        {
          "output_type": "stream",
          "text": [
            "\rtraining:   0%|          | 307/92900 [1:19:56<402:22:59, 15.64s/it]"
          ],
          "name": "stderr"
        },
        {
          "output_type": "stream",
          "text": [
            "training loss: 1.5755393505096436\n"
          ],
          "name": "stdout"
        },
        {
          "output_type": "stream",
          "text": [
            "\rtraining:   0%|          | 308/92900 [1:20:11<401:59:12, 15.63s/it]"
          ],
          "name": "stderr"
        },
        {
          "output_type": "stream",
          "text": [
            "training loss: 1.7104971408843994\n"
          ],
          "name": "stdout"
        },
        {
          "output_type": "stream",
          "text": [
            "\rtraining:   0%|          | 309/92900 [1:20:27<401:46:44, 15.62s/it]"
          ],
          "name": "stderr"
        },
        {
          "output_type": "stream",
          "text": [
            "training loss: 1.6468011140823364\n"
          ],
          "name": "stdout"
        },
        {
          "output_type": "stream",
          "text": [
            "\rtraining:   0%|          | 310/92900 [1:20:42<401:33:14, 15.61s/it]"
          ],
          "name": "stderr"
        },
        {
          "output_type": "stream",
          "text": [
            "training loss: 1.6566212177276611\n"
          ],
          "name": "stdout"
        },
        {
          "output_type": "stream",
          "text": [
            "\rtraining:   0%|          | 311/92900 [1:20:58<401:29:26, 15.61s/it]"
          ],
          "name": "stderr"
        },
        {
          "output_type": "stream",
          "text": [
            "training loss: 1.6341941356658936\n"
          ],
          "name": "stdout"
        },
        {
          "output_type": "stream",
          "text": [
            "\rtraining:   0%|          | 312/92900 [1:21:14<401:20:53, 15.61s/it]"
          ],
          "name": "stderr"
        },
        {
          "output_type": "stream",
          "text": [
            "training loss: 1.7138497829437256\n"
          ],
          "name": "stdout"
        },
        {
          "output_type": "stream",
          "text": [
            "\rtraining:   0%|          | 313/92900 [1:21:29<401:14:25, 15.60s/it]"
          ],
          "name": "stderr"
        },
        {
          "output_type": "stream",
          "text": [
            "training loss: 1.7333029508590698\n"
          ],
          "name": "stdout"
        },
        {
          "output_type": "stream",
          "text": [
            "\rtraining:   0%|          | 314/92900 [1:21:45<401:03:19, 15.59s/it]"
          ],
          "name": "stderr"
        },
        {
          "output_type": "stream",
          "text": [
            "training loss: 1.565820336341858\n"
          ],
          "name": "stdout"
        },
        {
          "output_type": "stream",
          "text": [
            "\rtraining:   0%|          | 315/92900 [1:22:00<401:03:08, 15.59s/it]"
          ],
          "name": "stderr"
        },
        {
          "output_type": "stream",
          "text": [
            "training loss: 1.58725905418396\n"
          ],
          "name": "stdout"
        },
        {
          "output_type": "stream",
          "text": [
            "\rtraining:   0%|          | 316/92900 [1:22:16<401:01:50, 15.59s/it]"
          ],
          "name": "stderr"
        },
        {
          "output_type": "stream",
          "text": [
            "training loss: 1.594820499420166\n"
          ],
          "name": "stdout"
        },
        {
          "output_type": "stream",
          "text": [
            "\rtraining:   0%|          | 317/92900 [1:22:32<401:02:35, 15.59s/it]"
          ],
          "name": "stderr"
        },
        {
          "output_type": "stream",
          "text": [
            "training loss: 1.7280006408691406\n"
          ],
          "name": "stdout"
        },
        {
          "output_type": "stream",
          "text": [
            "\rtraining:   0%|          | 318/92900 [1:22:47<400:57:30, 15.59s/it]"
          ],
          "name": "stderr"
        },
        {
          "output_type": "stream",
          "text": [
            "training loss: 1.6341222524642944\n"
          ],
          "name": "stdout"
        },
        {
          "output_type": "stream",
          "text": [
            "\rtraining:   0%|          | 319/92900 [1:23:03<400:55:15, 15.59s/it]"
          ],
          "name": "stderr"
        },
        {
          "output_type": "stream",
          "text": [
            "training loss: 1.6961475610733032\n"
          ],
          "name": "stdout"
        },
        {
          "output_type": "stream",
          "text": [
            "\rtraining:   0%|          | 320/92900 [1:23:18<400:58:04, 15.59s/it]"
          ],
          "name": "stderr"
        },
        {
          "output_type": "stream",
          "text": [
            "training loss: 1.7246479988098145\n"
          ],
          "name": "stdout"
        },
        {
          "output_type": "stream",
          "text": [
            "\rtraining:   0%|          | 321/92900 [1:23:34<400:51:33, 15.59s/it]"
          ],
          "name": "stderr"
        },
        {
          "output_type": "stream",
          "text": [
            "training loss: 1.5636012554168701\n"
          ],
          "name": "stdout"
        },
        {
          "output_type": "stream",
          "text": [
            "\rtraining:   0%|          | 322/92900 [1:23:49<400:50:42, 15.59s/it]"
          ],
          "name": "stderr"
        },
        {
          "output_type": "stream",
          "text": [
            "training loss: 1.76519775390625\n"
          ],
          "name": "stdout"
        },
        {
          "output_type": "stream",
          "text": [
            "\rtraining:   0%|          | 323/92900 [1:24:05<400:58:04, 15.59s/it]"
          ],
          "name": "stderr"
        },
        {
          "output_type": "stream",
          "text": [
            "training loss: 1.7173564434051514\n"
          ],
          "name": "stdout"
        },
        {
          "output_type": "stream",
          "text": [
            "\rtraining:   0%|          | 324/92900 [1:24:21<401:06:02, 15.60s/it]"
          ],
          "name": "stderr"
        },
        {
          "output_type": "stream",
          "text": [
            "training loss: 1.4034061431884766\n"
          ],
          "name": "stdout"
        },
        {
          "output_type": "stream",
          "text": [
            "\rtraining:   0%|          | 325/92900 [1:24:36<400:56:18, 15.59s/it]"
          ],
          "name": "stderr"
        },
        {
          "output_type": "stream",
          "text": [
            "training loss: 1.6058745384216309\n"
          ],
          "name": "stdout"
        },
        {
          "output_type": "stream",
          "text": [
            "\rtraining:   0%|          | 326/92900 [1:24:52<400:47:34, 15.59s/it]"
          ],
          "name": "stderr"
        },
        {
          "output_type": "stream",
          "text": [
            "training loss: 1.7633252143859863\n"
          ],
          "name": "stdout"
        },
        {
          "output_type": "stream",
          "text": [
            "\rtraining:   0%|          | 327/92900 [1:25:07<400:52:37, 15.59s/it]"
          ],
          "name": "stderr"
        },
        {
          "output_type": "stream",
          "text": [
            "training loss: 1.6919176578521729\n"
          ],
          "name": "stdout"
        },
        {
          "output_type": "stream",
          "text": [
            "\rtraining:   0%|          | 328/92900 [1:25:23<400:49:56, 15.59s/it]"
          ],
          "name": "stderr"
        },
        {
          "output_type": "stream",
          "text": [
            "training loss: 1.6860381364822388\n"
          ],
          "name": "stdout"
        },
        {
          "output_type": "stream",
          "text": [
            "\rtraining:   0%|          | 329/92900 [1:25:39<400:44:35, 15.58s/it]"
          ],
          "name": "stderr"
        },
        {
          "output_type": "stream",
          "text": [
            "training loss: 1.7163100242614746\n"
          ],
          "name": "stdout"
        },
        {
          "output_type": "stream",
          "text": [
            "\rtraining:   0%|          | 330/92900 [1:25:54<400:48:56, 15.59s/it]"
          ],
          "name": "stderr"
        },
        {
          "output_type": "stream",
          "text": [
            "training loss: 1.6492938995361328\n"
          ],
          "name": "stdout"
        },
        {
          "output_type": "stream",
          "text": [
            "\rtraining:   0%|          | 331/92900 [1:26:10<400:53:58, 15.59s/it]"
          ],
          "name": "stderr"
        },
        {
          "output_type": "stream",
          "text": [
            "training loss: 1.6793674230575562\n"
          ],
          "name": "stdout"
        },
        {
          "output_type": "stream",
          "text": [
            "\rtraining:   0%|          | 332/92900 [1:26:25<400:55:30, 15.59s/it]"
          ],
          "name": "stderr"
        },
        {
          "output_type": "stream",
          "text": [
            "training loss: 1.6288745403289795\n"
          ],
          "name": "stdout"
        },
        {
          "output_type": "stream",
          "text": [
            "\rtraining:   0%|          | 333/92900 [1:26:41<400:48:13, 15.59s/it]"
          ],
          "name": "stderr"
        },
        {
          "output_type": "stream",
          "text": [
            "training loss: 1.6479747295379639\n"
          ],
          "name": "stdout"
        },
        {
          "output_type": "stream",
          "text": [
            "\rtraining:   0%|          | 334/92900 [1:26:57<400:51:41, 15.59s/it]"
          ],
          "name": "stderr"
        },
        {
          "output_type": "stream",
          "text": [
            "training loss: 1.7612814903259277\n"
          ],
          "name": "stdout"
        },
        {
          "output_type": "stream",
          "text": [
            "\rtraining:   0%|          | 335/92900 [1:27:12<400:53:31, 15.59s/it]"
          ],
          "name": "stderr"
        },
        {
          "output_type": "stream",
          "text": [
            "training loss: 1.6330314874649048\n"
          ],
          "name": "stdout"
        },
        {
          "output_type": "stream",
          "text": [
            "\rtraining:   0%|          | 336/92900 [1:27:28<400:56:05, 15.59s/it]"
          ],
          "name": "stderr"
        },
        {
          "output_type": "stream",
          "text": [
            "training loss: 1.7341363430023193\n"
          ],
          "name": "stdout"
        },
        {
          "output_type": "stream",
          "text": [
            "\rtraining:   0%|          | 337/92900 [1:27:43<400:53:00, 15.59s/it]"
          ],
          "name": "stderr"
        },
        {
          "output_type": "stream",
          "text": [
            "training loss: 1.6338715553283691\n"
          ],
          "name": "stdout"
        },
        {
          "output_type": "stream",
          "text": [
            "\rtraining:   0%|          | 338/92900 [1:27:59<400:47:24, 15.59s/it]"
          ],
          "name": "stderr"
        },
        {
          "output_type": "stream",
          "text": [
            "training loss: 1.5155854225158691\n"
          ],
          "name": "stdout"
        },
        {
          "output_type": "stream",
          "text": [
            "\rtraining:   0%|          | 339/92900 [1:28:14<400:46:43, 15.59s/it]"
          ],
          "name": "stderr"
        },
        {
          "output_type": "stream",
          "text": [
            "training loss: 1.6393136978149414\n"
          ],
          "name": "stdout"
        },
        {
          "output_type": "stream",
          "text": [
            "\rtraining:   0%|          | 340/92900 [1:28:30<400:46:31, 15.59s/it]"
          ],
          "name": "stderr"
        },
        {
          "output_type": "stream",
          "text": [
            "training loss: 1.6377508640289307\n"
          ],
          "name": "stdout"
        },
        {
          "output_type": "stream",
          "text": [
            "\rtraining:   0%|          | 341/92900 [1:28:46<400:40:11, 15.58s/it]"
          ],
          "name": "stderr"
        },
        {
          "output_type": "stream",
          "text": [
            "training loss: 1.621907353401184\n"
          ],
          "name": "stdout"
        },
        {
          "output_type": "stream",
          "text": [
            "\rtraining:   0%|          | 342/92900 [1:29:01<400:47:11, 15.59s/it]"
          ],
          "name": "stderr"
        },
        {
          "output_type": "stream",
          "text": [
            "training loss: 1.6761175394058228\n"
          ],
          "name": "stdout"
        },
        {
          "output_type": "stream",
          "text": [
            "\rtraining:   0%|          | 343/92900 [1:29:17<400:55:03, 15.59s/it]"
          ],
          "name": "stderr"
        },
        {
          "output_type": "stream",
          "text": [
            "training loss: 1.5765719413757324\n"
          ],
          "name": "stdout"
        },
        {
          "output_type": "stream",
          "text": [
            "\rtraining:   0%|          | 344/92900 [1:29:32<400:52:44, 15.59s/it]"
          ],
          "name": "stderr"
        },
        {
          "output_type": "stream",
          "text": [
            "training loss: 1.512298822402954\n"
          ],
          "name": "stdout"
        },
        {
          "output_type": "stream",
          "text": [
            "\rtraining:   0%|          | 345/92900 [1:29:48<400:45:14, 15.59s/it]"
          ],
          "name": "stderr"
        },
        {
          "output_type": "stream",
          "text": [
            "training loss: 1.7166023254394531\n"
          ],
          "name": "stdout"
        },
        {
          "output_type": "stream",
          "text": [
            "\rtraining:   0%|          | 346/92900 [1:30:04<400:46:37, 15.59s/it]"
          ],
          "name": "stderr"
        },
        {
          "output_type": "stream",
          "text": [
            "training loss: 1.5802605152130127\n"
          ],
          "name": "stdout"
        },
        {
          "output_type": "stream",
          "text": [
            "\rtraining:   0%|          | 347/92900 [1:30:19<400:48:34, 15.59s/it]"
          ],
          "name": "stderr"
        },
        {
          "output_type": "stream",
          "text": [
            "training loss: 1.68441903591156\n"
          ],
          "name": "stdout"
        },
        {
          "output_type": "stream",
          "text": [
            "\rtraining:   0%|          | 348/92900 [1:30:35<400:44:40, 15.59s/it]"
          ],
          "name": "stderr"
        },
        {
          "output_type": "stream",
          "text": [
            "training loss: 1.7556872367858887\n"
          ],
          "name": "stdout"
        },
        {
          "output_type": "stream",
          "text": [
            "\rtraining:   0%|          | 349/92900 [1:30:50<400:41:07, 15.59s/it]"
          ],
          "name": "stderr"
        },
        {
          "output_type": "stream",
          "text": [
            "training loss: 1.6684602499008179\n"
          ],
          "name": "stdout"
        },
        {
          "output_type": "stream",
          "text": [
            "\rtraining:   0%|          | 350/92900 [1:31:06<400:48:10, 15.59s/it]"
          ],
          "name": "stderr"
        },
        {
          "output_type": "stream",
          "text": [
            "training loss: 1.6431925296783447\n"
          ],
          "name": "stdout"
        },
        {
          "output_type": "stream",
          "text": [
            "\rtraining:   0%|          | 351/92900 [1:31:22<400:56:15, 15.60s/it]"
          ],
          "name": "stderr"
        },
        {
          "output_type": "stream",
          "text": [
            "training loss: 1.6244641542434692\n"
          ],
          "name": "stdout"
        },
        {
          "output_type": "stream",
          "text": [
            "\rtraining:   0%|          | 352/92900 [1:31:37<400:52:51, 15.59s/it]"
          ],
          "name": "stderr"
        },
        {
          "output_type": "stream",
          "text": [
            "training loss: 1.644844651222229\n"
          ],
          "name": "stdout"
        },
        {
          "output_type": "stream",
          "text": [
            "\rtraining:   0%|          | 353/92900 [1:31:53<400:51:45, 15.59s/it]"
          ],
          "name": "stderr"
        },
        {
          "output_type": "stream",
          "text": [
            "training loss: 1.6904879808425903\n"
          ],
          "name": "stdout"
        },
        {
          "output_type": "stream",
          "text": [
            "\rtraining:   0%|          | 354/92900 [1:32:08<401:04:22, 15.60s/it]"
          ],
          "name": "stderr"
        },
        {
          "output_type": "stream",
          "text": [
            "training loss: 1.6807714700698853\n"
          ],
          "name": "stdout"
        },
        {
          "output_type": "stream",
          "text": [
            "\rtraining:   0%|          | 355/92900 [1:32:24<401:00:20, 15.60s/it]"
          ],
          "name": "stderr"
        },
        {
          "output_type": "stream",
          "text": [
            "training loss: 1.7596665620803833\n"
          ],
          "name": "stdout"
        },
        {
          "output_type": "stream",
          "text": [
            "\rtraining:   0%|          | 356/92900 [1:32:40<400:49:17, 15.59s/it]"
          ],
          "name": "stderr"
        },
        {
          "output_type": "stream",
          "text": [
            "training loss: 1.6314208507537842\n"
          ],
          "name": "stdout"
        },
        {
          "output_type": "stream",
          "text": [
            "\rtraining:   0%|          | 357/92900 [1:32:55<400:47:42, 15.59s/it]"
          ],
          "name": "stderr"
        },
        {
          "output_type": "stream",
          "text": [
            "training loss: 1.678815245628357\n"
          ],
          "name": "stdout"
        },
        {
          "output_type": "stream",
          "text": [
            "\rtraining:   0%|          | 358/92900 [1:33:11<400:45:41, 15.59s/it]"
          ],
          "name": "stderr"
        },
        {
          "output_type": "stream",
          "text": [
            "training loss: 1.645313024520874\n"
          ],
          "name": "stdout"
        },
        {
          "output_type": "stream",
          "text": [
            "\rtraining:   0%|          | 359/92900 [1:33:26<400:48:12, 15.59s/it]"
          ],
          "name": "stderr"
        },
        {
          "output_type": "stream",
          "text": [
            "training loss: 1.4770517349243164\n"
          ],
          "name": "stdout"
        },
        {
          "output_type": "stream",
          "text": [
            "\rtraining:   0%|          | 360/92900 [1:33:42<400:44:06, 15.59s/it]"
          ],
          "name": "stderr"
        },
        {
          "output_type": "stream",
          "text": [
            "training loss: 1.656915545463562\n"
          ],
          "name": "stdout"
        },
        {
          "output_type": "stream",
          "text": [
            "\rtraining:   0%|          | 361/92900 [1:33:58<400:51:43, 15.59s/it]"
          ],
          "name": "stderr"
        },
        {
          "output_type": "stream",
          "text": [
            "training loss: 1.7221660614013672\n"
          ],
          "name": "stdout"
        },
        {
          "output_type": "stream",
          "text": [
            "\rtraining:   0%|          | 362/92900 [1:34:13<400:49:44, 15.59s/it]"
          ],
          "name": "stderr"
        },
        {
          "output_type": "stream",
          "text": [
            "training loss: 1.6761486530303955\n"
          ],
          "name": "stdout"
        },
        {
          "output_type": "stream",
          "text": [
            "\rtraining:   0%|          | 363/92900 [1:34:29<400:50:01, 15.59s/it]"
          ],
          "name": "stderr"
        },
        {
          "output_type": "stream",
          "text": [
            "training loss: 1.6392128467559814\n"
          ],
          "name": "stdout"
        },
        {
          "output_type": "stream",
          "text": [
            "\rtraining:   0%|          | 364/92900 [1:34:44<400:43:22, 15.59s/it]"
          ],
          "name": "stderr"
        },
        {
          "output_type": "stream",
          "text": [
            "training loss: 1.6438546180725098\n"
          ],
          "name": "stdout"
        },
        {
          "output_type": "stream",
          "text": [
            "\rtraining:   0%|          | 365/92900 [1:35:00<400:42:46, 15.59s/it]"
          ],
          "name": "stderr"
        },
        {
          "output_type": "stream",
          "text": [
            "training loss: 1.6956579685211182\n"
          ],
          "name": "stdout"
        },
        {
          "output_type": "stream",
          "text": [
            "\rtraining:   0%|          | 366/92900 [1:35:15<400:44:54, 15.59s/it]"
          ],
          "name": "stderr"
        },
        {
          "output_type": "stream",
          "text": [
            "training loss: 1.6284334659576416\n"
          ],
          "name": "stdout"
        },
        {
          "output_type": "stream",
          "text": [
            "\rtraining:   0%|          | 367/92900 [1:35:31<400:49:42, 15.59s/it]"
          ],
          "name": "stderr"
        },
        {
          "output_type": "stream",
          "text": [
            "training loss: 1.5380806922912598\n"
          ],
          "name": "stdout"
        },
        {
          "output_type": "stream",
          "text": [
            "\rtraining:   0%|          | 368/92900 [1:35:47<400:47:58, 15.59s/it]"
          ],
          "name": "stderr"
        },
        {
          "output_type": "stream",
          "text": [
            "training loss: 1.695190191268921\n"
          ],
          "name": "stdout"
        },
        {
          "output_type": "stream",
          "text": [
            "\rtraining:   0%|          | 369/92900 [1:36:02<400:46:55, 15.59s/it]"
          ],
          "name": "stderr"
        },
        {
          "output_type": "stream",
          "text": [
            "training loss: 1.6854394674301147\n"
          ],
          "name": "stdout"
        },
        {
          "output_type": "stream",
          "text": [
            "\rtraining:   0%|          | 370/92900 [1:36:18<400:47:34, 15.59s/it]"
          ],
          "name": "stderr"
        },
        {
          "output_type": "stream",
          "text": [
            "training loss: 1.6953730583190918\n"
          ],
          "name": "stdout"
        },
        {
          "output_type": "stream",
          "text": [
            "\rtraining:   0%|          | 371/92900 [1:36:33<400:49:26, 15.59s/it]"
          ],
          "name": "stderr"
        },
        {
          "output_type": "stream",
          "text": [
            "training loss: 1.619586706161499\n"
          ],
          "name": "stdout"
        },
        {
          "output_type": "stream",
          "text": [
            "\rtraining:   0%|          | 372/92900 [1:36:49<400:43:43, 15.59s/it]"
          ],
          "name": "stderr"
        },
        {
          "output_type": "stream",
          "text": [
            "training loss: 1.5395092964172363\n"
          ],
          "name": "stdout"
        },
        {
          "output_type": "stream",
          "text": [
            "\rtraining:   0%|          | 373/92900 [1:37:05<400:50:20, 15.60s/it]"
          ],
          "name": "stderr"
        },
        {
          "output_type": "stream",
          "text": [
            "training loss: 1.5658997297286987\n"
          ],
          "name": "stdout"
        },
        {
          "output_type": "stream",
          "text": [
            "\rtraining:   0%|          | 374/92900 [1:37:20<400:57:24, 15.60s/it]"
          ],
          "name": "stderr"
        },
        {
          "output_type": "stream",
          "text": [
            "training loss: 1.720503807067871\n"
          ],
          "name": "stdout"
        },
        {
          "output_type": "stream",
          "text": [
            "\rtraining:   0%|          | 375/92900 [1:37:36<400:51:23, 15.60s/it]"
          ],
          "name": "stderr"
        },
        {
          "output_type": "stream",
          "text": [
            "training loss: 1.7673577070236206\n"
          ],
          "name": "stdout"
        },
        {
          "output_type": "stream",
          "text": [
            "\rtraining:   0%|          | 376/92900 [1:37:51<400:43:12, 15.59s/it]"
          ],
          "name": "stderr"
        },
        {
          "output_type": "stream",
          "text": [
            "training loss: 1.710282564163208\n"
          ],
          "name": "stdout"
        },
        {
          "output_type": "stream",
          "text": [
            "\rtraining:   0%|          | 377/92900 [1:38:07<400:45:57, 15.59s/it]"
          ],
          "name": "stderr"
        },
        {
          "output_type": "stream",
          "text": [
            "training loss: 1.6847501993179321\n"
          ],
          "name": "stdout"
        },
        {
          "output_type": "stream",
          "text": [
            "\rtraining:   0%|          | 378/92900 [1:38:23<400:44:09, 15.59s/it]"
          ],
          "name": "stderr"
        },
        {
          "output_type": "stream",
          "text": [
            "training loss: 1.6107549667358398\n"
          ],
          "name": "stdout"
        },
        {
          "output_type": "stream",
          "text": [
            "\rtraining:   0%|          | 379/92900 [1:38:38<400:41:42, 15.59s/it]"
          ],
          "name": "stderr"
        },
        {
          "output_type": "stream",
          "text": [
            "training loss: 1.750589370727539\n"
          ],
          "name": "stdout"
        },
        {
          "output_type": "stream",
          "text": [
            "\rtraining:   0%|          | 380/92900 [1:38:54<400:43:52, 15.59s/it]"
          ],
          "name": "stderr"
        },
        {
          "output_type": "stream",
          "text": [
            "training loss: 1.5950241088867188\n"
          ],
          "name": "stdout"
        },
        {
          "output_type": "stream",
          "text": [
            "\rtraining:   0%|          | 381/92900 [1:39:09<400:53:38, 15.60s/it]"
          ],
          "name": "stderr"
        },
        {
          "output_type": "stream",
          "text": [
            "training loss: 1.6368725299835205\n"
          ],
          "name": "stdout"
        },
        {
          "output_type": "stream",
          "text": [
            "\rtraining:   0%|          | 382/92900 [1:39:25<400:55:02, 15.60s/it]"
          ],
          "name": "stderr"
        },
        {
          "output_type": "stream",
          "text": [
            "training loss: 1.6683417558670044\n"
          ],
          "name": "stdout"
        },
        {
          "output_type": "stream",
          "text": [
            "\rtraining:   0%|          | 383/92900 [1:39:41<400:46:40, 15.59s/it]"
          ],
          "name": "stderr"
        },
        {
          "output_type": "stream",
          "text": [
            "training loss: 1.6694755554199219\n"
          ],
          "name": "stdout"
        },
        {
          "output_type": "stream",
          "text": [
            "\rtraining:   0%|          | 384/92900 [1:39:56<400:48:54, 15.60s/it]"
          ],
          "name": "stderr"
        },
        {
          "output_type": "stream",
          "text": [
            "training loss: 1.6654640436172485\n"
          ],
          "name": "stdout"
        },
        {
          "output_type": "stream",
          "text": [
            "\rtraining:   0%|          | 385/92900 [1:40:12<400:46:58, 15.60s/it]"
          ],
          "name": "stderr"
        },
        {
          "output_type": "stream",
          "text": [
            "training loss: 1.6259852647781372\n"
          ],
          "name": "stdout"
        },
        {
          "output_type": "stream",
          "text": [
            "\rtraining:   0%|          | 386/92900 [1:40:27<400:39:07, 15.59s/it]"
          ],
          "name": "stderr"
        },
        {
          "output_type": "stream",
          "text": [
            "training loss: 1.5822021961212158\n"
          ],
          "name": "stdout"
        },
        {
          "output_type": "stream",
          "text": [
            "\rtraining:   0%|          | 387/92900 [1:40:43<400:39:00, 15.59s/it]"
          ],
          "name": "stderr"
        },
        {
          "output_type": "stream",
          "text": [
            "training loss: 1.6734975576400757\n"
          ],
          "name": "stdout"
        },
        {
          "output_type": "stream",
          "text": [
            "\rtraining:   0%|          | 388/92900 [1:40:59<400:39:42, 15.59s/it]"
          ],
          "name": "stderr"
        },
        {
          "output_type": "stream",
          "text": [
            "training loss: 1.6729316711425781\n"
          ],
          "name": "stdout"
        },
        {
          "output_type": "stream",
          "text": [
            "\rtraining:   0%|          | 389/92900 [1:41:14<400:39:43, 15.59s/it]"
          ],
          "name": "stderr"
        },
        {
          "output_type": "stream",
          "text": [
            "training loss: 1.7098829746246338\n"
          ],
          "name": "stdout"
        },
        {
          "output_type": "stream",
          "text": [
            "\rtraining:   0%|          | 390/92900 [1:41:30<400:33:32, 15.59s/it]"
          ],
          "name": "stderr"
        },
        {
          "output_type": "stream",
          "text": [
            "training loss: 1.7226816415786743\n"
          ],
          "name": "stdout"
        },
        {
          "output_type": "stream",
          "text": [
            "\rtraining:   0%|          | 391/92900 [1:41:45<400:35:00, 15.59s/it]"
          ],
          "name": "stderr"
        },
        {
          "output_type": "stream",
          "text": [
            "training loss: 1.7058372497558594\n"
          ],
          "name": "stdout"
        },
        {
          "output_type": "stream",
          "text": [
            "\rtraining:   0%|          | 392/92900 [1:42:01<400:38:50, 15.59s/it]"
          ],
          "name": "stderr"
        },
        {
          "output_type": "stream",
          "text": [
            "training loss: 1.6979045867919922\n"
          ],
          "name": "stdout"
        },
        {
          "output_type": "stream",
          "text": [
            "\rtraining:   0%|          | 393/92900 [1:42:16<400:36:44, 15.59s/it]"
          ],
          "name": "stderr"
        },
        {
          "output_type": "stream",
          "text": [
            "training loss: 1.5571825504302979\n"
          ],
          "name": "stdout"
        },
        {
          "output_type": "stream",
          "text": [
            "\rtraining:   0%|          | 394/92900 [1:42:32<400:35:06, 15.59s/it]"
          ],
          "name": "stderr"
        },
        {
          "output_type": "stream",
          "text": [
            "training loss: 1.6864774227142334\n"
          ],
          "name": "stdout"
        },
        {
          "output_type": "stream",
          "text": [
            "\rtraining:   0%|          | 395/92900 [1:42:48<400:31:04, 15.59s/it]"
          ],
          "name": "stderr"
        },
        {
          "output_type": "stream",
          "text": [
            "training loss: 1.6415269374847412\n"
          ],
          "name": "stdout"
        },
        {
          "output_type": "stream",
          "text": [
            "\rtraining:   0%|          | 396/92900 [1:43:03<400:31:27, 15.59s/it]"
          ],
          "name": "stderr"
        },
        {
          "output_type": "stream",
          "text": [
            "training loss: 1.644614338874817\n"
          ],
          "name": "stdout"
        },
        {
          "output_type": "stream",
          "text": [
            "\rtraining:   0%|          | 397/92900 [1:43:19<400:35:13, 15.59s/it]"
          ],
          "name": "stderr"
        },
        {
          "output_type": "stream",
          "text": [
            "training loss: 1.6349817514419556\n"
          ],
          "name": "stdout"
        },
        {
          "output_type": "stream",
          "text": [
            "\rtraining:   0%|          | 398/92900 [1:43:34<400:30:48, 15.59s/it]"
          ],
          "name": "stderr"
        },
        {
          "output_type": "stream",
          "text": [
            "training loss: 1.6960957050323486\n"
          ],
          "name": "stdout"
        },
        {
          "output_type": "stream",
          "text": [
            "\rtraining:   0%|          | 399/92900 [1:43:50<400:34:19, 15.59s/it]"
          ],
          "name": "stderr"
        },
        {
          "output_type": "stream",
          "text": [
            "training loss: 1.6564831733703613\n"
          ],
          "name": "stdout"
        },
        {
          "output_type": "stream",
          "text": [
            "\rtraining:   0%|          | 400/92900 [1:44:06<400:38:40, 15.59s/it]"
          ],
          "name": "stderr"
        },
        {
          "output_type": "stream",
          "text": [
            "training loss: 1.5993545055389404\n",
            "training loss: 1.650964379310608\n"
          ],
          "name": "stdout"
        },
        {
          "output_type": "stream",
          "text": [
            "\n",
            "generating:   0%|          | 0/512 [00:00<?, ?it/s]\u001b[A"
          ],
          "name": "stderr"
        },
        {
          "output_type": "stream",
          "text": [
            "validation loss: 1.563401222229004\n",
            "Od zaciatku som bol presvedceny, ze tam bude nizka efektivita,\r\n",
            "pretoze mame pomerne maly rozsah kilometrov, ktore mozeme spoplatnit.\r\n",
            "Spoplatnili sa dialnice, rychlostne cesty a cesty prvej triedy v subehu\r\n",
            "s dialnicami a rychlostnymi cestami, aby nam kamiony neusli na\r\n",
            "nespoplatnene cesty prvej triedy. Sucasny stav je vsak aj vysledkom\r\n",
            "naslednych politickych rozhodnuti. Tie znizili efektivitu vyberu myta\r\n",
            "tym, ze sa urobili ustupky nasim autodopravcom. SkyToll sa vyjadril, ze\r\n",
            "tieto ustupky boli celkovo vo vyske zhruba 700 milionov eur. Keby tych\r\n",
            "700 milionov eur bolo v prijmoch, vysledny obraz by bol uplne iny.\r\n",
            "Povodne odhady hovorili o vybere 1,5 az 4 miliardy eur. Nebolo uz\r\n",
            "vtedy jasne, ze je to neunosne pre dopravcov?\r\n",
            "V prvom rade si treba uvedomit, ze v tom case bolo tak 30 az\r\n",
            "35 percent slovenskych dopravcov a zvysok boli cezhranicni. Vynos bol\r\n",
            "planovany od 150 do 200 milionov eur rocne.\r\n",
            "Podla NKU zaplatili uzivatelia spolu z poplatkov za myto od roku\r\n",
            "2010 do roku 2018 takmer 1,6 miliardy eur, z coho 760 milionov eur islo\r\n",
            "firme SkyToll a 709 milionov eur islo NDS. Len 100 milionov sa podla\r\n",
            "uradu pouzilo na vystavbu a opravu ciest. Je to v poriadku? Nekomentujem to\r\n",
            "dalsie rozdelenie, pretoze som pri tom nebol. Bolo by to z mojej strany\r\n",
            "nekorektne. Je to vsak vymysel NKU, ze myto bolo urcene na vystavbu\r\n",
            "ciest. Nebolo to tak. Myto bolo primarne urcene na splatenie dlhov voci\r\n",
            "bankam a vyhnutie sa cross-defaultu Narodnej dialnicnej spolocnosti.\r\n",
            "A tiez na vytvorenie priestoru v statnom rozpocte, ktory by dotoval\r\n",
            "spolufinancovanie dialnic z eurofondov.\r\n",
            "Igor Matovic (OLaNO) hovoril o strate 700 milionov eur pre stat. Kde\r\n",
            "vzal to cislo?\r\n",
            "To neviem. Je to absolutny nezmysel. Asi tym myslel vysutazenu cenu.\r\n",
            "Matovic zverejnil 10 rokov zverejnenu zmluvu, o ktorej tvrdil, ze je\r\n",
            "utajena. Zmluva vsak nie je taka hruba, ako ju prezentoval. Utajena bola na\r\n",
            "zaklade poziadavky SkyToll-u len jedna strana. SkyToll totiz uz v marci\r\n",
            "2009 suhlasil so zverejnenim celej zmluvy okrem casti Ponuka. A to je ta\r\n",
            "jedna strana. Z nej bolo zverejnene vsetko okrem ceny, ktoru oni povazovali\r\n",
            "za obchodne tajomstvo. Neviem, ci to Matovic robi umyselne, alebo\r\n",
            "neumyselne, ale odkupna cena nebola zverejnena. Bola definovana ako\r\n",
            "predpoklad. On sa k nej, ak je to pravda, nejako dostal. V zmluve je\r\n",
            "napisane, ze odkupna cena bude stanovena v kazdom roku ako\r\n",
            "maximalna cena.\r\n",
            "Ako je to teda v zmluve?\r\n",
            "V zmluve bola odkupna cast definovana ako maximalna cena. V zmluve je\r\n",
            "presne uvedeny mechanizmus odkupenia. Stat urci auditora a ten urci\r\n",
            "cenu, za ktoru sa moze mytny system odkupit. A to maximalne za\r\n",
            "400 milionov eur.\r\n",
            "Takze to nakoniec moze byt aj v cene jedneho eura?\r\n",
            "Kedysi som to tak komentoval, aby to bolo kazdemu jasne, ze to moze\r\n",
            "dospiet aj k cene jednej koruny. Stale si za tym stojim. Plati mechanizmus\r\n",
            "definovany v zmluve. Ked mytny system postavili, stal 716 milionov eur.\r\n",
            "Preco stat v roku 2011 nevyuzil moznost za 400 milionov kupit\r\n",
            "716-milionovy mytny system? Z tohto pohladu bola ta zmluva pre stat\r\n",
            "velmi vyhodna. SkyToll velmi riskoval, ked dal do zmluvy slovo maximalne.\r\n",
            "Dnes neviem povedat, kolko to bude stat. Cenu urci auditor a ta moze\r\n",
            "byt aj jedno euro, ale aj viac. Nemyslim si vsak, ze by to bolo\r\n",
            "400 milionov. Podla mna to bude stvrtina tejto sumy. Je to moznost,\r\n",
            "ktoru stat moze, ale nemusi vyuzit.\r\n",
            "Preco vyhrala mytny tender prave firma SkyToll? Mala predsa najvyssiu\r\n",
            "cenovu ponuku spomedzi ostatnych firiem.\r\n",
            "Pretoze ina ponuka nebola. V zmysle vtedy platneho zakona a vtedy\r\n",
            "platnych sutaznych podmienok bola len tato ponuka platna a\r\n",
            "relevantna.\r\n",
            "Vyradovanie ostatnych firiem bolo podla vas v poriadku?\r\n",
            "Urcite. Vyradovanie skontroloval patkrat Urad pre verejne\r\n",
            "obstaravanie (UVO). Tristvrte roka to bolo na kontrole v Europskej komisii,\r\n",
            "bolo to asi na 11 sudnych pojednavaniach, krajskych sudoch, ale aj na\r\n",
            "Najvyssom sude. Vsetky tieto autority nenasli zasadnu chybu, pre ktoru\r\n",
            "by tento tender musel byt zruseny. To, ze firmy napadali ich vyradenie, je\r\n",
            "ich pravo. Bol to obrovsky tender, mali silne pravne kan\n",
            "****************************************************************************************************\n"
          ],
          "name": "stdout"
        },
        {
          "output_type": "stream",
          "text": [
            "\n",
            "generating:   0%|          | 1/512 [00:00<01:46,  4.79it/s]\u001b[A\n",
            "generating:   0%|          | 2/512 [00:00<01:47,  4.73it/s]\u001b[A\n",
            "generating:   1%|          | 3/512 [00:00<01:47,  4.72it/s]\u001b[A\n",
            "generating:   1%|          | 4/512 [00:00<01:47,  4.72it/s]\u001b[A\n",
            "generating:   1%|          | 5/512 [00:01<01:48,  4.68it/s]\u001b[A\n",
            "generating:   1%|          | 6/512 [00:01<01:47,  4.72it/s]\u001b[A\n",
            "generating:   1%|▏         | 7/512 [00:01<01:46,  4.74it/s]\u001b[A\n",
            "generating:   2%|▏         | 8/512 [00:01<01:47,  4.70it/s]\u001b[A\n",
            "generating:   2%|▏         | 9/512 [00:01<01:47,  4.67it/s]\u001b[A\n",
            "generating:   2%|▏         | 10/512 [00:02<01:46,  4.70it/s]\u001b[A\n",
            "generating:   2%|▏         | 11/512 [00:02<01:46,  4.72it/s]\u001b[A\n",
            "generating:   2%|▏         | 12/512 [00:02<01:45,  4.74it/s]\u001b[A\n",
            "generating:   3%|▎         | 13/512 [00:02<01:44,  4.77it/s]\u001b[A\n",
            "generating:   3%|▎         | 14/512 [00:02<01:44,  4.76it/s]\u001b[A\n",
            "generating:   3%|▎         | 15/512 [00:03<01:45,  4.73it/s]\u001b[A\n",
            "generating:   3%|▎         | 16/512 [00:03<01:44,  4.75it/s]\u001b[A\n",
            "generating:   3%|▎         | 17/512 [00:03<01:44,  4.75it/s]\u001b[A\n",
            "generating:   4%|▎         | 18/512 [00:03<01:43,  4.76it/s]\u001b[A\n",
            "generating:   4%|▎         | 19/512 [00:04<01:43,  4.75it/s]\u001b[A\n",
            "generating:   4%|▍         | 20/512 [00:04<01:43,  4.75it/s]\u001b[A\n",
            "generating:   4%|▍         | 21/512 [00:04<01:43,  4.74it/s]\u001b[A\n",
            "generating:   4%|▍         | 22/512 [00:04<01:43,  4.76it/s]\u001b[A\n",
            "generating:   4%|▍         | 23/512 [00:04<01:43,  4.75it/s]\u001b[A\n",
            "generating:   5%|▍         | 24/512 [00:05<01:43,  4.72it/s]\u001b[A\n",
            "generating:   5%|▍         | 25/512 [00:05<01:43,  4.72it/s]\u001b[A\n",
            "generating:   5%|▌         | 26/512 [00:05<01:42,  4.74it/s]\u001b[A\n",
            "generating:   5%|▌         | 27/512 [00:05<01:42,  4.74it/s]\u001b[A\n",
            "generating:   5%|▌         | 28/512 [00:05<01:41,  4.75it/s]\u001b[A\n",
            "generating:   6%|▌         | 29/512 [00:06<01:41,  4.75it/s]\u001b[A\n",
            "generating:   6%|▌         | 30/512 [00:06<01:41,  4.75it/s]\u001b[A\n",
            "generating:   6%|▌         | 31/512 [00:06<01:41,  4.76it/s]\u001b[A\n",
            "generating:   6%|▋         | 32/512 [00:06<01:41,  4.75it/s]\u001b[A\n",
            "generating:   6%|▋         | 33/512 [00:06<01:41,  4.74it/s]\u001b[A\n",
            "generating:   7%|▋         | 34/512 [00:07<01:46,  4.49it/s]\u001b[A\n",
            "generating:   7%|▋         | 35/512 [00:07<01:49,  4.34it/s]\u001b[A\n",
            "generating:   7%|▋         | 36/512 [00:07<01:49,  4.33it/s]\u001b[A\n",
            "generating:   7%|▋         | 37/512 [00:07<01:48,  4.39it/s]\u001b[A\n",
            "generating:   7%|▋         | 38/512 [00:08<01:46,  4.47it/s]\u001b[A\n",
            "generating:   8%|▊         | 39/512 [00:08<01:45,  4.50it/s]\u001b[A\n",
            "generating:   8%|▊         | 40/512 [00:08<01:42,  4.58it/s]\u001b[A\n",
            "generating:   8%|▊         | 41/512 [00:08<01:41,  4.64it/s]\u001b[A\n",
            "generating:   8%|▊         | 42/512 [00:08<01:40,  4.67it/s]\u001b[A\n",
            "generating:   8%|▊         | 43/512 [00:09<01:39,  4.69it/s]\u001b[A\n",
            "generating:   9%|▊         | 44/512 [00:09<01:39,  4.69it/s]\u001b[A\n",
            "generating:   9%|▉         | 45/512 [00:09<01:38,  4.72it/s]\u001b[A\n",
            "generating:   9%|▉         | 46/512 [00:09<01:38,  4.74it/s]\u001b[A\n",
            "generating:   9%|▉         | 47/512 [00:10<01:38,  4.70it/s]\u001b[A\n",
            "generating:   9%|▉         | 48/512 [00:10<01:39,  4.68it/s]\u001b[A\n",
            "generating:  10%|▉         | 49/512 [00:10<01:38,  4.70it/s]\u001b[A\n",
            "generating:  10%|▉         | 50/512 [00:10<01:38,  4.71it/s]\u001b[A\n",
            "generating:  10%|▉         | 51/512 [00:10<01:38,  4.69it/s]\u001b[A\n",
            "generating:  10%|█         | 52/512 [00:11<01:38,  4.66it/s]\u001b[A\n",
            "generating:  10%|█         | 53/512 [00:11<01:37,  4.70it/s]\u001b[A\n",
            "generating:  11%|█         | 54/512 [00:11<01:37,  4.72it/s]\u001b[A\n",
            "generating:  11%|█         | 55/512 [00:11<01:36,  4.73it/s]\u001b[A\n",
            "generating:  11%|█         | 56/512 [00:11<01:36,  4.73it/s]\u001b[A\n",
            "generating:  11%|█         | 57/512 [00:12<01:36,  4.73it/s]\u001b[A\n",
            "generating:  11%|█▏        | 58/512 [00:12<01:36,  4.72it/s]\u001b[A\n",
            "generating:  12%|█▏        | 59/512 [00:12<01:36,  4.72it/s]\u001b[A\n",
            "generating:  12%|█▏        | 60/512 [00:12<01:35,  4.71it/s]\u001b[A\n",
            "generating:  12%|█▏        | 61/512 [00:13<01:36,  4.69it/s]\u001b[A\n",
            "generating:  12%|█▏        | 62/512 [00:13<01:36,  4.68it/s]\u001b[A\n",
            "generating:  12%|█▏        | 63/512 [00:13<01:35,  4.71it/s]\u001b[A\n",
            "generating:  12%|█▎        | 64/512 [00:13<01:34,  4.73it/s]\u001b[A\n",
            "generating:  13%|█▎        | 65/512 [00:13<01:34,  4.71it/s]\u001b[A\n",
            "generating:  13%|█▎        | 66/512 [00:14<01:34,  4.73it/s]\u001b[A\n",
            "generating:  13%|█▎        | 67/512 [00:14<01:34,  4.70it/s]\u001b[A\n",
            "generating:  13%|█▎        | 68/512 [00:14<01:33,  4.72it/s]\u001b[A\n",
            "generating:  13%|█▎        | 69/512 [00:14<01:33,  4.72it/s]\u001b[A\n",
            "generating:  14%|█▎        | 70/512 [00:14<01:33,  4.73it/s]\u001b[A\n",
            "generating:  14%|█▍        | 71/512 [00:15<01:33,  4.74it/s]\u001b[A\n",
            "generating:  14%|█▍        | 72/512 [00:15<01:34,  4.63it/s]\u001b[A\n",
            "generating:  14%|█▍        | 73/512 [00:15<01:37,  4.51it/s]\u001b[A\n",
            "generating:  14%|█▍        | 74/512 [00:15<01:37,  4.48it/s]\u001b[A\n",
            "generating:  15%|█▍        | 75/512 [00:16<01:36,  4.51it/s]\u001b[A\n",
            "generating:  15%|█▍        | 76/512 [00:16<01:35,  4.58it/s]\u001b[A\n",
            "generating:  15%|█▌        | 77/512 [00:16<01:33,  4.64it/s]\u001b[A\n",
            "generating:  15%|█▌        | 78/512 [00:16<01:32,  4.67it/s]\u001b[A\n",
            "generating:  15%|█▌        | 79/512 [00:16<01:32,  4.67it/s]\u001b[A\n",
            "generating:  16%|█▌        | 80/512 [00:17<01:31,  4.72it/s]\u001b[A\n",
            "generating:  16%|█▌        | 81/512 [00:17<01:31,  4.73it/s]\u001b[A\n",
            "generating:  16%|█▌        | 82/512 [00:17<01:30,  4.76it/s]\u001b[A\n",
            "generating:  16%|█▌        | 83/512 [00:17<01:30,  4.76it/s]\u001b[A\n",
            "generating:  16%|█▋        | 84/512 [00:17<01:30,  4.74it/s]\u001b[A\n",
            "generating:  17%|█▋        | 85/512 [00:18<01:29,  4.77it/s]\u001b[A\n",
            "generating:  17%|█▋        | 86/512 [00:18<01:29,  4.75it/s]\u001b[A\n",
            "generating:  17%|█▋        | 87/512 [00:18<01:29,  4.77it/s]\u001b[A\n",
            "generating:  17%|█▋        | 88/512 [00:18<01:28,  4.79it/s]\u001b[A\n",
            "generating:  17%|█▋        | 89/512 [00:18<01:29,  4.74it/s]\u001b[A\n",
            "generating:  18%|█▊        | 90/512 [00:19<01:30,  4.65it/s]\u001b[A\n",
            "generating:  18%|█▊        | 91/512 [00:19<01:30,  4.66it/s]\u001b[A\n",
            "generating:  18%|█▊        | 92/512 [00:19<01:30,  4.64it/s]\u001b[A\n",
            "generating:  18%|█▊        | 93/512 [00:19<01:29,  4.67it/s]\u001b[A\n",
            "generating:  18%|█▊        | 94/512 [00:20<01:29,  4.69it/s]\u001b[A\n",
            "generating:  19%|█▊        | 95/512 [00:20<01:28,  4.71it/s]\u001b[A\n",
            "generating:  19%|█▉        | 96/512 [00:20<01:27,  4.74it/s]\u001b[A\n",
            "generating:  19%|█▉        | 97/512 [00:20<01:27,  4.75it/s]\u001b[A\n",
            "generating:  19%|█▉        | 98/512 [00:20<01:26,  4.77it/s]\u001b[A\n",
            "generating:  19%|█▉        | 99/512 [00:21<01:26,  4.75it/s]\u001b[A\n",
            "generating:  20%|█▉        | 100/512 [00:21<01:26,  4.74it/s]\u001b[A\n",
            "generating:  20%|█▉        | 101/512 [00:21<01:26,  4.75it/s]\u001b[A\n",
            "generating:  20%|█▉        | 102/512 [00:21<01:26,  4.75it/s]\u001b[A\n",
            "generating:  20%|██        | 103/512 [00:21<01:25,  4.77it/s]\u001b[A\n",
            "generating:  20%|██        | 104/512 [00:22<01:25,  4.75it/s]\u001b[A\n",
            "generating:  21%|██        | 105/512 [00:22<01:26,  4.72it/s]\u001b[A\n",
            "generating:  21%|██        | 106/512 [00:22<01:26,  4.67it/s]\u001b[A\n",
            "generating:  21%|██        | 107/512 [00:22<01:26,  4.70it/s]\u001b[A\n",
            "generating:  21%|██        | 108/512 [00:23<01:25,  4.72it/s]\u001b[A\n",
            "generating:  21%|██▏       | 109/512 [00:23<01:25,  4.71it/s]\u001b[A\n",
            "generating:  21%|██▏       | 110/512 [00:23<01:25,  4.72it/s]\u001b[A\n",
            "generating:  22%|██▏       | 111/512 [00:23<01:24,  4.73it/s]\u001b[A\n",
            "generating:  22%|██▏       | 112/512 [00:23<01:24,  4.75it/s]\u001b[A\n",
            "generating:  22%|██▏       | 113/512 [00:24<01:24,  4.75it/s]\u001b[A\n",
            "generating:  22%|██▏       | 114/512 [00:24<01:24,  4.74it/s]\u001b[A\n",
            "generating:  22%|██▏       | 115/512 [00:24<01:23,  4.74it/s]\u001b[A\n",
            "generating:  23%|██▎       | 116/512 [00:24<01:23,  4.75it/s]\u001b[A\n",
            "generating:  23%|██▎       | 117/512 [00:24<01:22,  4.76it/s]\u001b[A\n",
            "generating:  23%|██▎       | 118/512 [00:25<01:22,  4.76it/s]\u001b[A\n",
            "generating:  23%|██▎       | 119/512 [00:25<01:23,  4.70it/s]\u001b[A\n",
            "generating:  23%|██▎       | 120/512 [00:25<01:23,  4.71it/s]\u001b[A\n",
            "generating:  24%|██▎       | 121/512 [00:25<01:22,  4.74it/s]\u001b[A\n",
            "generating:  24%|██▍       | 122/512 [00:25<01:22,  4.75it/s]\u001b[A\n",
            "generating:  24%|██▍       | 123/512 [00:26<01:22,  4.74it/s]\u001b[A\n",
            "generating:  24%|██▍       | 124/512 [00:26<01:21,  4.74it/s]\u001b[A\n",
            "generating:  24%|██▍       | 125/512 [00:26<01:21,  4.73it/s]\u001b[A\n",
            "generating:  25%|██▍       | 126/512 [00:26<01:21,  4.74it/s]\u001b[A\n",
            "generating:  25%|██▍       | 127/512 [00:27<01:20,  4.75it/s]\u001b[A\n",
            "generating:  25%|██▌       | 128/512 [00:27<01:21,  4.73it/s]\u001b[A\n",
            "generating:  25%|██▌       | 129/512 [00:27<01:21,  4.71it/s]\u001b[A\n",
            "generating:  25%|██▌       | 130/512 [00:27<01:20,  4.73it/s]\u001b[A\n",
            "generating:  26%|██▌       | 131/512 [00:27<01:20,  4.75it/s]\u001b[A\n",
            "generating:  26%|██▌       | 132/512 [00:28<01:20,  4.71it/s]\u001b[A\n",
            "generating:  26%|██▌       | 133/512 [00:28<01:20,  4.72it/s]\u001b[A\n",
            "generating:  26%|██▌       | 134/512 [00:28<01:21,  4.66it/s]\u001b[A\n",
            "generating:  26%|██▋       | 135/512 [00:28<01:20,  4.69it/s]\u001b[A\n",
            "generating:  27%|██▋       | 136/512 [00:28<01:19,  4.72it/s]\u001b[A\n",
            "generating:  27%|██▋       | 137/512 [00:29<01:19,  4.74it/s]\u001b[A\n",
            "generating:  27%|██▋       | 138/512 [00:29<01:19,  4.72it/s]\u001b[A\n",
            "generating:  27%|██▋       | 139/512 [00:29<01:20,  4.64it/s]\u001b[A\n",
            "generating:  27%|██▋       | 140/512 [00:29<01:19,  4.68it/s]\u001b[A\n",
            "generating:  28%|██▊       | 141/512 [00:30<01:18,  4.70it/s]\u001b[A\n",
            "generating:  28%|██▊       | 142/512 [00:30<01:18,  4.73it/s]\u001b[A\n",
            "generating:  28%|██▊       | 143/512 [00:30<01:18,  4.70it/s]\u001b[A\n",
            "generating:  28%|██▊       | 144/512 [00:30<01:20,  4.57it/s]\u001b[A\n",
            "generating:  28%|██▊       | 145/512 [00:30<01:22,  4.47it/s]\u001b[A\n",
            "generating:  29%|██▊       | 146/512 [00:31<01:22,  4.45it/s]\u001b[A\n",
            "generating:  29%|██▊       | 147/512 [00:31<01:22,  4.40it/s]\u001b[A\n",
            "generating:  29%|██▉       | 148/512 [00:31<01:23,  4.34it/s]\u001b[A\n",
            "generating:  29%|██▉       | 149/512 [00:31<01:23,  4.35it/s]\u001b[A\n",
            "generating:  29%|██▉       | 150/512 [00:32<01:21,  4.45it/s]\u001b[A\n",
            "generating:  29%|██▉       | 151/512 [00:32<01:19,  4.54it/s]\u001b[A\n",
            "generating:  30%|██▉       | 152/512 [00:32<01:18,  4.60it/s]\u001b[A\n",
            "generating:  30%|██▉       | 153/512 [00:32<01:17,  4.62it/s]\u001b[A\n",
            "generating:  30%|███       | 154/512 [00:32<01:16,  4.65it/s]\u001b[A\n",
            "generating:  30%|███       | 155/512 [00:33<01:16,  4.69it/s]\u001b[A\n",
            "generating:  30%|███       | 156/512 [00:33<01:15,  4.72it/s]\u001b[A\n",
            "generating:  31%|███       | 157/512 [00:33<01:15,  4.73it/s]\u001b[A\n",
            "generating:  31%|███       | 158/512 [00:33<01:15,  4.71it/s]\u001b[A\n",
            "generating:  31%|███       | 159/512 [00:33<01:14,  4.73it/s]\u001b[A\n",
            "generating:  31%|███▏      | 160/512 [00:34<01:14,  4.75it/s]\u001b[A\n",
            "generating:  31%|███▏      | 161/512 [00:34<01:13,  4.76it/s]\u001b[A\n",
            "generating:  32%|███▏      | 162/512 [00:34<01:13,  4.77it/s]\u001b[A\n",
            "generating:  32%|███▏      | 163/512 [00:34<01:14,  4.70it/s]\u001b[A\n",
            "generating:  32%|███▏      | 164/512 [00:34<01:13,  4.70it/s]\u001b[A\n",
            "generating:  32%|███▏      | 165/512 [00:35<01:13,  4.74it/s]\u001b[A\n",
            "generating:  32%|███▏      | 166/512 [00:35<01:12,  4.76it/s]\u001b[A\n",
            "generating:  33%|███▎      | 167/512 [00:35<01:12,  4.77it/s]\u001b[A\n",
            "generating:  33%|███▎      | 168/512 [00:35<01:12,  4.76it/s]\u001b[A\n",
            "generating:  33%|███▎      | 169/512 [00:36<01:12,  4.76it/s]\u001b[A\n",
            "generating:  33%|███▎      | 170/512 [00:36<01:11,  4.76it/s]\u001b[A\n",
            "generating:  33%|███▎      | 171/512 [00:36<01:11,  4.77it/s]\u001b[A\n",
            "generating:  34%|███▎      | 172/512 [00:36<01:11,  4.78it/s]\u001b[A\n",
            "generating:  34%|███▍      | 173/512 [00:36<01:11,  4.71it/s]\u001b[A\n",
            "generating:  34%|███▍      | 174/512 [00:37<01:11,  4.72it/s]\u001b[A\n",
            "generating:  34%|███▍      | 175/512 [00:37<01:11,  4.74it/s]\u001b[A\n",
            "generating:  34%|███▍      | 176/512 [00:37<01:10,  4.75it/s]\u001b[A\n",
            "generating:  35%|███▍      | 177/512 [00:37<01:10,  4.77it/s]\u001b[A\n",
            "generating:  35%|███▍      | 178/512 [00:37<01:11,  4.68it/s]\u001b[A\n",
            "generating:  35%|███▍      | 179/512 [00:38<01:10,  4.72it/s]\u001b[A\n",
            "generating:  35%|███▌      | 180/512 [00:38<01:10,  4.73it/s]\u001b[A\n",
            "generating:  35%|███▌      | 181/512 [00:38<01:09,  4.75it/s]\u001b[A\n",
            "generating:  36%|███▌      | 182/512 [00:38<01:09,  4.73it/s]\u001b[A\n",
            "generating:  36%|███▌      | 183/512 [00:39<01:10,  4.68it/s]\u001b[A\n",
            "generating:  36%|███▌      | 184/512 [00:39<01:09,  4.71it/s]\u001b[A\n",
            "generating:  36%|███▌      | 185/512 [00:39<01:09,  4.72it/s]\u001b[A\n",
            "generating:  36%|███▋      | 186/512 [00:39<01:08,  4.73it/s]\u001b[A\n",
            "generating:  37%|███▋      | 187/512 [00:39<01:09,  4.70it/s]\u001b[A\n",
            "generating:  37%|███▋      | 188/512 [00:40<01:09,  4.65it/s]\u001b[A\n",
            "generating:  37%|███▋      | 189/512 [00:40<01:09,  4.67it/s]\u001b[A\n",
            "generating:  37%|███▋      | 190/512 [00:40<01:08,  4.69it/s]\u001b[A\n",
            "generating:  37%|███▋      | 191/512 [00:40<01:08,  4.71it/s]\u001b[A\n",
            "generating:  38%|███▊      | 192/512 [00:40<01:09,  4.64it/s]\u001b[A\n",
            "generating:  38%|███▊      | 193/512 [00:41<01:08,  4.65it/s]\u001b[A\n",
            "generating:  38%|███▊      | 194/512 [00:41<01:07,  4.68it/s]\u001b[A\n",
            "generating:  38%|███▊      | 195/512 [00:41<01:07,  4.71it/s]\u001b[A\n",
            "generating:  38%|███▊      | 196/512 [00:41<01:07,  4.72it/s]\u001b[A\n",
            "generating:  38%|███▊      | 197/512 [00:41<01:06,  4.71it/s]\u001b[A\n",
            "generating:  39%|███▊      | 198/512 [00:42<01:06,  4.70it/s]\u001b[A\n",
            "generating:  39%|███▉      | 199/512 [00:42<01:06,  4.71it/s]\u001b[A\n",
            "generating:  39%|███▉      | 200/512 [00:42<01:07,  4.64it/s]\u001b[A\n",
            "generating:  39%|███▉      | 201/512 [00:42<01:08,  4.54it/s]\u001b[A\n",
            "generating:  39%|███▉      | 202/512 [00:43<01:10,  4.41it/s]\u001b[A\n",
            "generating:  40%|███▉      | 203/512 [00:43<01:10,  4.41it/s]\u001b[A\n",
            "generating:  40%|███▉      | 204/512 [00:43<01:08,  4.48it/s]\u001b[A\n",
            "generating:  40%|████      | 205/512 [00:43<01:07,  4.56it/s]\u001b[A\n",
            "generating:  40%|████      | 206/512 [00:43<01:07,  4.55it/s]\u001b[A\n",
            "generating:  40%|████      | 207/512 [00:44<01:06,  4.57it/s]\u001b[A\n",
            "generating:  41%|████      | 208/512 [00:44<01:05,  4.61it/s]\u001b[A\n",
            "generating:  41%|████      | 209/512 [00:44<01:05,  4.66it/s]\u001b[A\n",
            "generating:  41%|████      | 210/512 [00:44<01:04,  4.68it/s]\u001b[A\n",
            "generating:  41%|████      | 211/512 [00:45<01:04,  4.67it/s]\u001b[A\n",
            "generating:  41%|████▏     | 212/512 [00:45<01:04,  4.68it/s]\u001b[A\n",
            "generating:  42%|████▏     | 213/512 [00:45<01:03,  4.69it/s]\u001b[A\n",
            "generating:  42%|████▏     | 214/512 [00:45<01:03,  4.71it/s]\u001b[A\n",
            "generating:  42%|████▏     | 215/512 [00:45<01:02,  4.73it/s]\u001b[A\n",
            "generating:  42%|████▏     | 216/512 [00:46<01:02,  4.72it/s]\u001b[A\n",
            "generating:  42%|████▏     | 217/512 [00:46<01:02,  4.72it/s]\u001b[A\n",
            "generating:  43%|████▎     | 218/512 [00:46<01:02,  4.72it/s]\u001b[A\n",
            "generating:  43%|████▎     | 219/512 [00:46<01:02,  4.72it/s]\u001b[A\n",
            "generating:  43%|████▎     | 220/512 [00:46<01:01,  4.72it/s]\u001b[A\n",
            "generating:  43%|████▎     | 221/512 [00:47<01:01,  4.72it/s]\u001b[A\n",
            "generating:  43%|████▎     | 222/512 [00:47<01:01,  4.73it/s]\u001b[A\n",
            "generating:  44%|████▎     | 223/512 [00:47<01:01,  4.71it/s]\u001b[A\n",
            "generating:  44%|████▍     | 224/512 [00:47<01:01,  4.71it/s]\u001b[A\n",
            "generating:  44%|████▍     | 225/512 [00:48<01:00,  4.71it/s]\u001b[A\n",
            "generating:  44%|████▍     | 226/512 [00:48<01:00,  4.70it/s]\u001b[A\n",
            "generating:  44%|████▍     | 227/512 [00:48<01:00,  4.70it/s]\u001b[A\n",
            "generating:  45%|████▍     | 228/512 [00:48<01:00,  4.66it/s]\u001b[A\n",
            "generating:  45%|████▍     | 229/512 [00:48<01:00,  4.68it/s]\u001b[A\n",
            "generating:  45%|████▍     | 230/512 [00:49<01:00,  4.66it/s]\u001b[A\n",
            "generating:  45%|████▌     | 231/512 [00:49<01:00,  4.66it/s]\u001b[A\n",
            "generating:  45%|████▌     | 232/512 [00:49<01:00,  4.60it/s]\u001b[A\n",
            "generating:  46%|████▌     | 233/512 [00:49<01:01,  4.57it/s]\u001b[A\n",
            "generating:  46%|████▌     | 234/512 [00:49<01:00,  4.60it/s]\u001b[A\n",
            "generating:  46%|████▌     | 235/512 [00:50<00:59,  4.63it/s]\u001b[A\n",
            "generating:  46%|████▌     | 236/512 [00:50<00:59,  4.66it/s]\u001b[A\n",
            "generating:  46%|████▋     | 237/512 [00:50<00:58,  4.68it/s]\u001b[A\n",
            "generating:  46%|████▋     | 238/512 [00:50<00:58,  4.70it/s]\u001b[A\n",
            "generating:  47%|████▋     | 239/512 [00:51<00:57,  4.72it/s]\u001b[A\n",
            "generating:  47%|████▋     | 240/512 [00:51<00:57,  4.69it/s]\u001b[A\n",
            "generating:  47%|████▋     | 241/512 [00:51<00:57,  4.69it/s]\u001b[A\n",
            "generating:  47%|████▋     | 242/512 [00:51<00:57,  4.67it/s]\u001b[A\n",
            "generating:  47%|████▋     | 243/512 [00:51<00:57,  4.69it/s]\u001b[A\n",
            "generating:  48%|████▊     | 244/512 [00:52<00:57,  4.69it/s]\u001b[A\n",
            "generating:  48%|████▊     | 245/512 [00:52<00:56,  4.69it/s]\u001b[A\n",
            "generating:  48%|████▊     | 246/512 [00:52<00:57,  4.64it/s]\u001b[A\n",
            "generating:  48%|████▊     | 247/512 [00:52<00:57,  4.63it/s]\u001b[A\n",
            "generating:  48%|████▊     | 248/512 [00:52<00:56,  4.63it/s]\u001b[A\n",
            "generating:  49%|████▊     | 249/512 [00:53<00:56,  4.64it/s]\u001b[A\n",
            "generating:  49%|████▉     | 250/512 [00:53<00:56,  4.62it/s]\u001b[A\n",
            "generating:  49%|████▉     | 251/512 [00:53<00:55,  4.67it/s]\u001b[A\n",
            "generating:  49%|████▉     | 252/512 [00:53<00:55,  4.67it/s]\u001b[A\n",
            "generating:  49%|████▉     | 253/512 [00:54<00:55,  4.64it/s]\u001b[A\n",
            "generating:  50%|████▉     | 254/512 [00:54<00:55,  4.68it/s]\u001b[A\n",
            "generating:  50%|████▉     | 255/512 [00:54<00:54,  4.72it/s]\u001b[A\n",
            "generating:  50%|█████     | 256/512 [00:54<00:53,  4.75it/s]\u001b[A\n",
            "generating:  50%|█████     | 257/512 [00:54<00:53,  4.75it/s]\u001b[A\n",
            "generating:  50%|█████     | 258/512 [00:55<00:53,  4.76it/s]\u001b[A\n",
            "generating:  51%|█████     | 259/512 [00:55<00:53,  4.76it/s]\u001b[A\n",
            "generating:  51%|█████     | 260/512 [00:55<00:52,  4.78it/s]\u001b[A\n",
            "generating:  51%|█████     | 261/512 [00:55<00:52,  4.78it/s]\u001b[A\n",
            "generating:  51%|█████     | 262/512 [00:55<00:52,  4.78it/s]\u001b[A\n",
            "generating:  51%|█████▏    | 263/512 [00:56<00:52,  4.78it/s]\u001b[A\n",
            "generating:  52%|█████▏    | 264/512 [00:56<00:51,  4.78it/s]\u001b[A\n",
            "generating:  52%|█████▏    | 265/512 [00:56<00:51,  4.77it/s]\u001b[A\n",
            "generating:  52%|█████▏    | 266/512 [00:56<00:51,  4.78it/s]\u001b[A\n",
            "generating:  52%|█████▏    | 267/512 [00:56<00:51,  4.78it/s]\u001b[A\n",
            "generating:  52%|█████▏    | 268/512 [00:57<00:51,  4.75it/s]\u001b[A\n",
            "generating:  53%|█████▎    | 269/512 [00:57<00:51,  4.70it/s]\u001b[A\n",
            "generating:  53%|█████▎    | 270/512 [00:57<00:51,  4.70it/s]\u001b[A\n",
            "generating:  53%|█████▎    | 271/512 [00:57<00:51,  4.72it/s]\u001b[A\n",
            "generating:  53%|█████▎    | 272/512 [00:58<00:50,  4.72it/s]\u001b[A\n",
            "generating:  53%|█████▎    | 273/512 [00:58<00:50,  4.69it/s]\u001b[A\n",
            "generating:  54%|█████▎    | 274/512 [00:58<00:50,  4.70it/s]\u001b[A\n",
            "generating:  54%|█████▎    | 275/512 [00:58<00:50,  4.71it/s]\u001b[A\n",
            "generating:  54%|█████▍    | 276/512 [00:58<00:49,  4.74it/s]\u001b[A\n",
            "generating:  54%|█████▍    | 277/512 [00:59<00:49,  4.71it/s]\u001b[A\n",
            "generating:  54%|█████▍    | 278/512 [00:59<00:50,  4.67it/s]\u001b[A\n",
            "generating:  54%|█████▍    | 279/512 [00:59<00:50,  4.62it/s]\u001b[A\n",
            "generating:  55%|█████▍    | 280/512 [00:59<00:50,  4.64it/s]\u001b[A\n",
            "generating:  55%|█████▍    | 281/512 [00:59<00:49,  4.67it/s]\u001b[A\n",
            "generating:  55%|█████▌    | 282/512 [01:00<00:49,  4.66it/s]\u001b[A\n",
            "generating:  55%|█████▌    | 283/512 [01:00<00:48,  4.69it/s]\u001b[A\n",
            "generating:  55%|█████▌    | 284/512 [01:00<00:48,  4.71it/s]\u001b[A\n",
            "generating:  56%|█████▌    | 285/512 [01:00<00:48,  4.72it/s]\u001b[A\n",
            "generating:  56%|█████▌    | 286/512 [01:00<00:47,  4.73it/s]\u001b[A\n",
            "generating:  56%|█████▌    | 287/512 [01:01<00:47,  4.72it/s]\u001b[A\n",
            "generating:  56%|█████▋    | 288/512 [01:01<00:47,  4.72it/s]\u001b[A\n",
            "generating:  56%|█████▋    | 289/512 [01:01<00:47,  4.72it/s]\u001b[A\n",
            "generating:  57%|█████▋    | 290/512 [01:01<00:47,  4.69it/s]\u001b[A\n",
            "generating:  57%|█████▋    | 291/512 [01:02<00:46,  4.71it/s]\u001b[A\n",
            "generating:  57%|█████▋    | 292/512 [01:02<00:46,  4.71it/s]\u001b[A\n",
            "generating:  57%|█████▋    | 293/512 [01:02<00:46,  4.70it/s]\u001b[A\n",
            "generating:  57%|█████▋    | 294/512 [01:02<00:46,  4.72it/s]\u001b[A\n",
            "generating:  58%|█████▊    | 295/512 [01:02<00:45,  4.72it/s]\u001b[A\n",
            "generating:  58%|█████▊    | 296/512 [01:03<00:45,  4.73it/s]\u001b[A\n",
            "generating:  58%|█████▊    | 297/512 [01:03<00:45,  4.71it/s]\u001b[A\n",
            "generating:  58%|█████▊    | 298/512 [01:03<00:45,  4.71it/s]\u001b[A\n",
            "generating:  58%|█████▊    | 299/512 [01:03<00:44,  4.74it/s]\u001b[A\n",
            "generating:  59%|█████▊    | 300/512 [01:03<00:44,  4.74it/s]\u001b[A\n",
            "generating:  59%|█████▉    | 301/512 [01:04<00:44,  4.71it/s]\u001b[A\n",
            "generating:  59%|█████▉    | 302/512 [01:04<00:44,  4.70it/s]\u001b[A\n",
            "generating:  59%|█████▉    | 303/512 [01:04<00:44,  4.71it/s]\u001b[A\n",
            "generating:  59%|█████▉    | 304/512 [01:04<00:43,  4.73it/s]\u001b[A\n",
            "generating:  60%|█████▉    | 305/512 [01:05<00:43,  4.73it/s]\u001b[A\n",
            "generating:  60%|█████▉    | 306/512 [01:05<00:43,  4.73it/s]\u001b[A\n",
            "generating:  60%|█████▉    | 307/512 [01:05<00:43,  4.72it/s]\u001b[A\n",
            "generating:  60%|██████    | 308/512 [01:05<00:43,  4.72it/s]\u001b[A\n",
            "generating:  60%|██████    | 309/512 [01:05<00:42,  4.74it/s]\u001b[A\n",
            "generating:  61%|██████    | 310/512 [01:06<00:42,  4.74it/s]\u001b[A\n",
            "generating:  61%|██████    | 311/512 [01:06<00:42,  4.72it/s]\u001b[A\n",
            "generating:  61%|██████    | 312/512 [01:06<00:42,  4.69it/s]\u001b[A\n",
            "generating:  61%|██████    | 313/512 [01:06<00:42,  4.71it/s]\u001b[A\n",
            "generating:  61%|██████▏   | 314/512 [01:06<00:41,  4.72it/s]\u001b[A\n",
            "generating:  62%|██████▏   | 315/512 [01:07<00:41,  4.73it/s]\u001b[A\n",
            "generating:  62%|██████▏   | 316/512 [01:07<00:41,  4.74it/s]\u001b[A\n",
            "generating:  62%|██████▏   | 317/512 [01:07<00:41,  4.71it/s]\u001b[A\n",
            "generating:  62%|██████▏   | 318/512 [01:07<00:41,  4.69it/s]\u001b[A\n",
            "generating:  62%|██████▏   | 319/512 [01:08<00:41,  4.66it/s]\u001b[A\n",
            "generating:  62%|██████▎   | 320/512 [01:08<00:40,  4.69it/s]\u001b[A\n",
            "generating:  63%|██████▎   | 321/512 [01:08<00:40,  4.71it/s]\u001b[A\n",
            "generating:  63%|██████▎   | 322/512 [01:08<00:40,  4.70it/s]\u001b[A\n",
            "generating:  63%|██████▎   | 323/512 [01:08<00:40,  4.70it/s]\u001b[A\n",
            "generating:  63%|██████▎   | 324/512 [01:09<00:39,  4.73it/s]\u001b[A\n",
            "generating:  63%|██████▎   | 325/512 [01:09<00:39,  4.74it/s]\u001b[A\n",
            "generating:  64%|██████▎   | 326/512 [01:09<00:39,  4.74it/s]\u001b[A\n",
            "generating:  64%|██████▍   | 327/512 [01:09<00:39,  4.69it/s]\u001b[A\n",
            "generating:  64%|██████▍   | 328/512 [01:09<00:39,  4.70it/s]\u001b[A\n",
            "generating:  64%|██████▍   | 329/512 [01:10<00:39,  4.64it/s]\u001b[A\n",
            "generating:  64%|██████▍   | 330/512 [01:10<00:38,  4.68it/s]\u001b[A\n",
            "generating:  65%|██████▍   | 331/512 [01:10<00:38,  4.71it/s]\u001b[A\n",
            "generating:  65%|██████▍   | 332/512 [01:10<00:38,  4.67it/s]\u001b[A\n",
            "generating:  65%|██████▌   | 333/512 [01:10<00:38,  4.65it/s]\u001b[A\n",
            "generating:  65%|██████▌   | 334/512 [01:11<00:38,  4.67it/s]\u001b[A\n",
            "generating:  65%|██████▌   | 335/512 [01:11<00:37,  4.69it/s]\u001b[A\n",
            "generating:  66%|██████▌   | 336/512 [01:11<00:37,  4.72it/s]\u001b[A\n",
            "generating:  66%|██████▌   | 337/512 [01:11<00:37,  4.69it/s]\u001b[A\n",
            "generating:  66%|██████▌   | 338/512 [01:12<00:36,  4.70it/s]\u001b[A\n",
            "generating:  66%|██████▌   | 339/512 [01:12<00:36,  4.72it/s]\u001b[A\n",
            "generating:  66%|██████▋   | 340/512 [01:12<00:36,  4.71it/s]\u001b[A\n",
            "generating:  67%|██████▋   | 341/512 [01:12<00:36,  4.72it/s]\u001b[A\n",
            "generating:  67%|██████▋   | 342/512 [01:12<00:36,  4.71it/s]\u001b[A\n",
            "generating:  67%|██████▋   | 343/512 [01:13<00:35,  4.73it/s]\u001b[A\n",
            "generating:  67%|██████▋   | 344/512 [01:13<00:35,  4.68it/s]\u001b[A\n",
            "generating:  67%|██████▋   | 345/512 [01:13<00:35,  4.67it/s]\u001b[A\n",
            "generating:  68%|██████▊   | 346/512 [01:13<00:35,  4.65it/s]\u001b[A\n",
            "generating:  68%|██████▊   | 347/512 [01:13<00:35,  4.67it/s]\u001b[A\n",
            "generating:  68%|██████▊   | 348/512 [01:14<00:34,  4.69it/s]\u001b[A\n",
            "generating:  68%|██████▊   | 349/512 [01:14<00:34,  4.73it/s]\u001b[A\n",
            "generating:  68%|██████▊   | 350/512 [01:14<00:34,  4.75it/s]\u001b[A\n",
            "generating:  69%|██████▊   | 351/512 [01:14<00:33,  4.76it/s]\u001b[A\n",
            "generating:  69%|██████▉   | 352/512 [01:15<00:33,  4.77it/s]\u001b[A\n",
            "generating:  69%|██████▉   | 353/512 [01:15<00:33,  4.72it/s]\u001b[A\n",
            "generating:  69%|██████▉   | 354/512 [01:15<00:34,  4.59it/s]\u001b[A\n",
            "generating:  69%|██████▉   | 355/512 [01:15<00:34,  4.53it/s]\u001b[A\n",
            "generating:  70%|██████▉   | 356/512 [01:15<00:34,  4.46it/s]\u001b[A\n",
            "generating:  70%|██████▉   | 357/512 [01:16<00:34,  4.55it/s]\u001b[A\n",
            "generating:  70%|██████▉   | 358/512 [01:16<00:33,  4.61it/s]\u001b[A\n",
            "generating:  70%|███████   | 359/512 [01:16<00:32,  4.64it/s]\u001b[A\n",
            "generating:  70%|███████   | 360/512 [01:16<00:32,  4.67it/s]\u001b[A\n",
            "generating:  71%|███████   | 361/512 [01:16<00:32,  4.66it/s]\u001b[A\n",
            "generating:  71%|███████   | 362/512 [01:17<00:32,  4.67it/s]\u001b[A\n",
            "generating:  71%|███████   | 363/512 [01:17<00:31,  4.70it/s]\u001b[A\n",
            "generating:  71%|███████   | 364/512 [01:17<00:31,  4.72it/s]\u001b[A\n",
            "generating:  71%|███████▏  | 365/512 [01:17<00:31,  4.74it/s]\u001b[A\n",
            "generating:  71%|███████▏  | 366/512 [01:18<00:30,  4.72it/s]\u001b[A\n",
            "generating:  72%|███████▏  | 367/512 [01:18<00:30,  4.72it/s]\u001b[A\n",
            "generating:  72%|███████▏  | 368/512 [01:18<00:30,  4.74it/s]\u001b[A\n",
            "generating:  72%|███████▏  | 369/512 [01:18<00:30,  4.75it/s]\u001b[A\n",
            "generating:  72%|███████▏  | 370/512 [01:18<00:29,  4.75it/s]\u001b[A\n",
            "generating:  72%|███████▏  | 371/512 [01:19<00:30,  4.60it/s]\u001b[A\n",
            "generating:  73%|███████▎  | 372/512 [01:19<00:30,  4.61it/s]\u001b[A\n",
            "generating:  73%|███████▎  | 373/512 [01:19<00:30,  4.59it/s]\u001b[A\n",
            "generating:  73%|███████▎  | 374/512 [01:19<00:29,  4.61it/s]\u001b[A\n",
            "generating:  73%|███████▎  | 375/512 [01:19<00:29,  4.64it/s]\u001b[A\n",
            "generating:  73%|███████▎  | 376/512 [01:20<00:29,  4.65it/s]\u001b[A\n",
            "generating:  74%|███████▎  | 377/512 [01:20<00:28,  4.68it/s]\u001b[A\n",
            "generating:  74%|███████▍  | 378/512 [01:20<00:28,  4.69it/s]\u001b[A\n",
            "generating:  74%|███████▍  | 379/512 [01:20<00:28,  4.70it/s]\u001b[A\n",
            "generating:  74%|███████▍  | 380/512 [01:21<00:28,  4.70it/s]\u001b[A\n",
            "generating:  74%|███████▍  | 381/512 [01:21<00:27,  4.70it/s]\u001b[A\n",
            "generating:  75%|███████▍  | 382/512 [01:21<00:27,  4.72it/s]\u001b[A\n",
            "generating:  75%|███████▍  | 383/512 [01:21<00:27,  4.70it/s]\u001b[A\n",
            "generating:  75%|███████▌  | 384/512 [01:21<00:27,  4.71it/s]\u001b[A\n",
            "generating:  75%|███████▌  | 385/512 [01:22<00:27,  4.70it/s]\u001b[A\n",
            "generating:  75%|███████▌  | 386/512 [01:22<00:26,  4.69it/s]\u001b[A\n",
            "generating:  76%|███████▌  | 387/512 [01:22<00:26,  4.68it/s]\u001b[A\n",
            "generating:  76%|███████▌  | 388/512 [01:22<00:26,  4.70it/s]\u001b[A\n",
            "generating:  76%|███████▌  | 389/512 [01:22<00:26,  4.71it/s]\u001b[A\n",
            "generating:  76%|███████▌  | 390/512 [01:23<00:26,  4.69it/s]\u001b[A\n",
            "generating:  76%|███████▋  | 391/512 [01:23<00:25,  4.70it/s]\u001b[A\n",
            "generating:  77%|███████▋  | 392/512 [01:23<00:25,  4.71it/s]\u001b[A\n",
            "generating:  77%|███████▋  | 393/512 [01:23<00:25,  4.73it/s]\u001b[A\n",
            "generating:  77%|███████▋  | 394/512 [01:24<00:25,  4.72it/s]\u001b[A\n",
            "generating:  77%|███████▋  | 395/512 [01:24<00:24,  4.72it/s]\u001b[A\n",
            "generating:  77%|███████▋  | 396/512 [01:24<00:24,  4.71it/s]\u001b[A\n",
            "generating:  78%|███████▊  | 397/512 [01:24<00:24,  4.72it/s]\u001b[A\n",
            "generating:  78%|███████▊  | 398/512 [01:24<00:24,  4.72it/s]\u001b[A\n",
            "generating:  78%|███████▊  | 399/512 [01:25<00:23,  4.71it/s]\u001b[A\n",
            "generating:  78%|███████▊  | 400/512 [01:25<00:23,  4.71it/s]\u001b[A\n",
            "generating:  78%|███████▊  | 401/512 [01:25<00:23,  4.71it/s]\u001b[A\n",
            "generating:  79%|███████▊  | 402/512 [01:25<00:23,  4.73it/s]\u001b[A\n",
            "generating:  79%|███████▊  | 403/512 [01:25<00:23,  4.74it/s]\u001b[A\n",
            "generating:  79%|███████▉  | 404/512 [01:26<00:22,  4.72it/s]\u001b[A\n",
            "generating:  79%|███████▉  | 405/512 [01:26<00:22,  4.73it/s]\u001b[A\n",
            "generating:  79%|███████▉  | 406/512 [01:26<00:22,  4.72it/s]\u001b[A\n",
            "generating:  79%|███████▉  | 407/512 [01:26<00:22,  4.73it/s]\u001b[A\n",
            "generating:  80%|███████▉  | 408/512 [01:26<00:21,  4.75it/s]\u001b[A\n",
            "generating:  80%|███████▉  | 409/512 [01:27<00:21,  4.72it/s]\u001b[A\n",
            "generating:  80%|████████  | 410/512 [01:27<00:21,  4.72it/s]\u001b[A\n",
            "generating:  80%|████████  | 411/512 [01:27<00:21,  4.71it/s]\u001b[A\n",
            "generating:  80%|████████  | 412/512 [01:27<00:21,  4.73it/s]\u001b[A\n",
            "generating:  81%|████████  | 413/512 [01:28<00:20,  4.72it/s]\u001b[A\n",
            "generating:  81%|████████  | 414/512 [01:28<00:20,  4.67it/s]\u001b[A\n",
            "generating:  81%|████████  | 415/512 [01:28<00:20,  4.70it/s]\u001b[A\n",
            "generating:  81%|████████▏ | 416/512 [01:28<00:20,  4.71it/s]\u001b[A\n",
            "generating:  81%|████████▏ | 417/512 [01:28<00:20,  4.73it/s]\u001b[A\n",
            "generating:  82%|████████▏ | 418/512 [01:29<00:19,  4.75it/s]\u001b[A\n",
            "generating:  82%|████████▏ | 419/512 [01:29<00:19,  4.72it/s]\u001b[A\n",
            "generating:  82%|████████▏ | 420/512 [01:29<00:19,  4.68it/s]\u001b[A\n",
            "generating:  82%|████████▏ | 421/512 [01:29<00:19,  4.63it/s]\u001b[A\n",
            "generating:  82%|████████▏ | 422/512 [01:29<00:19,  4.67it/s]\u001b[A\n",
            "generating:  83%|████████▎ | 423/512 [01:30<00:18,  4.71it/s]\u001b[A\n",
            "generating:  83%|████████▎ | 424/512 [01:30<00:18,  4.71it/s]\u001b[A\n",
            "generating:  83%|████████▎ | 425/512 [01:30<00:18,  4.67it/s]\u001b[A\n",
            "generating:  83%|████████▎ | 426/512 [01:30<00:18,  4.57it/s]\u001b[A\n",
            "generating:  83%|████████▎ | 427/512 [01:31<00:18,  4.52it/s]\u001b[A\n",
            "generating:  84%|████████▎ | 428/512 [01:31<00:18,  4.47it/s]\u001b[A\n",
            "generating:  84%|████████▍ | 429/512 [01:31<00:18,  4.42it/s]\u001b[A\n",
            "generating:  84%|████████▍ | 430/512 [01:31<00:18,  4.42it/s]\u001b[A\n",
            "generating:  84%|████████▍ | 431/512 [01:31<00:18,  4.46it/s]\u001b[A\n",
            "generating:  84%|████████▍ | 432/512 [01:32<00:17,  4.55it/s]\u001b[A\n",
            "generating:  85%|████████▍ | 433/512 [01:32<00:17,  4.60it/s]\u001b[A\n",
            "generating:  85%|████████▍ | 434/512 [01:32<00:16,  4.64it/s]\u001b[A\n",
            "generating:  85%|████████▍ | 435/512 [01:32<00:16,  4.68it/s]\u001b[A\n",
            "generating:  85%|████████▌ | 436/512 [01:33<00:16,  4.69it/s]\u001b[A\n",
            "generating:  85%|████████▌ | 437/512 [01:33<00:15,  4.72it/s]\u001b[A\n",
            "generating:  86%|████████▌ | 438/512 [01:33<00:15,  4.67it/s]\u001b[A\n",
            "generating:  86%|████████▌ | 439/512 [01:33<00:15,  4.70it/s]\u001b[A\n",
            "generating:  86%|████████▌ | 440/512 [01:33<00:15,  4.74it/s]\u001b[A\n",
            "generating:  86%|████████▌ | 441/512 [01:34<00:15,  4.72it/s]\u001b[A\n",
            "generating:  86%|████████▋ | 442/512 [01:34<00:14,  4.75it/s]\u001b[A\n",
            "generating:  87%|████████▋ | 443/512 [01:34<00:14,  4.74it/s]\u001b[A\n",
            "generating:  87%|████████▋ | 444/512 [01:34<00:14,  4.76it/s]\u001b[A\n",
            "generating:  87%|████████▋ | 445/512 [01:34<00:14,  4.76it/s]\u001b[A\n",
            "generating:  87%|████████▋ | 446/512 [01:35<00:13,  4.74it/s]\u001b[A\n",
            "generating:  87%|████████▋ | 447/512 [01:35<00:13,  4.74it/s]\u001b[A\n",
            "generating:  88%|████████▊ | 448/512 [01:35<00:13,  4.74it/s]\u001b[A\n",
            "generating:  88%|████████▊ | 449/512 [01:35<00:13,  4.75it/s]\u001b[A\n",
            "generating:  88%|████████▊ | 450/512 [01:35<00:13,  4.75it/s]\u001b[A\n",
            "generating:  88%|████████▊ | 451/512 [01:36<00:12,  4.75it/s]\u001b[A\n",
            "generating:  88%|████████▊ | 452/512 [01:36<00:12,  4.73it/s]\u001b[A\n",
            "generating:  88%|████████▊ | 453/512 [01:36<00:12,  4.74it/s]\u001b[A\n",
            "generating:  89%|████████▊ | 454/512 [01:36<00:12,  4.72it/s]\u001b[A\n",
            "generating:  89%|████████▉ | 455/512 [01:37<00:12,  4.73it/s]\u001b[A\n",
            "generating:  89%|████████▉ | 456/512 [01:37<00:11,  4.72it/s]\u001b[A\n",
            "generating:  89%|████████▉ | 457/512 [01:37<00:11,  4.72it/s]\u001b[A\n",
            "generating:  89%|████████▉ | 458/512 [01:37<00:11,  4.74it/s]\u001b[A\n",
            "generating:  90%|████████▉ | 459/512 [01:37<00:11,  4.71it/s]\u001b[A\n",
            "generating:  90%|████████▉ | 460/512 [01:38<00:11,  4.72it/s]\u001b[A\n",
            "generating:  90%|█████████ | 461/512 [01:38<00:10,  4.70it/s]\u001b[A\n",
            "generating:  90%|█████████ | 462/512 [01:38<00:10,  4.70it/s]\u001b[A\n",
            "generating:  90%|█████████ | 463/512 [01:38<00:10,  4.72it/s]\u001b[A\n",
            "generating:  91%|█████████ | 464/512 [01:38<00:10,  4.70it/s]\u001b[A\n",
            "generating:  91%|█████████ | 465/512 [01:39<00:10,  4.66it/s]\u001b[A\n",
            "generating:  91%|█████████ | 466/512 [01:39<00:09,  4.65it/s]\u001b[A\n",
            "generating:  91%|█████████ | 467/512 [01:39<00:09,  4.67it/s]\u001b[A\n",
            "generating:  91%|█████████▏| 468/512 [01:39<00:09,  4.70it/s]\u001b[A\n",
            "generating:  92%|█████████▏| 469/512 [01:40<00:09,  4.67it/s]\u001b[A\n",
            "generating:  92%|█████████▏| 470/512 [01:40<00:08,  4.67it/s]\u001b[A\n",
            "generating:  92%|█████████▏| 471/512 [01:40<00:08,  4.69it/s]\u001b[A\n",
            "generating:  92%|█████████▏| 472/512 [01:40<00:08,  4.70it/s]\u001b[A\n",
            "generating:  92%|█████████▏| 473/512 [01:40<00:08,  4.70it/s]\u001b[A\n",
            "generating:  93%|█████████▎| 474/512 [01:41<00:08,  4.64it/s]\u001b[A\n",
            "generating:  93%|█████████▎| 475/512 [01:41<00:07,  4.67it/s]\u001b[A\n",
            "generating:  93%|█████████▎| 476/512 [01:41<00:07,  4.64it/s]\u001b[A\n",
            "generating:  93%|█████████▎| 477/512 [01:41<00:07,  4.68it/s]\u001b[A\n",
            "generating:  93%|█████████▎| 478/512 [01:41<00:07,  4.71it/s]\u001b[A\n",
            "generating:  94%|█████████▎| 479/512 [01:42<00:07,  4.71it/s]\u001b[A\n",
            "generating:  94%|█████████▍| 480/512 [01:42<00:06,  4.73it/s]\u001b[A\n",
            "generating:  94%|█████████▍| 481/512 [01:42<00:06,  4.66it/s]\u001b[A\n",
            "generating:  94%|█████████▍| 482/512 [01:42<00:06,  4.56it/s]\u001b[A\n",
            "generating:  94%|█████████▍| 483/512 [01:43<00:06,  4.48it/s]\u001b[A\n",
            "generating:  95%|█████████▍| 484/512 [01:43<00:06,  4.44it/s]\u001b[A\n",
            "generating:  95%|█████████▍| 485/512 [01:43<00:05,  4.52it/s]\u001b[A\n",
            "generating:  95%|█████████▍| 486/512 [01:43<00:05,  4.58it/s]\u001b[A\n",
            "generating:  95%|█████████▌| 487/512 [01:43<00:05,  4.60it/s]\u001b[A\n",
            "generating:  95%|█████████▌| 488/512 [01:44<00:05,  4.59it/s]\u001b[A\n",
            "generating:  96%|█████████▌| 489/512 [01:44<00:04,  4.63it/s]\u001b[A\n",
            "generating:  96%|█████████▌| 490/512 [01:44<00:04,  4.65it/s]\u001b[A\n",
            "generating:  96%|█████████▌| 491/512 [01:44<00:04,  4.65it/s]\u001b[A\n",
            "generating:  96%|█████████▌| 492/512 [01:44<00:04,  4.67it/s]\u001b[A\n",
            "generating:  96%|█████████▋| 493/512 [01:45<00:04,  4.67it/s]\u001b[A\n",
            "generating:  96%|█████████▋| 494/512 [01:45<00:03,  4.67it/s]\u001b[A\n",
            "generating:  97%|█████████▋| 495/512 [01:45<00:03,  4.67it/s]\u001b[A\n",
            "generating:  97%|█████████▋| 496/512 [01:45<00:03,  4.66it/s]\u001b[A\n",
            "generating:  97%|█████████▋| 497/512 [01:46<00:03,  4.68it/s]\u001b[A\n",
            "generating:  97%|█████████▋| 498/512 [01:46<00:02,  4.70it/s]\u001b[A\n",
            "generating:  97%|█████████▋| 499/512 [01:46<00:02,  4.71it/s]\u001b[A\n",
            "generating:  98%|█████████▊| 500/512 [01:46<00:02,  4.65it/s]\u001b[A\n",
            "generating:  98%|█████████▊| 501/512 [01:46<00:02,  4.66it/s]\u001b[A\n",
            "generating:  98%|█████████▊| 502/512 [01:47<00:02,  4.68it/s]\u001b[A\n",
            "generating:  98%|█████████▊| 503/512 [01:47<00:01,  4.71it/s]\u001b[A\n",
            "generating:  98%|█████████▊| 504/512 [01:47<00:01,  4.72it/s]\u001b[A\n",
            "generating:  99%|█████████▊| 505/512 [01:47<00:01,  4.69it/s]\u001b[A\n",
            "generating:  99%|█████████▉| 506/512 [01:47<00:01,  4.72it/s]\u001b[A\n",
            "generating:  99%|█████████▉| 507/512 [01:48<00:01,  4.75it/s]\u001b[A\n",
            "generating:  99%|█████████▉| 508/512 [01:48<00:00,  4.74it/s]\u001b[A\n",
            "generating:  99%|█████████▉| 509/512 [01:48<00:00,  4.76it/s]\u001b[A\n",
            "generating: 100%|█████████▉| 510/512 [01:48<00:00,  4.68it/s]\u001b[A\n",
            "generating: 100%|█████████▉| 511/512 [01:49<00:00,  4.70it/s]\u001b[A\n",
            "generating: 100%|██████████| 512/512 [01:49<00:00,  4.67it/s]\u001b[A\n",
            "training:   0%|          | 401/92900 [1:46:12<1253:20:14, 48.78s/it]"
          ],
          "name": "stderr"
        },
        {
          "output_type": "stream",
          "text": [
            "cii 15 miliard naprotesiahne vyrobok unie do sudzia obstarali sa nahy soven 142 milionov teplom pre kazdy,\r\n",
            "ze polita vysetom,\r\n",
            "poslednych kona desate podstavne iroku 2019 znamy posilne od eurobou tak na to bolo na 16. Celocny moho, moze stranici bank. Na vyka stal na najlednika vsak\r\n",
            "ba dodava podnika sa odboratil na tender.\r\n",
            "Drokoch ocelenie\r\n",
            "vetovane kapalnu a internastovani susnych lekar, rozpocit, ktoroch bolovi a vysoke\r\n",
            "diatkou jeho sa neho podarov.\r\n",
            "Vyrocit k narodne, ze nepodla kupit, aby sa na\r\n",
            "ta\n"
          ],
          "name": "stdout"
        },
        {
          "output_type": "stream",
          "text": [
            "\rtraining:   0%|          | 402/92900 [1:46:27<997:29:28, 38.82s/it] "
          ],
          "name": "stderr"
        },
        {
          "output_type": "stream",
          "text": [
            "training loss: 1.6484136581420898\n"
          ],
          "name": "stdout"
        },
        {
          "output_type": "stream",
          "text": [
            "\rtraining:   0%|          | 403/92900 [1:46:43<818:24:44, 31.85s/it]"
          ],
          "name": "stderr"
        },
        {
          "output_type": "stream",
          "text": [
            "training loss: 1.6924164295196533\n"
          ],
          "name": "stdout"
        }
      ]
    }
  ]
}