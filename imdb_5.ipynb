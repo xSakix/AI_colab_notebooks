{
  "nbformat": 4,
  "nbformat_minor": 0,
  "metadata": {
    "accelerator": "GPU",
    "colab": {
      "name": "imdb_5.ipynb",
      "provenance": [],
      "collapsed_sections": [],
      "authorship_tag": "ABX9TyMH5wtDxZMjQ7nHHtnKaQfp",
      "include_colab_link": true
    },
    "kernelspec": {
      "display_name": "Python 3",
      "name": "python3"
    }
  },
  "cells": [
    {
      "cell_type": "markdown",
      "metadata": {
        "id": "view-in-github",
        "colab_type": "text"
      },
      "source": [
        "<a href=\"https://colab.research.google.com/github/xSakix/AI_colab_notebooks/blob/master/imdb_5.ipynb\" target=\"_parent\"><img src=\"https://colab.research.google.com/assets/colab-badge.svg\" alt=\"Open In Colab\"/></a>"
      ]
    },
    {
      "cell_type": "markdown",
      "metadata": {
        "id": "JvPSqJkBpLXq"
      },
      "source": [
        "# IMDB DNN\n",
        "\n",
        "Simple DNN neted no significant result, so lets try the proper LSTM one."
      ]
    },
    {
      "cell_type": "code",
      "metadata": {
        "id": "aGuAsvRTqf31"
      },
      "source": [
        "import keras\n",
        "import numpy as np\n",
        "import torch\n",
        "import matplotlib.pyplot as plt\n",
        "from sklearn.metrics import classification_report\n",
        "import re\n",
        "import os\n",
        "\n",
        "\n",
        "torch.manual_seed(2019)\n",
        "np.random.seed(42)\n",
        "EPS = torch.finfo(torch.float32).eps\n",
        "\n",
        "max_features = 20000  # Only consider the top 20k words\n",
        "maxlen = 200  # Only consider the first 200 words of each movie review\n",
        "\n",
        "os.environ['CUDA_LAUNCH_BLOCKING'] = \"1\" \n"
      ],
      "execution_count": null,
      "outputs": []
    },
    {
      "cell_type": "code",
      "metadata": {
        "colab": {
          "base_uri": "https://localhost:8080/"
        },
        "id": "kQCmUfzhq348",
        "outputId": "2b20dabd-e41b-4027-93bc-14e72476a07c"
      },
      "source": [
        "def convert_to_array(x):\n",
        "    x_temp = []\n",
        "\n",
        "    for x in x_train:\n",
        "        if len(x) < maxlen:\n",
        "            for i in range(maxlen - len(x)):\n",
        "                x.append(0.0)\n",
        "        elif len(x) > maxlen:\n",
        "            x = x[0:maxlen]\n",
        "\n",
        "        x_temp.append(x)\n",
        "\n",
        "    return np.array(x_temp)\n",
        "\n",
        "\n",
        "(x_train, y_train), (x_val, y_val) = keras.datasets.imdb.load_data(num_words=max_features)\n",
        "x_train = convert_to_array(x_train)\n",
        "x_val = convert_to_array(x_val)\n",
        "y_train = y_train.reshape(y_train.shape[0], -1)\n",
        "y_val = y_val.reshape(y_val.shape[0], -1)\n",
        "\n",
        "# x_train = x_train.reshape(x_train.shape[0], -1).T\n",
        "# x_val = x_val.reshape(x_val.shape[0], -1).T\n",
        "\n",
        "print(\"*\" * 80)\n",
        "print(\"x_train:{}\".format(x_train.shape))\n",
        "print(\"x_val:{}\".format(x_val.shape))\n",
        "print(\"y_train:{}\".format(y_train.shape))\n",
        "print(\"y_val:{}\".format(y_val.shape))\n",
        "print(\"*\" * 80)\n",
        "\n",
        "assert (x_train.shape == (25000,maxlen))\n",
        "assert (y_train.shape == (25000,1))\n",
        "assert (x_val.shape == (25000,maxlen))\n",
        "assert (y_val.shape == (25000,1))\n",
        "\n",
        "print(\"*\" * 80)\n",
        "\n",
        "print(\"max x_train before:{}\".format(np.max(x_train)))\n",
        "print(\"max x_val before:{}\".format(np.max(x_val)))\n",
        "print(\"min before:{}, {}\".format(np.min(x_train), np.min(x_val)))\n",
        "\n",
        "# norm didn't work well\n",
        "# norm = np.linalg.norm(x_train, ord=2)\n",
        "# print(\"norm={}\".format(norm))\n",
        "\n",
        "# normalizing around max_features works well\n",
        "# x_train = x_train / max_features\n",
        "# x_val = x_val / max_features\n",
        "\n",
        "# centering around mean\n",
        "# x_mean = np.mean(x_train)\n",
        "# x_std = np.std(x_train)\n",
        "# print(\"(mean,std)=({},{})\".format(x_mean, x_std))\n",
        "# x_train = (x_train - x_mean) / x_std\n",
        "# x_val = (x_val - x_mean) / x_std\n",
        "\n",
        "print(\"max x_train after norm:{}\".format(np.max(x_train)))\n",
        "print(\"max x_val after norm:{}\".format(np.max(x_val)))\n",
        "print(\"min after norm:{}, {}\".format(np.min(x_train), np.min(x_val)))\n",
        "\n",
        "# assert ((x_train >= 0.).all() and (x_train < 1.).all())\n",
        "\n",
        "print(\"*\" * 80)\n",
        "\n",
        "print(\"y_train unique vals:{}\".format(np.unique(y_train)))\n",
        "print(\"y_val unique vals:{}\".format(np.unique(y_train)))\n",
        "\n",
        "print(\"*\" * 80)"
      ],
      "execution_count": null,
      "outputs": [
        {
          "output_type": "stream",
          "text": [
            "<string>:6: VisibleDeprecationWarning: Creating an ndarray from ragged nested sequences (which is a list-or-tuple of lists-or-tuples-or ndarrays with different lengths or shapes) is deprecated. If you meant to do this, you must specify 'dtype=object' when creating the ndarray\n",
            "/usr/local/lib/python3.6/dist-packages/tensorflow/python/keras/datasets/imdb.py:159: VisibleDeprecationWarning: Creating an ndarray from ragged nested sequences (which is a list-or-tuple of lists-or-tuples-or ndarrays with different lengths or shapes) is deprecated. If you meant to do this, you must specify 'dtype=object' when creating the ndarray\n",
            "  x_train, y_train = np.array(xs[:idx]), np.array(labels[:idx])\n",
            "/usr/local/lib/python3.6/dist-packages/tensorflow/python/keras/datasets/imdb.py:160: VisibleDeprecationWarning: Creating an ndarray from ragged nested sequences (which is a list-or-tuple of lists-or-tuples-or ndarrays with different lengths or shapes) is deprecated. If you meant to do this, you must specify 'dtype=object' when creating the ndarray\n",
            "  x_test, y_test = np.array(xs[idx:]), np.array(labels[idx:])\n"
          ],
          "name": "stderr"
        },
        {
          "output_type": "stream",
          "text": [
            "********************************************************************************\n",
            "x_train:(25000, 200)\n",
            "x_val:(25000, 200)\n",
            "y_train:(25000, 1)\n",
            "y_val:(25000, 1)\n",
            "********************************************************************************\n",
            "********************************************************************************\n",
            "max x_train before:19999.0\n",
            "max x_val before:19999.0\n",
            "min before:0.0, 0.0\n",
            "max x_train after norm:19999.0\n",
            "max x_val after norm:19999.0\n",
            "min after norm:0.0, 0.0\n",
            "********************************************************************************\n",
            "y_train unique vals:[0 1]\n",
            "y_val unique vals:[0 1]\n",
            "********************************************************************************\n"
          ],
          "name": "stdout"
        }
      ]
    },
    {
      "cell_type": "code",
      "metadata": {
        "id": "JlrJt1Jdi2LA"
      },
      "source": [
        "class MyNet(torch.nn.Module):\n",
        "\n",
        "  def __init__(self, num_tokens, vocab_size, emb_size, hidden_size,batch_size=256):\n",
        "    super(MyNet,self).__init__()\n",
        "    self.hidden_size= hidden_size\n",
        "    self.batch_size = batch_size\n",
        "    self.emb = torch.nn.Embedding(vocab_size,emb_size)\n",
        "    # print(\"num_tokens*emb_size={}\".format(num_tokens*emb_size))\n",
        "    self.lstm = torch.nn.LSTM(emb_size,hidden_size,batch_first=True,bidirectional=True)\n",
        "    self.out = torch.nn.Linear(hidden_size,1)\n",
        "    self.drop = torch.nn.Dropout(0.1)\n",
        "\n",
        "  def forward(self,x):\n",
        "    hidden = (torch.zeros(2, x.shape[0], self.hidden_size).cuda(),\n",
        "                torch.zeros(2, x.shape[0], self.hidden_size).cuda())\n",
        "    # print(\"x:{}\".format(x.size()))\n",
        "    e = self.emb(x)\n",
        "    # print(\"e:{}\".format(e.size()))\n",
        "    # print(\"f:{}\".format(f.size()))\n",
        "    out, hidden = self.lstm(e)\n",
        "    # print(out.shape)\n",
        "    # print(hidden[0].shape)\n",
        "    # z1 =  torch.cat([hidden[0][-2,:,:], hidden[0][-1,:,:]])\n",
        "    z1 = hidden[0][-2,:,:]\n",
        "    # print(self.out.weight.shape)\n",
        "    # print(\"z1:{}\".format(z1.size()))\n",
        "    a1 = torch.nn.functional.relu(z1)\n",
        "    # print(\"a1:{}\".format(a1.size()))\n",
        "    z2 = self.out(a1)\n",
        "    # print(\"z2:{}\".format(z2.size()))\n",
        "    a2 = torch.sigmoid(z2)\n",
        "    # print(\"a2:{}\".format(a2.size()))\n",
        "    return a2\n"
      ],
      "execution_count": null,
      "outputs": []
    },
    {
      "cell_type": "code",
      "metadata": {
        "id": "rh39xvAOXUMx"
      },
      "source": [
        "def acc(y_hat,y):\n",
        "  p = torch.round(y_hat).cuda()\n",
        "  return torch.sum((p == y)/y.shape[0]).cuda()"
      ],
      "execution_count": null,
      "outputs": []
    },
    {
      "cell_type": "code",
      "metadata": {
        "colab": {
          "background_save": true,
          "base_uri": "https://localhost:8080/"
        },
        "id": "ua57cU7FsOaU",
        "outputId": "00f1b349-5f79-4ec2-e73b-de1e4965f737"
      },
      "source": [
        "#in torch the num samples is first\n",
        "x_train = torch.tensor(x_train,dtype=torch.long).cuda()\n",
        "x_val = torch.tensor(x_val,dtype=torch.long).cuda()\n",
        "y_train = torch.tensor(y_train,dtype=torch.float32).cuda()\n",
        "y_val = torch.tensor(y_val,dtype=torch.float32).cuda()\n",
        "\n",
        "mynet = MyNet(num_tokens=x_train.shape[1],vocab_size=max_features, emb_size=300, hidden_size=32).cuda()\n",
        "\n",
        "optimizer = torch.optim.Adam(mynet.parameters(), lr = 0.01)\n",
        "loss_func = torch.nn.BCEWithLogitsLoss().cuda()\n",
        "\n",
        "batch_size = 16\n",
        "\n",
        "batches = np.array(list(range(0,x_train.shape[0],batch_size)))\n",
        "n_b = len(batches)\n",
        "costs = []\n",
        "m_accs = []\n",
        "m_val_accs=[]\n",
        "for i in range(0, 100):\n",
        "  np.random.shuffle(batches)\n",
        "  epoch_loss = 0.\n",
        "  e_loss = 0.\n",
        "  accs = 0.\n",
        "  for idx in batches: \n",
        "    x_batch = x_train[idx:idx+batch_size,:]\n",
        "    y_batch = y_train[idx:idx+batch_size,:]\n",
        "    out = mynet(x_batch)\n",
        "    accs += acc(out,y_batch)\n",
        "    loss = loss_func(out, y_batch)\n",
        "    e_loss+=loss\n",
        "    epoch_loss+=loss.item()\n",
        "  \n",
        "  mynet.zero_grad()\n",
        "  e_loss.backward()\n",
        "  optimizer.step()\n",
        "\n",
        "  if i % 10 == 0:\n",
        "    val_accs = 0.\n",
        "    with torch.no_grad():\n",
        "      for idx in batches: \n",
        "        x_batch = x_val[idx:idx+batch_size,:]\n",
        "        y_batch = y_val[idx:idx+batch_size,:]\n",
        "        out = mynet(x_batch)\n",
        "        val_accs += acc(out,y_batch)\n",
        "    costs.append(epoch_loss/n_b)\n",
        "    m_accs.append(accs/n_b)\n",
        "    m_val_accs.append(val_accs/n_b)\n",
        "    print(\"{}, {}, {}\".format(epoch_loss/n_b, accs/n_b,val_accs/n_b))\n",
        "\n"
      ],
      "execution_count": null,
      "outputs": [
        {
          "output_type": "stream",
          "text": [
            "0.722249915717278, 0.4988803565502167, 0.49936020374298096\n",
            "0.6865228753172276, 0.5003598928451538, 0.5000399947166443\n",
            "0.6691962859604653, 0.5510236620903015, 0.49776071310043335\n",
            "0.6453317878952564, 0.6524312496185303, 0.49972009658813477\n",
            "0.6238542690310658, 0.6975767612457275, 0.5\n",
            "0.6114899714406453, 0.7060540914535522, 0.5001999139785767\n",
            "0.5917995866871918, 0.7084932923316956, 0.5005598068237305\n",
            "0.5546361616766765, 0.9376199841499329, 0.49664106965065\n",
            "0.5362062855401408, 0.9511756300926208, 0.49772071838378906\n",
            "0.5287523491788353, 0.9599727988243103, 0.49744081497192383\n"
          ],
          "name": "stdout"
        }
      ]
    },
    {
      "cell_type": "code",
      "metadata": {
        "colab": {
          "background_save": true
        },
        "id": "RF70FgNj0lRR",
        "outputId": "c3f7fa3d-d644-4d55-b447-ba2934b4b8a2"
      },
      "source": [
        "plt.plot(costs)\n",
        "plt.ylabel('cost')\n",
        "plt.xlabel('iterations (per tousand)')\n",
        "plt.title(\"Learning rate =\" + str(0.01))\n",
        "plt.show()\n",
        "\n",
        "plt.plot(m_accs)\n",
        "plt.plot(m_val_accs)\n",
        "plt.ylabel('accuracies')\n",
        "plt.xlabel('iterations (per tousand)')\n",
        "plt.title(\"Learning rate =\" + str(0.01))\n",
        "plt.show()"
      ],
      "execution_count": null,
      "outputs": [
        {
          "output_type": "display_data",
          "data": {
            "image/png": "[encoded data removed]",
            "text/plain": [
              "<Figure size 432x288 with 1 Axes>"
            ]
          },
          "metadata": {
            "tags": []
          }
        },
        {
          "output_type": "display_data",
          "data": {
            "image/png": "[encoded data removed]",
            "text/plain": [
              "<Figure size 432x288 with 1 Axes>"
            ]
          },
          "metadata": {
            "tags": []
          }
        }
      ]
    },
    {
      "cell_type": "markdown",
      "metadata": {
        "id": "vM2kUNFAg25W"
      },
      "source": [
        "# summary\n",
        "\n",
        "So even after using LSTMs i have bad results, that means i have to try the keras, checks weights etc and find the error.\n"
      ]
    }
  ]
}