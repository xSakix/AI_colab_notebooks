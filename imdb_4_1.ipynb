{
  "nbformat": 4,
  "nbformat_minor": 0,
  "metadata": {
    "colab": {
      "name": "imdb_4_1.ipynb",
      "provenance": [],
      "collapsed_sections": [],
      "authorship_tag": "ABX9TyPwIE34+GPdOluF+TxHbW/y",
      "include_colab_link": true
    },
    "kernelspec": {
      "name": "python3",
      "display_name": "Python 3"
    },
    "accelerator": "GPU"
  },
  "cells": [
    {
      "cell_type": "markdown",
      "metadata": {
        "id": "view-in-github",
        "colab_type": "text"
      },
      "source": [
        "<a href=\"https://colab.research.google.com/github/xSakix/AI_colab_notebooks/blob/master/imdb_4_1.ipynb\" target=\"_parent\"><img src=\"https://colab.research.google.com/assets/colab-badge.svg\" alt=\"Open In Colab\"/></a>"
      ]
    },
    {
      "cell_type": "markdown",
      "metadata": {
        "id": "JvPSqJkBpLXq"
      },
      "source": [
        "# IMDB DNN\n",
        "\n",
        "Lets do the IMDB dataset with a simple DNN. The first one is in numpy and second will be done in pytorch, but only using tensor for the GPU. Not using backwards or any NN functionality, as the goal is to implement it and learn how it works behind the scenes.\n",
        "\n",
        "Last time i used a little dropout to the output layer. But it didn't really help. Let's try something else from NLP = embedding layer.\n",
        "\n",
        "That means i will keep the inpu as it is (long) and add a new hidden layer after input, which will compute softmax over it.\n",
        "\n",
        "As i have troubles implementing embeeding layer back propagation, i will try pytorch modules to see if it can even work."
      ]
    },
    {
      "cell_type": "code",
      "metadata": {
        "id": "aGuAsvRTqf31"
      },
      "source": [
        "import keras\n",
        "import numpy as np\n",
        "import torch\n",
        "import matplotlib.pyplot as plt\n",
        "from sklearn.metrics import classification_report\n",
        "import re\n",
        "import os\n",
        "\n",
        "\n",
        "torch.manual_seed(2019)\n",
        "np.random.seed(42)\n",
        "EPS = torch.finfo(torch.float32).eps\n",
        "\n",
        "max_features = 20000  # Only consider the top 20k words\n",
        "maxlen = 200  # Only consider the first 200 words of each movie review\n",
        "\n",
        "os.environ['CUDA_LAUNCH_BLOCKING'] = \"1\" \n"
      ],
      "execution_count": 1,
      "outputs": []
    },
    {
      "cell_type": "code",
      "metadata": {
        "colab": {
          "base_uri": "https://localhost:8080/"
        },
        "id": "kQCmUfzhq348",
        "outputId": "8c6c6a18-7f23-417e-a36a-b59274d1649f"
      },
      "source": [
        "def convert_to_array(x):\n",
        "    x_temp = []\n",
        "\n",
        "    for x in x_train:\n",
        "        if len(x) < maxlen:\n",
        "            for i in range(maxlen - len(x)):\n",
        "                x.append(0.0)\n",
        "        elif len(x) > maxlen:\n",
        "            x = x[0:maxlen]\n",
        "\n",
        "        x_temp.append(x)\n",
        "\n",
        "    return np.array(x_temp)\n",
        "\n",
        "\n",
        "(x_train, y_train), (x_val, y_val) = keras.datasets.imdb.load_data(num_words=max_features)\n",
        "x_train = convert_to_array(x_train)\n",
        "x_val = convert_to_array(x_val)\n",
        "y_train = y_train.reshape(y_train.shape[0], -1)\n",
        "y_val = y_val.reshape(y_val.shape[0], -1)\n",
        "\n",
        "# x_train = x_train.reshape(x_train.shape[0], -1).T\n",
        "# x_val = x_val.reshape(x_val.shape[0], -1).T\n",
        "\n",
        "print(\"*\" * 80)\n",
        "print(\"x_train:{}\".format(x_train.shape))\n",
        "print(\"x_val:{}\".format(x_val.shape))\n",
        "print(\"y_train:{}\".format(y_train.shape))\n",
        "print(\"y_val:{}\".format(y_val.shape))\n",
        "print(\"*\" * 80)\n",
        "\n",
        "assert (x_train.shape == (25000,maxlen))\n",
        "assert (y_train.shape == (25000,1))\n",
        "assert (x_val.shape == (25000,maxlen))\n",
        "assert (y_val.shape == (25000,1))\n",
        "\n",
        "print(\"*\" * 80)\n",
        "\n",
        "print(\"max x_train before:{}\".format(np.max(x_train)))\n",
        "print(\"max x_val before:{}\".format(np.max(x_val)))\n",
        "print(\"min before:{}, {}\".format(np.min(x_train), np.min(x_val)))\n",
        "\n",
        "# norm didn't work well\n",
        "# norm = np.linalg.norm(x_train, ord=2)\n",
        "# print(\"norm={}\".format(norm))\n",
        "\n",
        "# normalizing around max_features works well\n",
        "# x_train = x_train / max_features\n",
        "# x_val = x_val / max_features\n",
        "\n",
        "# centering around mean\n",
        "# x_mean = np.mean(x_train)\n",
        "# x_std = np.std(x_train)\n",
        "# print(\"(mean,std)=({},{})\".format(x_mean, x_std))\n",
        "# x_train = (x_train - x_mean) / x_std\n",
        "# x_val = (x_val - x_mean) / x_std\n",
        "\n",
        "print(\"max x_train after norm:{}\".format(np.max(x_train)))\n",
        "print(\"max x_val after norm:{}\".format(np.max(x_val)))\n",
        "print(\"min after norm:{}, {}\".format(np.min(x_train), np.min(x_val)))\n",
        "\n",
        "# assert ((x_train >= 0.).all() and (x_train < 1.).all())\n",
        "\n",
        "print(\"*\" * 80)\n",
        "\n",
        "print(\"y_train unique vals:{}\".format(np.unique(y_train)))\n",
        "print(\"y_val unique vals:{}\".format(np.unique(y_train)))\n",
        "\n",
        "print(\"*\" * 80)"
      ],
      "execution_count": 2,
      "outputs": [
        {
          "output_type": "stream",
          "text": [
            "Downloading data from https://storage.googleapis.com/tensorflow/tf-keras-datasets/imdb.npz\n",
            "17465344/17464789 [==============================] - 0s 0us/step\n"
          ],
          "name": "stdout"
        },
        {
          "output_type": "stream",
          "text": [
            "<string>:6: VisibleDeprecationWarning: Creating an ndarray from ragged nested sequences (which is a list-or-tuple of lists-or-tuples-or ndarrays with different lengths or shapes) is deprecated. If you meant to do this, you must specify 'dtype=object' when creating the ndarray\n",
            "/usr/local/lib/python3.6/dist-packages/tensorflow/python/keras/datasets/imdb.py:159: VisibleDeprecationWarning: Creating an ndarray from ragged nested sequences (which is a list-or-tuple of lists-or-tuples-or ndarrays with different lengths or shapes) is deprecated. If you meant to do this, you must specify 'dtype=object' when creating the ndarray\n",
            "  x_train, y_train = np.array(xs[:idx]), np.array(labels[:idx])\n",
            "/usr/local/lib/python3.6/dist-packages/tensorflow/python/keras/datasets/imdb.py:160: VisibleDeprecationWarning: Creating an ndarray from ragged nested sequences (which is a list-or-tuple of lists-or-tuples-or ndarrays with different lengths or shapes) is deprecated. If you meant to do this, you must specify 'dtype=object' when creating the ndarray\n",
            "  x_test, y_test = np.array(xs[idx:]), np.array(labels[idx:])\n"
          ],
          "name": "stderr"
        },
        {
          "output_type": "stream",
          "text": [
            "********************************************************************************\n",
            "x_train:(25000, 200)\n",
            "x_val:(25000, 200)\n",
            "y_train:(25000, 1)\n",
            "y_val:(25000, 1)\n",
            "********************************************************************************\n",
            "********************************************************************************\n",
            "max x_train before:19999.0\n",
            "max x_val before:19999.0\n",
            "min before:0.0, 0.0\n",
            "max x_train after norm:19999.0\n",
            "max x_val after norm:19999.0\n",
            "min after norm:0.0, 0.0\n",
            "********************************************************************************\n",
            "y_train unique vals:[0 1]\n",
            "y_val unique vals:[0 1]\n",
            "********************************************************************************\n"
          ],
          "name": "stdout"
        }
      ]
    },
    {
      "cell_type": "code",
      "metadata": {
        "id": "JlrJt1Jdi2LA"
      },
      "source": [
        "class MyNet(torch.nn.Module):\n",
        "\n",
        "  def __init__(self, num_tokens, vocab_size, emb_size, hidden_size):\n",
        "    super(MyNet,self).__init__()\n",
        "    self.emb = torch.nn.Embedding(vocab_size,emb_size)\n",
        "    # print(\"num_tokens*emb_size={}\".format(num_tokens*emb_size))\n",
        "    self.dnn1 = torch.nn.Linear(num_tokens*emb_size,hidden_size)\n",
        "    self.out = torch.nn.Linear(hidden_size,1)\n",
        "    self.drop = torch.nn.Dropout(0.1)\n",
        "\n",
        "  def forward(self,x):\n",
        "    # print(\"x:{}\".format(x.size()))\n",
        "    e = self.emb(x)\n",
        "    # print(\"e:{}\".format(e.size()))\n",
        "    f = e.reshape(e.shape[0],e.shape[1]*e.shape[2])\n",
        "    f = self.drop(f)\n",
        "    # print(\"f:{}\".format(f.size()))\n",
        "    #print(self.dnn1.weight.size())\n",
        "    z1 = self.dnn1(f)\n",
        "    # print(\"z1:{}\".format(z1.size()))\n",
        "    a1 = torch.nn.functional.relu(z1)\n",
        "    # print(\"a1:{}\".format(a1.size()))\n",
        "    z2 = self.out(a1)\n",
        "    # print(\"z2:{}\".format(z2.size()))\n",
        "    a2 = torch.sigmoid(z2)\n",
        "    # print(\"a2:{}\".format(a2.size()))\n",
        "    return a2\n"
      ],
      "execution_count": 9,
      "outputs": []
    },
    {
      "cell_type": "code",
      "metadata": {
        "id": "rh39xvAOXUMx"
      },
      "source": [
        "def acc(y_hat,y):\n",
        "  p = torch.round(y_hat).cuda()\n",
        "  return torch.sum((p == y)/y.shape[0]).cuda()"
      ],
      "execution_count": 4,
      "outputs": []
    },
    {
      "cell_type": "code",
      "metadata": {
        "colab": {
          "base_uri": "https://localhost:8080/"
        },
        "id": "ua57cU7FsOaU",
        "outputId": "3e20c981-657d-464e-955f-209b1c5f2e19"
      },
      "source": [
        "#in torch the num samples is first\n",
        "x_train = torch.tensor(x_train,dtype=torch.long).cuda()\n",
        "x_val = torch.tensor(x_val,dtype=torch.long).cuda()\n",
        "y_train = torch.tensor(y_train,dtype=torch.float32).cuda()\n",
        "y_val = torch.tensor(y_val,dtype=torch.float32).cuda()\n",
        "\n",
        "mynet = MyNet(num_tokens=x_train.shape[1],vocab_size=max_features, emb_size=300, hidden_size=128).cuda()\n",
        "\n",
        "optimizer = torch.optim.SGD(mynet.parameters(), lr = 0.01)\n",
        "loss_func = torch.nn.BCEWithLogitsLoss().cuda()\n",
        "\n",
        "batch_size = 256\n",
        "\n",
        "batches = np.array(list(range(0,x_train.shape[0],batch_size)))\n",
        "n_b = len(batches)\n",
        "costs = []\n",
        "m_accs = []\n",
        "m_val_accs=[]\n",
        "for i in range(0, 4000):\n",
        "  np.random.shuffle(batches)\n",
        "  epoch_loss = 0.\n",
        "  e_loss = 0.\n",
        "  accs = 0.\n",
        "  for idx in batches: \n",
        "    x_batch = x_train[idx:idx+batch_size,:]\n",
        "    y_batch = y_train[idx:idx+batch_size,:]\n",
        "    out = mynet(x_batch)\n",
        "    accs += acc(out,y_batch)\n",
        "    loss = loss_func(out, y_batch)\n",
        "    e_loss+=loss\n",
        "    epoch_loss+=loss.item()\n",
        "  \n",
        "  mynet.zero_grad()\n",
        "  e_loss.backward()\n",
        "  optimizer.step()\n",
        "\n",
        "  if i % 100 == 0:\n",
        "    val_accs = 0.\n",
        "    with torch.no_grad():\n",
        "      for idx in batches: \n",
        "        x_batch = x_val[idx:idx+batch_size,:]\n",
        "        y_batch = y_val[idx:idx+batch_size,:]\n",
        "        out = mynet(x_batch)\n",
        "        val_accs += acc(out,y_batch)\n",
        "    costs.append(epoch_loss/n_b)\n",
        "    m_accs.append(accs/n_b)\n",
        "    m_val_accs.append(val_accs/n_b)\n",
        "    print(\"{}, {}, {}\".format(epoch_loss/n_b, accs/n_b,val_accs/n_b))\n",
        "\n"
      ],
      "execution_count": 10,
      "outputs": [
        {
          "output_type": "stream",
          "text": [
            "/usr/local/lib/python3.6/dist-packages/ipykernel_launcher.py:2: UserWarning: To copy construct from a tensor, it is recommended to use sourceTensor.clone().detach() or sourceTensor.clone().detach().requires_grad_(True), rather than torch.tensor(sourceTensor).\n",
            "  \n",
            "/usr/local/lib/python3.6/dist-packages/ipykernel_launcher.py:3: UserWarning: To copy construct from a tensor, it is recommended to use sourceTensor.clone().detach() or sourceTensor.clone().detach().requires_grad_(True), rather than torch.tensor(sourceTensor).\n",
            "  This is separate from the ipykernel package so we can avoid doing imports until\n",
            "/usr/local/lib/python3.6/dist-packages/ipykernel_launcher.py:4: UserWarning: To copy construct from a tensor, it is recommended to use sourceTensor.clone().detach() or sourceTensor.clone().detach().requires_grad_(True), rather than torch.tensor(sourceTensor).\n",
            "  after removing the cwd from sys.path.\n",
            "/usr/local/lib/python3.6/dist-packages/ipykernel_launcher.py:5: UserWarning: To copy construct from a tensor, it is recommended to use sourceTensor.clone().detach() or sourceTensor.clone().detach().requires_grad_(True), rather than torch.tensor(sourceTensor).\n",
            "  \"\"\"\n"
          ],
          "name": "stderr"
        },
        {
          "output_type": "stream",
          "text": [
            "0.7255510864209156, 0.49829360842704773, 0.49995821714401245\n",
            "0.6233412897100254, 0.7246226668357849, 0.5001556277275085\n",
            "0.6006534002265151, 0.7451921701431274, 0.5016722083091736\n",
            "0.6045491257492377, 0.734149158000946, 0.5016513466835022\n",
            "0.5971736999190583, 0.7534241080284119, 0.5023497939109802\n",
            "0.5904396158091876, 0.7712451815605164, 0.5020138621330261\n",
            "0.5983025510700382, 0.7500360012054443, 0.502051830291748\n",
            "0.6002295096309818, 0.7444556951522827, 0.5011938810348511\n",
            "0.5797206765534927, 0.7991089820861816, 0.502252995967865\n",
            "0.5928389527359788, 0.764467179775238, 0.5015754103660583\n",
            "0.5997062112603869, 0.7462095022201538, 0.50139319896698\n",
            "0.587320116101479, 0.7783212065696716, 0.5016760230064392\n",
            "0.5845319920656632, 0.7866519093513489, 0.5009186863899231\n",
            "0.6023900861642799, 0.7391923069953918, 0.5013134479522705\n",
            "0.5760238426072257, 0.8096926808357239, 0.5012375712394714\n",
            "0.5577029853451009, 0.861402153968811, 0.4995254874229431\n",
            "0.5931980378773748, 0.7633112668991089, 0.5018145442008972\n",
            "0.5916100643119033, 0.7673579454421997, 0.5019930005073547\n",
            "0.5640554981572288, 0.8390408754348755, 0.4989313781261444\n",
            "0.5600954421928951, 0.8519554138183594, 0.503395676612854\n",
            "0.5690122587340218, 0.8278536200523376, 0.5005010962486267\n",
            "0.5880294843595855, 0.8139045834541321, 0.5014330148696899\n",
            "0.5590973569422352, 0.8669863343238831, 0.5020138621330261\n",
            "0.5999169963963178, 0.7465283870697021, 0.5013742446899414\n",
            "0.5913801996075377, 0.7665209174156189, 0.5011388063430786\n",
            "0.5597124641038933, 0.8548063039779663, 0.5019379258155823\n",
            "0.5913022038887958, 0.7678362727165222, 0.5017746686935425\n",
            "0.5503821756158557, 0.8785057663917542, 0.49938690662384033\n",
            "0.5927917568051085, 0.7639490365982056, 0.5022131204605103\n",
            "0.5720456218232914, 0.8194621801376343, 0.5009186863899231\n",
            "0.5382504505770547, 0.9097671508789062, 0.49952927231788635\n",
            "0.546393135980684, 0.8919840455055237, 0.4981379508972168\n",
            "0.5609072270442028, 0.8482256531715393, 0.49978169798851013\n",
            "0.5277738388703794, 0.9452459812164307, 0.4978380799293518\n",
            "0.5618764666878447, 0.8471494317054749, 0.5012603402137756\n",
            "0.5658138047675697, 0.8379001021385193, 0.5004839897155762\n",
            "0.5312394159180778, 0.928106427192688, 0.4957577884197235\n",
            "0.513051869917889, 0.9784320592880249, 0.4960804581642151\n",
            "0.510778395497069, 0.9877421855926514, 0.49763691425323486\n",
            "0.5106456690296834, 0.9880610704421997, 0.4974983334541321\n"
          ],
          "name": "stdout"
        }
      ]
    },
    {
      "cell_type": "code",
      "metadata": {
        "colab": {
          "base_uri": "https://localhost:8080/",
          "height": 573
        },
        "id": "RF70FgNj0lRR",
        "outputId": "e680118e-f29c-4f9b-beab-43f90aa6ce5e"
      },
      "source": [
        "plt.plot(costs)\n",
        "plt.ylabel('cost')\n",
        "plt.xlabel('iterations (per tousand)')\n",
        "plt.title(\"Learning rate =\" + str(0.01))\n",
        "plt.show()\n",
        "\n",
        "plt.plot(m_accs)\n",
        "plt.plot(m_val_accs)\n",
        "plt.ylabel('accuracies')\n",
        "plt.xlabel('iterations (per tousand)')\n",
        "plt.title(\"Learning rate =\" + str(0.01))\n",
        "plt.show()"
      ],
      "execution_count": 11,
      "outputs": [
        {
          "output_type": "display_data",
          "data": {
            "image/png": "[encoded data removed]",
            "text/plain": [
              "<Figure size 432x288 with 1 Axes>"
            ]
          },
          "metadata": {
            "tags": [],
            "needs_background": "light"
          }
        },
        {
          "output_type": "display_data",
          "data": {
            "image/png": "[encoded data removed]",
            "text/plain": [
              "<Figure size 432x288 with 1 Axes>"
            ]
          },
          "metadata": {
            "tags": [],
            "needs_background": "light"
          }
        }
      ]
    },
    {
      "cell_type": "markdown",
      "metadata": {
        "id": "vM2kUNFAg25W"
      },
      "source": [
        "# summary\n",
        "\n",
        "After adding embeddings it didn't help at all actualy.\n",
        "Best we try lstm here next...if it doesn't help we have problem somewhere else."
      ]
    }
  ]
}