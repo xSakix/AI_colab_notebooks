{
  "nbformat": 4,
  "nbformat_minor": 0,
  "metadata": {
    "colab": {
      "name": "imdb_2.ipynb",
      "provenance": [],
      "authorship_tag": "ABX9TyNYlYZe7qkyZbIT76MKmhB8",
      "include_colab_link": true
    },
    "kernelspec": {
      "name": "python3",
      "display_name": "Python 3"
    },
    "accelerator": "GPU"
  },
  "cells": [
    {
      "cell_type": "markdown",
      "metadata": {
        "id": "view-in-github",
        "colab_type": "text"
      },
      "source": [
        "<a href=\"https://colab.research.google.com/github/xSakix/AI_colab_notebooks/blob/master/imdb_2.ipynb\" target=\"_parent\"><img src=\"https://colab.research.google.com/assets/colab-badge.svg\" alt=\"Open In Colab\"/></a>"
      ]
    },
    {
      "cell_type": "markdown",
      "metadata": {
        "id": "JvPSqJkBpLXq"
      },
      "source": [
        "# IMDB DNN\n",
        "\n",
        "Lets do the IMDB dataset with a simple DNN. The first one is in numpy and second will be done in pytorch, but only using tensor for the GPU. Not using backwards or any NN functionality, as the goal is to implement it and learn how it works behind the scenes."
      ]
    },
    {
      "cell_type": "code",
      "metadata": {
        "id": "aGuAsvRTqf31"
      },
      "source": [
        "import keras\n",
        "import numpy as np\n",
        "import torch\n",
        "import matplotlib.pyplot as plt\n",
        "\n",
        "\n",
        "torch.manual_seed(2019)\n",
        "np.random.seed(42)\n",
        "EPS = torch.finfo(torch.float32).eps"
      ],
      "execution_count": 40,
      "outputs": []
    },
    {
      "cell_type": "code",
      "metadata": {
        "id": "-qoG1prgrx0f"
      },
      "source": [
        "def convert_to_array(x):\n",
        "    x_temp = []\n",
        "\n",
        "    for x in x_train:\n",
        "        if len(x) < maxlen:\n",
        "            for i in range(maxlen - len(x)):\n",
        "                x.append(0.0)\n",
        "        elif len(x) > maxlen:\n",
        "            x = x[0:maxlen]\n",
        "\n",
        "        x_temp.append(x)\n",
        "\n",
        "    return np.array(x_temp)\n",
        "\n",
        "\n",
        "def relu(z):\n",
        "    other = torch.zeros(z.size()).cuda()\n",
        "    return torch.maximum(other,z).cuda()\n",
        "\n",
        "\n",
        "def back_relu(Z, dA):\n",
        "    dZ = dA.detach().clone().cuda()  # just converting dz to a correct object.\n",
        "\n",
        "    # When z <= 0, you should set dz to 0 as well.\n",
        "    # normaly it would be:\n",
        "    # Z[Z <= 0] = 0.\n",
        "    # Z[Z > 0] = 1\n",
        "    # dZ = dA*Z\n",
        "    # so for short we have this\n",
        "    dZ[Z <= 0.] = 0.\n",
        "    # which says, that make dZ a copy od dA,then where Z <= 0 we have 0\n",
        "    # and where Z > 0 we have 1*dA = dA\n",
        "    return dZ\n",
        "\n",
        "\n",
        "def sigmoid(z):\n",
        "    return 1. / (1. + torch.exp(-z).cuda()+EPS)\n",
        "\n",
        "\n",
        "def back_sigmoid(Z, dA):\n",
        "    s = 1 / (1 + torch.exp(-Z).cuda()+EPS)\n",
        "    dZ = dA * s * (1 - s)\n",
        "    return dZ"
      ],
      "execution_count": 41,
      "outputs": []
    },
    {
      "cell_type": "code",
      "metadata": {
        "colab": {
          "base_uri": "https://localhost:8080/"
        },
        "id": "e1dK-00CNrMi",
        "outputId": "5953fb9d-823f-4459-f19f-c9ceabd89815"
      },
      "source": [
        "x=torch.randn(1,5).cuda()\n",
        "dx=torch.randn(1,5).cuda()\n",
        "print(x)\n",
        "print(relu(x))\n",
        "print(\"*\"*80)\n",
        "print(x)\n",
        "print(dx)\n",
        "#where x <= 0 dx will 0\n",
        "print(back_relu(x,dx))\n",
        "print(\"*\"*80)\n",
        "print(sigmoid(x))\n",
        "print(back_sigmoid(x,dx))\n"
      ],
      "execution_count": 42,
      "outputs": [
        {
          "output_type": "stream",
          "text": [
            "tensor([[-0.1187,  0.2110,  0.7463, -0.6136, -0.1186]], device='cuda:0')\n",
            "tensor([[0.0000, 0.2110, 0.7463, 0.0000, 0.0000]], device='cuda:0')\n",
            "********************************************************************************\n",
            "tensor([[-0.1187,  0.2110,  0.7463, -0.6136, -0.1186]], device='cuda:0')\n",
            "tensor([[1.5565, 1.3662, 1.0199, 2.4644, 1.1630]], device='cuda:0')\n",
            "tensor([[0.0000, 1.3662, 1.0199, 0.0000, 0.0000]], device='cuda:0')\n",
            "********************************************************************************\n",
            "tensor([[0.4704, 0.5526, 0.6784, 0.3512, 0.4704]], device='cuda:0')\n",
            "tensor([[0.3878, 0.3378, 0.2225, 0.5616, 0.2897]], device='cuda:0')\n"
          ],
          "name": "stdout"
        }
      ]
    },
    {
      "cell_type": "code",
      "metadata": {
        "colab": {
          "base_uri": "https://localhost:8080/"
        },
        "id": "dxVzrG4frDWR",
        "outputId": "25f148d9-56be-4d3b-9421-9338b796d0a5"
      },
      "source": [
        "max_features = 20000  # Only consider the top 20k words\n",
        "maxlen = 200  # Only consider the first 200 words of each movie review\n",
        "\n",
        "(x_train, y_train), (x_val, y_val) = keras.datasets.imdb.load_data(num_words=max_features)"
      ],
      "execution_count": 23,
      "outputs": [
        {
          "output_type": "stream",
          "text": [
            "Downloading data from https://storage.googleapis.com/tensorflow/tf-keras-datasets/imdb.npz\n",
            "17465344/17464789 [==============================] - 1s 0us/step\n"
          ],
          "name": "stdout"
        },
        {
          "output_type": "stream",
          "text": [
            "<string>:6: VisibleDeprecationWarning: Creating an ndarray from ragged nested sequences (which is a list-or-tuple of lists-or-tuples-or ndarrays with different lengths or shapes) is deprecated. If you meant to do this, you must specify 'dtype=object' when creating the ndarray\n",
            "/usr/local/lib/python3.6/dist-packages/tensorflow/python/keras/datasets/imdb.py:159: VisibleDeprecationWarning: Creating an ndarray from ragged nested sequences (which is a list-or-tuple of lists-or-tuples-or ndarrays with different lengths or shapes) is deprecated. If you meant to do this, you must specify 'dtype=object' when creating the ndarray\n",
            "  x_train, y_train = np.array(xs[:idx]), np.array(labels[:idx])\n",
            "/usr/local/lib/python3.6/dist-packages/tensorflow/python/keras/datasets/imdb.py:160: VisibleDeprecationWarning: Creating an ndarray from ragged nested sequences (which is a list-or-tuple of lists-or-tuples-or ndarrays with different lengths or shapes) is deprecated. If you meant to do this, you must specify 'dtype=object' when creating the ndarray\n",
            "  x_test, y_test = np.array(xs[idx:]), np.array(labels[idx:])\n"
          ],
          "name": "stderr"
        }
      ]
    },
    {
      "cell_type": "code",
      "metadata": {
        "colab": {
          "base_uri": "https://localhost:8080/"
        },
        "id": "kQCmUfzhq348",
        "outputId": "ea9cffa7-564d-41aa-b74d-37bde65d439e"
      },
      "source": [
        "x_train = convert_to_array(x_train)\n",
        "x_val = convert_to_array(x_val)\n",
        "y_train = y_train.reshape(y_train.shape[0], -1).T\n",
        "y_val = y_val.reshape(y_val.shape[0], -1).T\n",
        "\n",
        "x_train = x_train.reshape(x_train.shape[0], -1).T\n",
        "x_val = x_val.reshape(x_val.shape[0], -1).T\n",
        "\n",
        "print(\"*\" * 80)\n",
        "print(\"x_train:{}\".format(x_train.shape))\n",
        "print(\"x_val:{}\".format(x_val.shape))\n",
        "print(\"y_train:{}\".format(y_train.shape))\n",
        "print(\"y_val:{}\".format(y_val.shape))\n",
        "print(\"*\" * 80)\n",
        "\n",
        "assert (x_train.shape == (maxlen, 25000))\n",
        "assert (y_train.shape == (1, 25000))\n",
        "assert (x_val.shape == (maxlen, 25000))\n",
        "assert (y_val.shape == (1, 25000))\n",
        "\n",
        "print(\"*\" * 80)\n",
        "\n",
        "print(\"max x_train before:{}\".format(np.max(x_train)))\n",
        "print(\"max x_val before:{}\".format(np.max(x_val)))\n",
        "print(\"min before:{}, {}\".format(np.min(x_train), np.min(x_val)))\n",
        "\n",
        "# norm didn't work well\n",
        "# norm = np.linalg.norm(x_train, ord=2)\n",
        "# print(\"norm={}\".format(norm))\n",
        "\n",
        "# normalizing around max_features works well\n",
        "# x_train = x_train / max_features\n",
        "# x_val = x_val / max_features\n",
        "\n",
        "# centering around mean\n",
        "x_mean = np.mean(x_train)\n",
        "x_std = np.std(x_train)\n",
        "print(\"(mean,std)=({},{})\".format(x_mean, x_std))\n",
        "x_train = (x_train - x_mean) / x_std\n",
        "x_val = (x_val - x_mean) / x_std\n",
        "\n",
        "print(\"max x_train after norm:{}\".format(np.max(x_train)))\n",
        "print(\"max x_val after norm:{}\".format(np.max(x_val)))\n",
        "print(\"min after norm:{}, {}\".format(np.min(x_train), np.min(x_val)))\n",
        "\n",
        "# assert ((x_train >= 0.).all() and (x_train < 1.).all())\n",
        "\n",
        "print(\"*\" * 80)\n",
        "\n",
        "print(\"y_train unique vals:{}\".format(np.unique(y_train)))\n",
        "print(\"y_val unique vals:{}\".format(np.unique(y_train)))\n",
        "\n",
        "print(\"*\" * 80)"
      ],
      "execution_count": 24,
      "outputs": [
        {
          "output_type": "stream",
          "text": [
            "********************************************************************************\n",
            "x_train:(200, 25000)\n",
            "x_val:(200, 25000)\n",
            "y_train:(1, 25000)\n",
            "y_val:(1, 25000)\n",
            "********************************************************************************\n",
            "********************************************************************************\n",
            "max x_train before:19999.0\n",
            "max x_val before:19999.0\n",
            "min before:0.0, 0.0\n",
            "(mean,std)=(896.850569,2520.963839741494)\n",
            "max x_train after norm:7.5773198845084515\n",
            "max x_val after norm:7.5773198845084515\n",
            "min after norm:-0.35575701438540475, -0.35575701438540475\n",
            "********************************************************************************\n",
            "y_train unique vals:[0 1]\n",
            "y_val unique vals:[0 1]\n",
            "********************************************************************************\n"
          ],
          "name": "stdout"
        }
      ]
    },
    {
      "cell_type": "code",
      "metadata": {
        "id": "1dpCpO7EsATu"
      },
      "source": [
        "# 2 layer network\n",
        "m = x_train.shape[1]\n",
        "n_x = x_train.shape[0]\n",
        "n_h = 128\n",
        "n_y = 1\n",
        "# init params\n",
        "W1 = torch.randn(n_h, n_x).cuda() * 0.01\n",
        "b1 = torch.zeros((n_h, 1)).cuda()\n",
        "W2 = torch.randn(n_y, n_h).cuda() * 0.01\n",
        "b2 = torch.zeros((n_y, 1)).cuda()\n",
        "\n",
        "assert (W1.size() == (n_h, n_x))\n",
        "assert (b1.size() == (n_h, 1))\n",
        "assert (W2.size() == (n_y, n_h))\n",
        "assert (b2.size() == (n_y, 1))"
      ],
      "execution_count": 49,
      "outputs": []
    },
    {
      "cell_type": "code",
      "metadata": {
        "colab": {
          "base_uri": "https://localhost:8080/"
        },
        "id": "ua57cU7FsOaU",
        "outputId": "237f71b9-625b-43a6-dcde-c2099ceb494e"
      },
      "source": [
        "costs = []\n",
        "n_iter = 100000\n",
        "learning_rate = 0.01\n",
        "\n",
        "x_train = torch.tensor(x_train,dtype=torch.float32).cuda()\n",
        "y_train = torch.tensor(y_train,dtype=torch.float32).cuda()\n",
        "\n",
        "for i in range(0, n_iter):\n",
        "    # forward\n",
        "    # A1, cache1 = linear_activation_forward(X, W1, b1, \"relu\")\n",
        "    # do a forward pass over relu\n",
        "    # print(\"W1.shape:{}\".format(W1.shape))\n",
        "    # print(\"X.shape:{}\".format(x_train.shape))\n",
        "    # m x n * n x p = m x p\n",
        "    # (5, 200) * (200, 25000)\n",
        "    Z1 = torch.mm(W1, x_train).cuda() + b1\n",
        "    assert (Z1.size() == (n_h, m))\n",
        "    A1 = relu(Z1)\n",
        "    assert (A1.size() == (n_h, m))\n",
        "    # A2, cache2 = linear_activation_forward(A1, W2, b2, \"sigmoid\")\n",
        "    Z2 = torch.mm(W2, A1).cuda() + b2\n",
        "    assert (Z2.size() == (n_y, m))\n",
        "    A2 = sigmoid(Z2)\n",
        "    assert (A2.size() == (n_y, m))\n",
        "\n",
        "    # compute cost\n",
        "    cost = -(1 / m) * torch.sum(y_train * torch.log(A2).cuda() + (1 - y_train) * torch.log(1 - A2).cuda()).cuda()\n",
        "    cost = torch.squeeze(cost)\n",
        "    # backward compute loss\n",
        "    dA2 = -(torch.divide(y_train, A2).cuda() - torch.divide(1 - y_train, 1 - A2).cuda())\n",
        "    # print(\"dA2.shape={}\".format(dA2.shape))\n",
        "    assert (dA2.size() == A2.size())\n",
        "    # backward\n",
        "    dZ2 = back_sigmoid(Z2, dA2)\n",
        "    assert (dZ2.size() == dA2.size())\n",
        "\n",
        "    dW2 = (1 / m) * torch.mm(dZ2, A1.T).cuda()\n",
        "    db2 = (1 / m) * torch.sum(dZ2, dim=1, keepdims=True).cuda()\n",
        "    dA1 = torch.mm(W2.T, dZ2).cuda()\n",
        "\n",
        "    assert (dA1.size() == A1.size())\n",
        "    assert (dW2.size() == W2.size())\n",
        "    assert (db2.size() == b2.size())\n",
        "\n",
        "    dZ1 = back_relu(Z1, dA1)\n",
        "    assert (dZ1.size() == dA1.size())\n",
        "\n",
        "    dW1 = (1 / m) * torch.mm(dZ1, x_train.T).cuda()\n",
        "    db1 = (1 / m) * torch.sum(dZ1, dim=1, keepdims=True).cuda()\n",
        "    assert (dW1.size() == W1.size())\n",
        "    assert (db1.size() == b1.size())\n",
        "\n",
        "    # update params\n",
        "    W2 = W2 - learning_rate * dW2\n",
        "    b2 = b2 - learning_rate * db2\n",
        "    W1 = W1 - learning_rate * dW1\n",
        "    b1 = b1 - learning_rate * db1\n",
        "    # print stats\n",
        "    if i % 1000 == 0:\n",
        "        print(\"Cost after iteration {}: {}\".format(i, cost))\n",
        "    if i % 1000 == 0:\n",
        "        costs.append(cost)\n",
        "\n"
      ],
      "execution_count": 50,
      "outputs": [
        {
          "output_type": "stream",
          "text": [
            "/usr/local/lib/python3.6/dist-packages/ipykernel_launcher.py:5: UserWarning: To copy construct from a tensor, it is recommended to use sourceTensor.clone().detach() or sourceTensor.clone().detach().requires_grad_(True), rather than torch.tensor(sourceTensor).\n",
            "  \"\"\"\n",
            "/usr/local/lib/python3.6/dist-packages/ipykernel_launcher.py:6: UserWarning: To copy construct from a tensor, it is recommended to use sourceTensor.clone().detach() or sourceTensor.clone().detach().requires_grad_(True), rather than torch.tensor(sourceTensor).\n",
            "  \n"
          ],
          "name": "stderr"
        },
        {
          "output_type": "stream",
          "text": [
            "Cost after iteration 0: 0.6931062340736389\n",
            "Cost after iteration 1000: 0.6920350790023804\n",
            "Cost after iteration 2000: 0.6901419162750244\n",
            "Cost after iteration 3000: 0.6875673532485962\n",
            "Cost after iteration 4000: 0.6852700710296631\n",
            "Cost after iteration 5000: 0.6830765604972839\n",
            "Cost after iteration 6000: 0.6806917190551758\n",
            "Cost after iteration 7000: 0.6780092120170593\n",
            "Cost after iteration 8000: 0.6750380396842957\n",
            "Cost after iteration 9000: 0.6717337369918823\n",
            "Cost after iteration 10000: 0.6679622530937195\n",
            "Cost after iteration 11000: 0.6635579466819763\n",
            "Cost after iteration 12000: 0.6583427786827087\n",
            "Cost after iteration 13000: 0.6521320343017578\n",
            "Cost after iteration 14000: 0.6447542309761047\n",
            "Cost after iteration 15000: 0.6360668540000916\n",
            "Cost after iteration 16000: 0.6259809136390686\n",
            "Cost after iteration 17000: 0.6145573854446411\n",
            "Cost after iteration 18000: 0.601876437664032\n",
            "Cost after iteration 19000: 0.5880638957023621\n",
            "Cost after iteration 20000: 0.5733454823493958\n",
            "Cost after iteration 21000: 0.5580275058746338\n",
            "Cost after iteration 22000: 0.5423973202705383\n",
            "Cost after iteration 23000: 0.5266596078872681\n",
            "Cost after iteration 24000: 0.5110139846801758\n",
            "Cost after iteration 25000: 0.4956114590167999\n",
            "Cost after iteration 26000: 0.4805349111557007\n",
            "Cost after iteration 27000: 0.465840220451355\n",
            "Cost after iteration 28000: 0.4516195058822632\n",
            "Cost after iteration 29000: 0.43787917494773865\n",
            "Cost after iteration 30000: 0.42459163069725037\n",
            "Cost after iteration 31000: 0.41178271174430847\n",
            "Cost after iteration 32000: 0.399410218000412\n",
            "Cost after iteration 33000: 0.38745394349098206\n",
            "Cost after iteration 34000: 0.3758987486362457\n",
            "Cost after iteration 35000: 0.36474964022636414\n",
            "Cost after iteration 36000: 0.3539586365222931\n",
            "Cost after iteration 37000: 0.34361952543258667\n",
            "Cost after iteration 38000: 0.33368992805480957\n",
            "Cost after iteration 39000: 0.3241196274757385\n",
            "Cost after iteration 40000: 0.3148539066314697\n",
            "Cost after iteration 41000: 0.3058989644050598\n",
            "Cost after iteration 42000: 0.29729530215263367\n",
            "Cost after iteration 43000: 0.28903070092201233\n",
            "Cost after iteration 44000: 0.28105929493904114\n",
            "Cost after iteration 45000: 0.27335238456726074\n",
            "Cost after iteration 46000: 0.26593515276908875\n",
            "Cost after iteration 47000: 0.2588209807872772\n",
            "Cost after iteration 48000: 0.2519688904285431\n",
            "Cost after iteration 49000: 0.24539195001125336\n",
            "Cost after iteration 50000: 0.23903819918632507\n",
            "Cost after iteration 51000: 0.23292924463748932\n",
            "Cost after iteration 52000: 0.22702035307884216\n",
            "Cost after iteration 53000: 0.221299409866333\n",
            "Cost after iteration 54000: 0.21579036116600037\n",
            "Cost after iteration 55000: 0.21046783030033112\n",
            "Cost after iteration 56000: 0.205328568816185\n",
            "Cost after iteration 57000: 0.20036581158638\n",
            "Cost after iteration 58000: 0.1955682635307312\n",
            "Cost after iteration 59000: 0.19094659388065338\n",
            "Cost after iteration 60000: 0.18647587299346924\n",
            "Cost after iteration 61000: 0.18215782940387726\n",
            "Cost after iteration 62000: 0.17795944213867188\n",
            "Cost after iteration 63000: 0.17389515042304993\n",
            "Cost after iteration 64000: 0.16995511949062347\n",
            "Cost after iteration 65000: 0.16614869236946106\n",
            "Cost after iteration 66000: 0.16247251629829407\n",
            "Cost after iteration 67000: 0.15890851616859436\n",
            "Cost after iteration 68000: 0.15547026693820953\n",
            "Cost after iteration 69000: 0.15213122963905334\n",
            "Cost after iteration 70000: 0.14887908101081848\n",
            "Cost after iteration 71000: 0.1457148641347885\n",
            "Cost after iteration 72000: 0.14265519380569458\n",
            "Cost after iteration 73000: 0.1396883726119995\n",
            "Cost after iteration 74000: 0.13680286705493927\n",
            "Cost after iteration 75000: 0.13399046659469604\n",
            "Cost after iteration 76000: 0.13125790655612946\n",
            "Cost after iteration 77000: 0.12859980762004852\n",
            "Cost after iteration 78000: 0.12601132690906525\n",
            "Cost after iteration 79000: 0.12351272255182266\n",
            "Cost after iteration 80000: 0.12109942734241486\n",
            "Cost after iteration 81000: 0.1187547892332077\n",
            "Cost after iteration 82000: 0.11648039519786835\n",
            "Cost after iteration 83000: 0.11427416652441025\n",
            "Cost after iteration 84000: 0.11212347447872162\n",
            "Cost after iteration 85000: 0.11001993715763092\n",
            "Cost after iteration 86000: 0.10797743499279022\n",
            "Cost after iteration 87000: 0.10599715262651443\n",
            "Cost after iteration 88000: 0.10407041758298874\n",
            "Cost after iteration 89000: 0.10220226645469666\n",
            "Cost after iteration 90000: 0.10038700699806213\n",
            "Cost after iteration 91000: 0.09862534701824188\n",
            "Cost after iteration 92000: 0.09691459685564041\n",
            "Cost after iteration 93000: 0.09525036811828613\n",
            "Cost after iteration 94000: 0.09362275153398514\n",
            "Cost after iteration 95000: 0.09203498065471649\n",
            "Cost after iteration 96000: 0.09049011766910553\n",
            "Cost after iteration 97000: 0.08898509293794632\n",
            "Cost after iteration 98000: 0.0875144675374031\n",
            "Cost after iteration 99000: 0.08607985079288483\n"
          ],
          "name": "stdout"
        }
      ]
    },
    {
      "cell_type": "code",
      "metadata": {
        "colab": {
          "base_uri": "https://localhost:8080/"
        },
        "id": "-bw7tgVZhCeM",
        "outputId": "18ab8de3-aa24-490c-a1f4-bfeca6a11a80"
      },
      "source": [
        "#predict\n",
        "p = torch.zeros((1, x_train.shape[1])).cuda()\n",
        "Z1 = torch.mm(W1, x_train).cuda() + b1\n",
        "A1 = relu(Z1)\n",
        "Z2 = torch.mm(W2, A1).cuda() + b2\n",
        "A2 = sigmoid(Z2)\n",
        "\n",
        "# convert probas to 0/1 predictions\n",
        "for i in range(0, A2.shape[1]):\n",
        "    if A2[0, i] > 0.5:\n",
        "        p[0, i] = 1\n",
        "    else:\n",
        "        p[0, i] = 0\n",
        "\n",
        "print(\"Accuracy on training set: \" + str(torch.sum((p == y_train)/x_train.shape[1]).cuda()))"
      ],
      "execution_count": 52,
      "outputs": [
        {
          "output_type": "stream",
          "text": [
            "Accuracy: tensor(0.9840, device='cuda:0')\n"
          ],
          "name": "stdout"
        }
      ]
    },
    {
      "cell_type": "code",
      "metadata": {
        "id": "N5VbprF3sczX",
        "colab": {
          "base_uri": "https://localhost:8080/",
          "height": 400
        },
        "outputId": "bc8b5766-5801-4239-bdde-0854cd68a14f"
      },
      "source": [
        "x_val = torch.tensor(x_val,dtype=torch.float32).cuda()\n",
        "y_val = torch.tensor(y_val,dtype=torch.float32).cuda()\n",
        "\n",
        "\n",
        "#predict\n",
        "p = torch.zeros((1, x_val.shape[1])).cuda()\n",
        "Z1 = torch.mm(W1, x_val).cuda() + b1\n",
        "A1 = relu(Z1)\n",
        "Z2 = torch.mm(W2, A1).cuda() + b2\n",
        "A2 = sigmoid(Z2)\n",
        "\n",
        "# convert probas to 0/1 predictions\n",
        "for i in range(0, A2.shape[1]):\n",
        "    if A2[0, i] > 0.5:\n",
        "        p[0, i] = 1\n",
        "    else:\n",
        "        p[0, i] = 0\n",
        "\n",
        "print(\"Accuracy on validation/test set: \" + str(torch.sum((p == y_val)/x_val.shape[1]).cuda()))\n",
        "\n",
        "plt.plot(costs)\n",
        "plt.ylabel('cost')\n",
        "plt.xlabel('iterations (per hundreds)')\n",
        "plt.title(\"Learning rate =\" + str(learning_rate))\n",
        "plt.show()"
      ],
      "execution_count": 53,
      "outputs": [
        {
          "output_type": "stream",
          "text": [
            "/usr/local/lib/python3.6/dist-packages/ipykernel_launcher.py:1: UserWarning: To copy construct from a tensor, it is recommended to use sourceTensor.clone().detach() or sourceTensor.clone().detach().requires_grad_(True), rather than torch.tensor(sourceTensor).\n",
            "  \"\"\"Entry point for launching an IPython kernel.\n",
            "/usr/local/lib/python3.6/dist-packages/ipykernel_launcher.py:2: UserWarning: To copy construct from a tensor, it is recommended to use sourceTensor.clone().detach() or sourceTensor.clone().detach().requires_grad_(True), rather than torch.tensor(sourceTensor).\n",
            "  \n"
          ],
          "name": "stderr"
        },
        {
          "output_type": "stream",
          "text": [
            "Accuracy on validation/test set: tensor(0.4967, device='cuda:0')\n"
          ],
          "name": "stdout"
        },
        {
          "output_type": "display_data",
          "data": {
            "image/png": "[encoded data removed]",
            "text/plain": [
              "<Figure size 432x288 with 1 Axes>"
            ]
          },
          "metadata": {
            "tags": [],
            "needs_background": "light"
          }
        }
      ]
    },
    {
      "cell_type": "markdown",
      "metadata": {
        "id": "vM2kUNFAg25W"
      },
      "source": [
        "# summary\n",
        "\n",
        "So even with enough power(GPU) and kinda low loss/cost we actually don't get better accuracy on validation set. \n",
        "\n",
        "That looks like **overfitting**.\n"
      ]
    }
  ]
}