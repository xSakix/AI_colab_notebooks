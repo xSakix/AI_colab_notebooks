{
  "nbformat": 4,
  "nbformat_minor": 0,
  "metadata": {
    "colab": {
      "name": "imdb_3.ipynb",
      "provenance": [],
      "authorship_tag": "ABX9TyPIzbcdCj8aXYGskdN8dre+",
      "include_colab_link": true
    },
    "kernelspec": {
      "name": "python3",
      "display_name": "Python 3"
    },
    "accelerator": "GPU"
  },
  "cells": [
    {
      "cell_type": "markdown",
      "metadata": {
        "id": "view-in-github",
        "colab_type": "text"
      },
      "source": [
        "<a href=\"https://colab.research.google.com/github/xSakix/AI_colab_notebooks/blob/master/imdb_3.ipynb\" target=\"_parent\"><img src=\"https://colab.research.google.com/assets/colab-badge.svg\" alt=\"Open In Colab\"/></a>"
      ]
    },
    {
      "cell_type": "markdown",
      "metadata": {
        "id": "JvPSqJkBpLXq"
      },
      "source": [
        "# IMDB DNN\n",
        "\n",
        "Lets do the IMDB dataset with a simple DNN. The first one is in numpy and second will be done in pytorch, but only using tensor for the GPU. Not using backwards or any NN functionality, as the goal is to implement it and learn how it works behind the scenes.\n",
        "\n",
        "The second approach overfitted. So we need to reduce overfitting.\n",
        "\n",
        "There are various methods to achieve this:\n",
        "1. dropout\n",
        "2. regularization\n",
        "3. lowering the number of nodes in hidden layers\n",
        "etc.\n",
        "\n",
        "Lets try to implement dropout in torch and use it in this simple DNN."
      ]
    },
    {
      "cell_type": "code",
      "metadata": {
        "id": "aGuAsvRTqf31"
      },
      "source": [
        "import keras\n",
        "import numpy as np\n",
        "import torch\n",
        "import matplotlib.pyplot as plt\n",
        "from sklearn.metrics import classification_report\n",
        "\n",
        "\n",
        "torch.manual_seed(2019)\n",
        "np.random.seed(42)\n",
        "EPS = torch.finfo(torch.float32).eps"
      ],
      "execution_count": 51,
      "outputs": []
    },
    {
      "cell_type": "code",
      "metadata": {
        "id": "-qoG1prgrx0f"
      },
      "source": [
        "def convert_to_array(x):\n",
        "    x_temp = []\n",
        "\n",
        "    for x in x_train:\n",
        "        if len(x) < maxlen:\n",
        "            for i in range(maxlen - len(x)):\n",
        "                x.append(0.0)\n",
        "        elif len(x) > maxlen:\n",
        "            x = x[0:maxlen]\n",
        "\n",
        "        x_temp.append(x)\n",
        "\n",
        "    return np.array(x_temp)\n",
        "\n",
        "\n",
        "def relu(z):\n",
        "    other = torch.zeros(z.size()).cuda()\n",
        "    return torch.maximum(other,z).cuda()\n",
        "\n",
        "\n",
        "def back_relu(Z, dA):\n",
        "    dZ = dA.detach().clone().cuda()  # just converting dz to a correct object.\n",
        "\n",
        "    # When z <= 0, you should set dz to 0 as well.\n",
        "    # normaly it would be:\n",
        "    # Z[Z <= 0] = 0.\n",
        "    # Z[Z > 0] = 1\n",
        "    # dZ = dA*Z\n",
        "    # so for short we have this\n",
        "    dZ[Z <= 0.] = 0.\n",
        "    # which says, that make dZ a copy od dA,then where Z <= 0 we have 0\n",
        "    # and where Z > 0 we have 1*dA = dA\n",
        "    return dZ\n",
        "\n",
        "\n",
        "def sigmoid(z):\n",
        "    return 1. / (1. + torch.exp(-z).cuda()+EPS)\n",
        "\n",
        "\n",
        "def back_sigmoid(Z, dA):\n",
        "    s = 1 / (1 + torch.exp(-Z).cuda()+EPS)\n",
        "    dZ = dA * s * (1 - s)\n",
        "    return dZ"
      ],
      "execution_count": 2,
      "outputs": []
    },
    {
      "cell_type": "code",
      "metadata": {
        "colab": {
          "base_uri": "https://localhost:8080/"
        },
        "id": "e1dK-00CNrMi",
        "outputId": "ba725d40-97a4-439a-cbd4-e0a84128d3bd"
      },
      "source": [
        "x=torch.randn(1,5).cuda()\n",
        "dx=torch.randn(1,5).cuda()\n",
        "print(x)\n",
        "print(relu(x))\n",
        "print(\"*\"*80)\n",
        "print(x)\n",
        "print(dx)\n",
        "#where x <= 0 dx will 0\n",
        "print(back_relu(x,dx))\n",
        "print(\"*\"*80)\n",
        "print(sigmoid(x))\n",
        "print(back_sigmoid(x,dx))\n"
      ],
      "execution_count": 3,
      "outputs": [
        {
          "output_type": "stream",
          "text": [
            "tensor([[-0.1187,  0.2110,  0.7463, -0.6136, -0.1186]], device='cuda:0')\n",
            "tensor([[0.0000, 0.2110, 0.7463, 0.0000, 0.0000]], device='cuda:0')\n",
            "********************************************************************************\n",
            "tensor([[-0.1187,  0.2110,  0.7463, -0.6136, -0.1186]], device='cuda:0')\n",
            "tensor([[1.5565, 1.3662, 1.0199, 2.4644, 1.1630]], device='cuda:0')\n",
            "tensor([[0.0000, 1.3662, 1.0199, 0.0000, 0.0000]], device='cuda:0')\n",
            "********************************************************************************\n",
            "tensor([[0.4704, 0.5526, 0.6784, 0.3512, 0.4704]], device='cuda:0')\n",
            "tensor([[0.3878, 0.3378, 0.2225, 0.5616, 0.2897]], device='cuda:0')\n"
          ],
          "name": "stdout"
        }
      ]
    },
    {
      "cell_type": "code",
      "metadata": {
        "colab": {
          "base_uri": "https://localhost:8080/"
        },
        "id": "dxVzrG4frDWR",
        "outputId": "91bb7f9c-02d3-46a7-ac1d-1d81481ca3d5"
      },
      "source": [
        "max_features = 20000  # Only consider the top 20k words\n",
        "maxlen = 200  # Only consider the first 200 words of each movie review\n",
        "\n",
        "(x_train, y_train), (x_val, y_val) = keras.datasets.imdb.load_data(num_words=max_features)"
      ],
      "execution_count": 4,
      "outputs": [
        {
          "output_type": "stream",
          "text": [
            "Downloading data from https://storage.googleapis.com/tensorflow/tf-keras-datasets/imdb.npz\n",
            "17465344/17464789 [==============================] - 1s 0us/step\n"
          ],
          "name": "stdout"
        },
        {
          "output_type": "stream",
          "text": [
            "<string>:6: VisibleDeprecationWarning: Creating an ndarray from ragged nested sequences (which is a list-or-tuple of lists-or-tuples-or ndarrays with different lengths or shapes) is deprecated. If you meant to do this, you must specify 'dtype=object' when creating the ndarray\n",
            "/usr/local/lib/python3.6/dist-packages/tensorflow/python/keras/datasets/imdb.py:159: VisibleDeprecationWarning: Creating an ndarray from ragged nested sequences (which is a list-or-tuple of lists-or-tuples-or ndarrays with different lengths or shapes) is deprecated. If you meant to do this, you must specify 'dtype=object' when creating the ndarray\n",
            "  x_train, y_train = np.array(xs[:idx]), np.array(labels[:idx])\n",
            "/usr/local/lib/python3.6/dist-packages/tensorflow/python/keras/datasets/imdb.py:160: VisibleDeprecationWarning: Creating an ndarray from ragged nested sequences (which is a list-or-tuple of lists-or-tuples-or ndarrays with different lengths or shapes) is deprecated. If you meant to do this, you must specify 'dtype=object' when creating the ndarray\n",
            "  x_test, y_test = np.array(xs[idx:]), np.array(labels[idx:])\n"
          ],
          "name": "stderr"
        }
      ]
    },
    {
      "cell_type": "code",
      "metadata": {
        "colab": {
          "base_uri": "https://localhost:8080/"
        },
        "id": "kQCmUfzhq348",
        "outputId": "22e0e880-9c09-4d7f-9a55-057b82235293"
      },
      "source": [
        "x_train = convert_to_array(x_train)\n",
        "x_val = convert_to_array(x_val)\n",
        "y_train = y_train.reshape(y_train.shape[0], -1).T\n",
        "y_val = y_val.reshape(y_val.shape[0], -1).T\n",
        "\n",
        "x_train = x_train.reshape(x_train.shape[0], -1).T\n",
        "x_val = x_val.reshape(x_val.shape[0], -1).T\n",
        "\n",
        "print(\"*\" * 80)\n",
        "print(\"x_train:{}\".format(x_train.shape))\n",
        "print(\"x_val:{}\".format(x_val.shape))\n",
        "print(\"y_train:{}\".format(y_train.shape))\n",
        "print(\"y_val:{}\".format(y_val.shape))\n",
        "print(\"*\" * 80)\n",
        "\n",
        "assert (x_train.shape == (maxlen, 25000))\n",
        "assert (y_train.shape == (1, 25000))\n",
        "assert (x_val.shape == (maxlen, 25000))\n",
        "assert (y_val.shape == (1, 25000))\n",
        "\n",
        "print(\"*\" * 80)\n",
        "\n",
        "print(\"max x_train before:{}\".format(np.max(x_train)))\n",
        "print(\"max x_val before:{}\".format(np.max(x_val)))\n",
        "print(\"min before:{}, {}\".format(np.min(x_train), np.min(x_val)))\n",
        "\n",
        "# norm didn't work well\n",
        "# norm = np.linalg.norm(x_train, ord=2)\n",
        "# print(\"norm={}\".format(norm))\n",
        "\n",
        "# normalizing around max_features works well\n",
        "# x_train = x_train / max_features\n",
        "# x_val = x_val / max_features\n",
        "\n",
        "# centering around mean\n",
        "x_mean = np.mean(x_train)\n",
        "x_std = np.std(x_train)\n",
        "print(\"(mean,std)=({},{})\".format(x_mean, x_std))\n",
        "x_train = (x_train - x_mean) / x_std\n",
        "x_val = (x_val - x_mean) / x_std\n",
        "\n",
        "print(\"max x_train after norm:{}\".format(np.max(x_train)))\n",
        "print(\"max x_val after norm:{}\".format(np.max(x_val)))\n",
        "print(\"min after norm:{}, {}\".format(np.min(x_train), np.min(x_val)))\n",
        "\n",
        "# assert ((x_train >= 0.).all() and (x_train < 1.).all())\n",
        "\n",
        "print(\"*\" * 80)\n",
        "\n",
        "print(\"y_train unique vals:{}\".format(np.unique(y_train)))\n",
        "print(\"y_val unique vals:{}\".format(np.unique(y_train)))\n",
        "\n",
        "print(\"*\" * 80)"
      ],
      "execution_count": 5,
      "outputs": [
        {
          "output_type": "stream",
          "text": [
            "********************************************************************************\n",
            "x_train:(200, 25000)\n",
            "x_val:(200, 25000)\n",
            "y_train:(1, 25000)\n",
            "y_val:(1, 25000)\n",
            "********************************************************************************\n",
            "********************************************************************************\n",
            "max x_train before:19999.0\n",
            "max x_val before:19999.0\n",
            "min before:0.0, 0.0\n",
            "(mean,std)=(896.850569,2520.963839741494)\n",
            "max x_train after norm:7.5773198845084515\n",
            "max x_val after norm:7.5773198845084515\n",
            "min after norm:-0.35575701438540475, -0.35575701438540475\n",
            "********************************************************************************\n",
            "y_train unique vals:[0 1]\n",
            "y_val unique vals:[0 1]\n",
            "********************************************************************************\n"
          ],
          "name": "stdout"
        }
      ]
    },
    {
      "cell_type": "code",
      "metadata": {
        "colab": {
          "base_uri": "https://localhost:8080/"
        },
        "id": "7JOhGVO0mTV9",
        "outputId": "fbdf7e07-dd5b-4afa-bec3-ad9b2430518e"
      },
      "source": [
        "# how to implement dropout?\n",
        "x = torch.rand(1,10)\n",
        "print(x)\n",
        "p = 0.5\n",
        "probs = torch.empty(1,10).fill_(p)\n",
        "drop = torch.distributions.binomial.Binomial(probs=probs)\n",
        "sample = drop.sample()/p\n",
        "print(sample)\n",
        "print(x*sample)\n"
      ],
      "execution_count": 25,
      "outputs": [
        {
          "output_type": "stream",
          "text": [
            "tensor([[0.6138, 0.5091, 0.0392, 0.7620, 0.7165, 0.2351, 0.2493, 0.9827, 0.3666,\n",
            "         0.6200]])\n",
            "tensor([[0., 2., 0., 2., 0., 0., 2., 2., 0., 2.]])\n",
            "tensor([[0.0000, 1.0183, 0.0000, 1.5241, 0.0000, 0.0000, 0.4985, 1.9654, 0.0000,\n",
            "         1.2400]])\n"
          ],
          "name": "stdout"
        }
      ]
    },
    {
      "cell_type": "code",
      "metadata": {
        "id": "1dpCpO7EsATu"
      },
      "source": [
        "# 2 layer network\n",
        "m = x_train.shape[1]\n",
        "n_x = x_train.shape[0]\n",
        "n_h = 256\n",
        "n_y = 1\n",
        "# init params\n",
        "W1 = torch.randn(n_h, n_x).cuda() * 0.01\n",
        "b1 = torch.zeros((n_h, 1)).cuda()\n",
        "W2 = torch.randn(n_y, n_h).cuda() * 0.01\n",
        "b2 = torch.zeros((n_y, 1)).cuda()\n",
        "\n",
        "assert (W1.size() == (n_h, n_x))\n",
        "assert (b1.size() == (n_h, 1))\n",
        "assert (W2.size() == (n_y, n_h))\n",
        "assert (b2.size() == (n_y, 1))"
      ],
      "execution_count": 68,
      "outputs": []
    },
    {
      "cell_type": "code",
      "metadata": {
        "id": "I7yCHVJswr4m"
      },
      "source": [
        "def acc(y_hat,y):\n",
        "  p = torch.round(y_hat).cuda()\n",
        "  return torch.sum((p == y)/y.shape[1]).cuda()"
      ],
      "execution_count": 49,
      "outputs": []
    },
    {
      "cell_type": "code",
      "metadata": {
        "colab": {
          "base_uri": "https://localhost:8080/"
        },
        "id": "ua57cU7FsOaU",
        "outputId": "ba328944-8691-47ae-919a-77d4f347c528"
      },
      "source": [
        "costs = []\n",
        "accs = []\n",
        "n_iter = 20000\n",
        "learning_rate = 0.01\n",
        "p = 0.\n",
        "probs = torch.empty(y_train.shape[0],y_train.shape[1]).fill_(1.-p).cuda()\n",
        "drop = torch.distributions.binomial.Binomial(probs=probs)\n",
        "\n",
        "\n",
        "x_train = torch.tensor(x_train,dtype=torch.float32).cuda()\n",
        "y_train = torch.tensor(y_train,dtype=torch.float32).cuda()\n",
        "\n",
        "for i in range(0, n_iter):\n",
        "    # forward\n",
        "    # A1, cache1 = linear_activation_forward(X, W1, b1, \"relu\")\n",
        "    # do a forward pass over relu\n",
        "    # print(\"W1.shape:{}\".format(W1.shape))\n",
        "    # print(\"X.shape:{}\".format(x_train.shape))\n",
        "    # m x n * n x p = m x p\n",
        "    # (5, 200) * (200, 25000)\n",
        "    Z1 = torch.mm(W1, x_train).cuda() + b1\n",
        "    assert (Z1.size() == (n_h, m))\n",
        "    A1 = relu(Z1)\n",
        "    assert (A1.size() == (n_h, m))\n",
        "    # A2, cache2 = linear_activation_forward(A1, W2, b2, \"sigmoid\")\n",
        "    Z2 = torch.mm(W2, A1).cuda() + b2\n",
        "    assert (Z2.size() == (n_y, m))\n",
        "    #we will use dropout on the output layer\n",
        "    d2 = drop.sample()/(1-p)\n",
        "    Z2 = Z2*d2\n",
        "    #output\n",
        "    A2 = sigmoid(Z2)\n",
        "    assert (A2.size() == (n_y, m))\n",
        "\n",
        "    # compute cost\n",
        "    cost = -(1 / m) * torch.sum(y_train * torch.log(A2).cuda() + (1 - y_train) * torch.log(1 - A2).cuda()).cuda()\n",
        "    cost = torch.squeeze(cost)\n",
        "    # backward compute loss\n",
        "    dA2 = -(torch.divide(y_train, A2).cuda() - torch.divide(1 - y_train, 1 - A2).cuda())\n",
        "    # print(\"dA2.shape={}\".format(dA2.shape))\n",
        "    assert (dA2.size() == A2.size())\n",
        "    # backward\n",
        "    dZ2 = back_sigmoid(Z2, dA2)\n",
        "    #use dropout\n",
        "    dZ2 = dZ2*d2\n",
        "    assert (dZ2.size() == dA2.size())\n",
        "\n",
        "    dW2 = (1 / m) * torch.mm(dZ2, A1.T).cuda()\n",
        "    db2 = (1 / m) * torch.sum(dZ2, dim=1, keepdims=True).cuda()\n",
        "    dA1 = torch.mm(W2.T, dZ2).cuda()\n",
        "\n",
        "    assert (dA1.size() == A1.size())\n",
        "    assert (dW2.size() == W2.size())\n",
        "    assert (db2.size() == b2.size())\n",
        "\n",
        "    dZ1 = back_relu(Z1, dA1)\n",
        "    assert (dZ1.size() == dA1.size())\n",
        "\n",
        "    dW1 = (1 / m) * torch.mm(dZ1, x_train.T).cuda()\n",
        "    db1 = (1 / m) * torch.sum(dZ1, dim=1, keepdims=True).cuda()\n",
        "    assert (dW1.size() == W1.size())\n",
        "    assert (db1.size() == b1.size())\n",
        "\n",
        "    # update params\n",
        "    W2 = W2 - learning_rate * dW2\n",
        "    b2 = b2 - learning_rate * db2\n",
        "    W1 = W1 - learning_rate * dW1\n",
        "    b1 = b1 - learning_rate * db1\n",
        "    # print stats\n",
        "    if i % 1000 == 0:\n",
        "      acc_train = acc(A2,y_train)\n",
        "      Z1 = torch.mm(W1, x_val).cuda() + b1\n",
        "      A1 = relu(Z1)\n",
        "      Z2 = torch.mm(W2, A1).cuda() + b2\n",
        "      A2 = sigmoid(Z2)\n",
        "      acc_val = acc(A2,y_val)\n",
        "      print(\"Cost after iteration {}: {} | Acc {} : {}\".format(i, cost,acc_train,acc_val))\n",
        "      costs.append(cost)\n",
        "      accs.append((acc_train,acc_val))\n",
        "\n"
      ],
      "execution_count": 73,
      "outputs": [
        {
          "output_type": "stream",
          "text": [
            "Cost after iteration 0: 0.5477485656738281 | Acc 0.7916800379753113 : 0.4975999891757965\n",
            "Cost after iteration 1000: 0.5276686549186707 | Acc 0.7940000295639038 : 0.4981599748134613\n",
            "Cost after iteration 2000: 0.5081571936607361 | Acc 0.803600013256073 : 0.497439980506897\n",
            "Cost after iteration 3000: 0.4889028072357178 | Acc 0.8147200345993042 : 0.49799996614456177\n",
            "Cost after iteration 4000: 0.47008073329925537 | Acc 0.8234000205993652 : 0.4975999891757965\n",
            "Cost after iteration 5000: 0.45184528827667236 | Acc 0.8339200615882874 : 0.4971599876880646\n",
            "Cost after iteration 6000: 0.43426287174224854 | Acc 0.842400074005127 : 0.49647998809814453\n",
            "Cost after iteration 7000: 0.4173702895641327 | Acc 0.8506800532341003 : 0.4965599775314331\n",
            "Cost after iteration 8000: 0.401162326335907 | Acc 0.8598400354385376 : 0.49691998958587646\n",
            "Cost after iteration 9000: 0.3856993019580841 | Acc 0.8672800064086914 : 0.4968000054359436\n",
            "Cost after iteration 10000: 0.37096112966537476 | Acc 0.8736000061035156 : 0.4973599910736084\n",
            "Cost after iteration 11000: 0.35688093304634094 | Acc 0.879560112953186 : 0.49747997522354126\n",
            "Cost after iteration 12000: 0.34342727065086365 | Acc 0.8852400779724121 : 0.49675998091697693\n",
            "Cost after iteration 13000: 0.330590158700943 | Acc 0.8916400671005249 : 0.49619996547698975\n",
            "Cost after iteration 14000: 0.318359911441803 | Acc 0.8978400826454163 : 0.4970399737358093\n",
            "Cost after iteration 15000: 0.3066393733024597 | Acc 0.9028000831604004 : 0.49799996614456177\n",
            "Cost after iteration 16000: 0.2954506278038025 | Acc 0.9078800678253174 : 0.4981599748134613\n",
            "Cost after iteration 17000: 0.28474438190460205 | Acc 0.9127600193023682 : 0.49908000230789185\n",
            "Cost after iteration 18000: 0.27453064918518066 | Acc 0.9174801111221313 : 0.4994000196456909\n",
            "Cost after iteration 19000: 0.2647978365421295 | Acc 0.9216800928115845 : 0.4997600018978119\n"
          ],
          "name": "stdout"
        }
      ]
    },
    {
      "cell_type": "code",
      "metadata": {
        "colab": {
          "base_uri": "https://localhost:8080/",
          "height": 573
        },
        "id": "RF70FgNj0lRR",
        "outputId": "514d954e-a831-465e-aa0a-94c8c99e2fae"
      },
      "source": [
        "plt.plot(costs)\n",
        "plt.ylabel('cost')\n",
        "plt.xlabel('iterations (per tousand)')\n",
        "plt.title(\"Learning rate =\" + str(learning_rate))\n",
        "plt.show()\n",
        "\n",
        "plt.plot(accs)\n",
        "plt.ylabel('accuracies')\n",
        "plt.xlabel('iterations (per tousand)')\n",
        "plt.title(\"Learning rate =\" + str(learning_rate))\n",
        "plt.show()"
      ],
      "execution_count": 70,
      "outputs": [
        {
          "output_type": "display_data",
          "data": {
            "image/png": "[encoded data removed]",
            "text/plain": [
              "<Figure size 432x288 with 1 Axes>"
            ]
          },
          "metadata": {
            "tags": [],
            "needs_background": "light"
          }
        },
        {
          "output_type": "display_data",
          "data": {
            "image/png": "[encoded data removed]",
            "text/plain": [
              "<Figure size 432x288 with 1 Axes>"
            ]
          },
          "metadata": {
            "tags": [],
            "needs_background": "light"
          }
        }
      ]
    },
    {
      "cell_type": "code",
      "metadata": {
        "colab": {
          "base_uri": "https://localhost:8080/"
        },
        "id": "-bw7tgVZhCeM",
        "outputId": "7e63e680-0f97-4153-9fa6-ff72b8db7503"
      },
      "source": [
        "import warnings; warnings.simplefilter('ignore')\n",
        "Z1 = torch.mm(W1, x_train).cuda() + b1\n",
        "A1 = relu(Z1)\n",
        "Z2 = torch.mm(W2, A1).cuda() + b2\n",
        "A2 = sigmoid(Z2)\n",
        "\n",
        "interesting_keys = ['micro avg', 'macro avg', 'weighted avg', 'samples avg']\n",
        "report = classification_report(A2.round().cpu(), y_train.cpu(),output_dict=True)\n",
        "for k in interesting_keys:\n",
        "  print(\"{}:{}\".format(k,report[k]))"
      ],
      "execution_count": 71,
      "outputs": [
        {
          "output_type": "stream",
          "text": [
            "micro avg:{'precision': 0.77432, 'recall': 0.8021713906845682, 'f1-score': 0.7879996743466581, 'support': 12066}\n",
            "macro avg:{'precision': 0.38716, 'recall': 0.38716, 'f1-score': 0.38716, 'support': 12066}\n",
            "weighted avg:{'precision': 0.8021713906845682, 'recall': 0.8021713906845682, 'f1-score': 0.8021713906845682, 'support': 12066}\n",
            "samples avg:{'precision': 0.77432, 'recall': 0.8021713906845682, 'f1-score': 0.7879996743466581, 'support': 12066}\n"
          ],
          "name": "stdout"
        }
      ]
    },
    {
      "cell_type": "code",
      "metadata": {
        "id": "N5VbprF3sczX",
        "colab": {
          "base_uri": "https://localhost:8080/"
        },
        "outputId": "7cb94b86-0e2d-4d0e-c8f6-a2565b6477d9"
      },
      "source": [
        "import warnings; warnings.simplefilter('ignore')\n",
        "x_val = torch.tensor(x_val,dtype=torch.float32).cuda()\n",
        "y_val = torch.tensor(y_val,dtype=torch.float32).cuda()\n",
        "\n",
        "\n",
        "#predict\n",
        "p = torch.zeros((1, x_val.shape[1])).cuda()\n",
        "Z1 = torch.mm(W1, x_val).cuda() + b1\n",
        "A1 = relu(Z1)\n",
        "Z2 = torch.mm(W2, A1).cuda() + b2\n",
        "A2 = sigmoid(Z2)\n",
        "\n",
        "interesting_keys = ['micro avg', 'macro avg', 'weighted avg', 'samples avg']\n",
        "report = classification_report(A2.round().cpu(), y_val.cpu(),output_dict=True)\n",
        "for k in interesting_keys:\n",
        "  print(\"{}:{}\".format(k,report[k]))"
      ],
      "execution_count": 72,
      "outputs": [
        {
          "output_type": "stream",
          "text": [
            "micro avg:{'precision': 0.48048, 'recall': 0.49776230730979615, 'f1-score': 0.48896849303915985, 'support': 12066}\n",
            "macro avg:{'precision': 0.24024, 'recall': 0.24024, 'f1-score': 0.24024, 'support': 12066}\n",
            "weighted avg:{'precision': 0.49776230730979615, 'recall': 0.49776230730979615, 'f1-score': 0.49776230730979615, 'support': 12066}\n",
            "samples avg:{'precision': 0.48048, 'recall': 0.49776230730979615, 'f1-score': 0.48896849303915985, 'support': 12066}\n"
          ],
          "name": "stdout"
        }
      ]
    },
    {
      "cell_type": "markdown",
      "metadata": {
        "id": "vM2kUNFAg25W"
      },
      "source": [
        "# summary\n",
        "\n",
        "So i added dropout to the output layer and even when the training can get nice acc, with validation/test we are still on very bad footing. Lets try using a embedding layer after input."
      ]
    }
  ]
}